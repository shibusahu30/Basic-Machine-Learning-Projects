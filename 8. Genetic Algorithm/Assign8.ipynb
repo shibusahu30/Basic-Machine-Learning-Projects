{
  "nbformat": 4,
  "nbformat_minor": 0,
  "metadata": {
    "colab": {
      "name": "Assign8_117CS0259.ipynb",
      "provenance": []
    },
    "kernelspec": {
      "name": "python3",
      "display_name": "Python 3"
    }
  },
  "cells": [
    {
      "cell_type": "markdown",
      "metadata": {
        "id": "lqLq7UNlvh8_"
      },
      "source": [
        "# Genetic Algotithm"
      ]
    },
    {
      "cell_type": "markdown",
      "metadata": {
        "id": "trKqY5GTvj1z"
      },
      "source": [
        "##1.1 Meintenance Scheduling"
      ]
    },
    {
      "cell_type": "code",
      "metadata": {
        "id": "hlEcCOIBvrPd"
      },
      "source": [
        "import random\n",
        "import matplotlib.pyplot as plt"
      ],
      "execution_count": null,
      "outputs": []
    },
    {
      "cell_type": "code",
      "metadata": {
        "id": "xu31q7dWTQRZ"
      },
      "source": [
        "def init_chromosome_first(meintenance, gene_size = 4):\n",
        "  \"\"\"\n",
        "  Argument:\n",
        "    meintenance -- Number of intervals required for unit maintenance during one year\n",
        "    gene_size -- each gene consistes of number of binary bits i.e. length of each gene\n",
        "    \n",
        "  Returns:\n",
        "    chromosome -- a chromosome\n",
        "  \"\"\"\n",
        "  chromosome = []\n",
        "  for i in range(len(meintenance)):\n",
        "    gene = [0]*gene_size\n",
        "    positions = random.sample(range(0, gene_size), meintenance[i])\n",
        "    for pos in positions:\n",
        "      gene[pos] = 1\n",
        "    chromosome.append(gene)\n",
        "  \n",
        "  return chromosome"
      ],
      "execution_count": null,
      "outputs": []
    },
    {
      "cell_type": "code",
      "metadata": {
        "id": "3qbT8nHiU82t",
        "colab": {
          "base_uri": "https://localhost:8080/"
        },
        "outputId": "3afcb1d0-c247-436a-b32c-3cf1b97cd93d"
      },
      "source": [
        "# check for above method\n",
        "unit_capacity = [20, 15, 35, 40, 15, 15, 10]\n",
        "unit_meintenance = [2, 2, 1, 1, 1, 1, 1]\n",
        "init_chromosome_first(unit_meintenance, 4)"
      ],
      "execution_count": null,
      "outputs": [
        {
          "output_type": "execute_result",
          "data": {
            "text/plain": [
              "[[0, 0, 1, 1],\n",
              " [1, 0, 1, 0],\n",
              " [0, 1, 0, 0],\n",
              " [0, 1, 0, 0],\n",
              " [0, 0, 1, 0],\n",
              " [1, 0, 0, 0],\n",
              " [0, 0, 1, 0]]"
            ]
          },
          "metadata": {
            "tags": []
          },
          "execution_count": 3
        }
      ]
    },
    {
      "cell_type": "code",
      "metadata": {
        "id": "4pkXcRHqVYfz"
      },
      "source": [
        "def calc_fitness_first(chromosome, capacity, max_load, gene_size = 4):\n",
        "  \"\"\"\n",
        "  Argument:\n",
        "    chromosome -- a list of length equal to number of queens\n",
        "    capacity -- Unit capacity, (in MW)\n",
        "    max_load -- maximum load \n",
        "    gene_size -- each gene consistes of number of binary bits i.e. length of each gene\n",
        "  Returns:\n",
        "    fitness -- score for given chromosome\n",
        "  \"\"\"\n",
        "  fitness_interval = [0]*gene_size\n",
        "  for i in range(len(chromosome)):\n",
        "    for j in range(len(chromosome[i])):\n",
        "      fitness_interval[j] += chromosome[i][j] * capacity[i]\n",
        "\n",
        "  # print(fitness_interval)\n",
        "\n",
        "  total_capacity = sum(capacity)\n",
        "  fitness_interval = [total_capacity - fit for fit in fitness_interval]\n",
        "  # print(fitness_interval)\n",
        "\n",
        "  for i in range(len(fitness_interval)):\n",
        "    fitness_interval[i] -= max_load[i]\n",
        "  # print(fitness_interval)\n",
        "\n",
        "  fitness = min(fitness_interval)\n",
        "  if fitness < 0:\n",
        "    fitness = 0\n",
        "  return fitness"
      ],
      "execution_count": null,
      "outputs": []
    },
    {
      "cell_type": "code",
      "metadata": {
        "id": "pEGi0Sd8X71H",
        "colab": {
          "base_uri": "https://localhost:8080/"
        },
        "outputId": "7e352a5c-5f5c-4b18-9a72-46af25cbd0b6"
      },
      "source": [
        "# check for above method\n",
        "x = init_chromosome_first(unit_meintenance, 4)\n",
        "print(x)\n",
        "max_load = [80, 90, 65, 70]\n",
        "calc_fitness_first(x, unit_capacity, max_load, 4)"
      ],
      "execution_count": null,
      "outputs": [
        {
          "output_type": "stream",
          "text": [
            "[[0, 0, 1, 1], [0, 1, 1, 0], [0, 0, 1, 0], [1, 0, 0, 0], [0, 0, 0, 1], [1, 0, 0, 0], [0, 1, 0, 0]]\n"
          ],
          "name": "stdout"
        },
        {
          "output_type": "execute_result",
          "data": {
            "text/plain": [
              "15"
            ]
          },
          "metadata": {
            "tags": []
          },
          "execution_count": 5
        }
      ]
    },
    {
      "cell_type": "code",
      "metadata": {
        "id": "79UNun1Faw1e"
      },
      "source": [
        "def selection_first(population, probabilities): # select two chromosomes from population for hybridization\n",
        "  \"\"\"\n",
        "  Argument:\n",
        "    population -- consists of all chromosomes\n",
        "    probabilities -- corresponding probability of each chromosome\n",
        "    \n",
        "  Returns:\n",
        "     -- selected chromosome\n",
        "  \"\"\"\n",
        "  map = zip(population, probabilities)\n",
        "  thresold = random.uniform(0, 1)\n",
        "  upto = 0\n",
        "\n",
        "  for k, v in map:\n",
        "    if upto + v >= thresold:\n",
        "      return k\n",
        "    upto += v\n",
        "\n",
        "  return population[0]"
      ],
      "execution_count": null,
      "outputs": []
    },
    {
      "cell_type": "code",
      "metadata": {
        "id": "dwdVesTnbLLe"
      },
      "source": [
        "def crossover_first(chromosome1, chromosome2): # crossover of two randomly selected chromosomes\n",
        "  \"\"\"\n",
        "  Argument:\n",
        "    chromosome1 -- CHROMOSOME 1\n",
        "    chromosome2 -- CHROMOSOME 2\n",
        "    \n",
        "  Returns:\n",
        "     -- return crossed two chromosome\n",
        "  \"\"\"\n",
        "  n = len(chromosome1)\n",
        "  c = random.randint(0, n - 1)\n",
        "  chr1 = chromosome1[0:c] + chromosome2[c:n]\n",
        "  chr2 = chromosome2[0:c] + chromosome1[c:n]\n",
        "\n",
        "  return chr1, chr2"
      ],
      "execution_count": null,
      "outputs": []
    },
    {
      "cell_type": "code",
      "metadata": {
        "id": "oDONKFqVDPN5",
        "colab": {
          "base_uri": "https://localhost:8080/"
        },
        "outputId": "dfcbc31a-8691-43b9-e472-a1ae55f0a319"
      },
      "source": [
        "# check for above method\n",
        "chr1 = init_chromosome_first(unit_meintenance, 4)\n",
        "chr2 = init_chromosome_first(unit_meintenance, 4)\n",
        "print(chr1)\n",
        "print(chr2)\n",
        "crossover_first(chr1, chr2)"
      ],
      "execution_count": null,
      "outputs": [
        {
          "output_type": "stream",
          "text": [
            "[[0, 0, 1, 1], [0, 1, 0, 1], [0, 0, 1, 0], [0, 0, 0, 1], [1, 0, 0, 0], [0, 0, 1, 0], [0, 0, 1, 0]]\n",
            "[[1, 0, 0, 1], [1, 0, 1, 0], [0, 0, 1, 0], [0, 1, 0, 0], [1, 0, 0, 0], [0, 1, 0, 0], [0, 0, 1, 0]]\n"
          ],
          "name": "stdout"
        },
        {
          "output_type": "execute_result",
          "data": {
            "text/plain": [
              "([[0, 0, 1, 1],\n",
              "  [0, 1, 0, 1],\n",
              "  [0, 0, 1, 0],\n",
              "  [0, 0, 0, 1],\n",
              "  [1, 0, 0, 0],\n",
              "  [0, 1, 0, 0],\n",
              "  [0, 0, 1, 0]],\n",
              " [[1, 0, 0, 1],\n",
              "  [1, 0, 1, 0],\n",
              "  [0, 0, 1, 0],\n",
              "  [0, 1, 0, 0],\n",
              "  [1, 0, 0, 0],\n",
              "  [0, 0, 1, 0],\n",
              "  [0, 0, 1, 0]])"
            ]
          },
          "metadata": {
            "tags": []
          },
          "execution_count": 8
        }
      ]
    },
    {
      "cell_type": "code",
      "metadata": {
        "id": "zqoBg7GLbbO0"
      },
      "source": [
        "def mutate_first(chromosome, gene_size = 4): # mutation of a chromosome at a gene\n",
        "  \"\"\"\n",
        "  Argument:\n",
        "    chromosome -- CHROMOSOME \n",
        "    \n",
        "  Returns:\n",
        "     -- return mutate chromosome\n",
        "  \"\"\"\n",
        "  n = len(chromosome)\n",
        "  c = random.randint(0, n - 1)\n",
        "\n",
        "  x = chromosome[c]\n",
        "  s = sum(x)\n",
        "  gene = [0]*gene_size\n",
        "  positions = random.sample(range(0, gene_size), s)\n",
        "  for pos in positions:\n",
        "      gene[pos] = 1\n",
        "  chromosome[c] = gene\n",
        "\n",
        "  return chromosome"
      ],
      "execution_count": null,
      "outputs": []
    },
    {
      "cell_type": "code",
      "metadata": {
        "id": "KufvWbTscAJ3",
        "colab": {
          "base_uri": "https://localhost:8080/"
        },
        "outputId": "d8d35144-633a-4a7b-adc6-910f86b5283d"
      },
      "source": [
        "# check for above method\n",
        "print(x)\n",
        "x = mutate_first(x)\n",
        "print(x)"
      ],
      "execution_count": null,
      "outputs": [
        {
          "output_type": "stream",
          "text": [
            "[[0, 0, 1, 1], [0, 1, 1, 0], [0, 0, 1, 0], [1, 0, 0, 0], [0, 0, 0, 1], [1, 0, 0, 0], [0, 1, 0, 0]]\n",
            "[[0, 0, 1, 1], [1, 0, 0, 1], [0, 0, 1, 0], [1, 0, 0, 0], [0, 0, 0, 1], [1, 0, 0, 0], [0, 1, 0, 0]]\n"
          ],
          "name": "stdout"
        }
      ]
    },
    {
      "cell_type": "code",
      "metadata": {
        "id": "0TwW6fhfwnxE"
      },
      "source": [
        "def hybrid_first(population, capacity, maintenance, max_load, gene_size, probability_mutation = 0.01): # hybridization of chromosomes\n",
        "  \"\"\"\n",
        "  Argument:\n",
        "    population           -- collection of chromosomes\n",
        "    capacity             -- Unit capacity, (in MW)\n",
        "    meintenance          -- Number of intervals required for unit maintenance during one year\n",
        "    max_load             -- maximum load \n",
        "    gene_size            -- each gene consistes of number of binary bits i.e. length of each gene\n",
        "    probability_mutation -- mutation probability\n",
        "    \n",
        "  Returns:\n",
        "    new_population       -- return new population after successful hybridization\n",
        "  \"\"\"\n",
        "  new_population = []\n",
        "\n",
        "  total_fitness = sum([calc_fitness_first(chromosome, capacity, max_load, gene_size) for chromosome in population])\n",
        "  probabilities = [calc_fitness_first(chromosome, capacity, max_load, gene_size)/total_fitness for chromosome in population]\n",
        "  \n",
        "  for i in range(len(population)//2):\n",
        "    chrom1 = selection_first(population, probabilities)\n",
        "    chrom2 = selection_first(population, probabilities)\n",
        "\n",
        "    c1, c2 = crossover_first(chrom1, chrom2)\n",
        "\n",
        "    if random.random() < probability_mutation:\n",
        "      c1 = mutate_first(c1, gene_size)\n",
        "    if random.random() < probability_mutation:\n",
        "      c2 = mutate_first(c2, gene_size)\n",
        "    \n",
        "    new_population.append(c1)\n",
        "    new_population.append(c2)\n",
        "    \n",
        "  return new_population"
      ],
      "execution_count": null,
      "outputs": []
    },
    {
      "cell_type": "code",
      "metadata": {
        "id": "D7m-BBBPwgDu"
      },
      "source": [
        "# Initialization\n",
        "unit_capacity = [20, 15, 35, 40, 15, 15, 10]\n",
        "unit_meintenance = [2, 2, 1, 1, 1, 1, 1]\n",
        "max_load = [80, 90, 65, 70]\n",
        "\n",
        "gene_size = 4"
      ],
      "execution_count": null,
      "outputs": []
    },
    {
      "cell_type": "code",
      "metadata": {
        "id": "qC1B_yzpaSOB"
      },
      "source": [
        "number_populations = 20\n",
        "init_population = [init_chromosome_first(unit_meintenance, gene_size) for i in range(number_populations)]\n",
        "# print(init_population)"
      ],
      "execution_count": null,
      "outputs": []
    },
    {
      "cell_type": "markdown",
      "metadata": {
        "id": "7zX0ScbjYJX-"
      },
      "source": [
        "###1.1.1 With 100 generations and Mutation probability of 0.01"
      ]
    },
    {
      "cell_type": "code",
      "metadata": {
        "id": "_MeuZR86wnXb"
      },
      "source": [
        "# Main Method\n",
        "generations = 0\n",
        "net_res_arr = []\n",
        "generations_arr = []\n",
        "probability_mutation = 0.01\n",
        "\n",
        "fitness_arr = []\n",
        "population = init_population\n",
        "for i in range(len(population)):\n",
        "  fitness_arr.append(calc_fitness_first(population[i], unit_capacity, max_load, gene_size))\n",
        "generations_arr.append(generations)\n",
        "net_res_arr.append(min(fitness_arr))\n",
        "# print(generations_arr)\n",
        "# print(net_res_arr)\n",
        "\n",
        "\n",
        "while generations < 100:\n",
        "  population = hybrid_first(population, unit_capacity, unit_meintenance, max_load, gene_size, probability_mutation)\n",
        "  fitness_arr = []\n",
        "  for i in range(len(population)):\n",
        "    fitness_arr.append(calc_fitness_first(population[i], unit_capacity, max_load, gene_size))\n",
        "  generations_arr.append(generations)\n",
        "  net_res_arr.append(min(fitness_arr))\n",
        "  generations += 1\n",
        "\n",
        "# print(generations_arr)\n",
        "# print(net_res_arr)"
      ],
      "execution_count": null,
      "outputs": []
    },
    {
      "cell_type": "code",
      "metadata": {
        "id": "4d-i0Vmo4q7B",
        "colab": {
          "base_uri": "https://localhost:8080/",
          "height": 312
        },
        "outputId": "b9932420-c73e-4bdc-e739-6a4a8bc096fe"
      },
      "source": [
        "plt.plot(generations_arr, net_res_arr)\n",
        "plt.xlabel(\"Generations\")\n",
        "plt.ylabel(\"Fitness\")\n",
        "plt.title(\"N = 100 and probability of mutation = 0.01\")"
      ],
      "execution_count": null,
      "outputs": [
        {
          "output_type": "execute_result",
          "data": {
            "text/plain": [
              "Text(0.5, 1.0, 'N = 100 and probability of mutation = 0.01')"
            ]
          },
          "metadata": {
            "tags": []
          },
          "execution_count": 15
        },
        {
          "output_type": "display_data",
          "data": {
            "image/png": "[encoded data removed]",
            "text/plain": [
              "<Figure size 432x288 with 1 Axes>"
            ]
          },
          "metadata": {
            "tags": [],
            "needs_background": "light"
          }
        }
      ]
    },
    {
      "cell_type": "markdown",
      "metadata": {
        "id": "6WnRKLq-Y8gc"
      },
      "source": [
        "###1.1.2 With 100 generations and Mutation probability of 0.001"
      ]
    },
    {
      "cell_type": "code",
      "metadata": {
        "id": "3guaICg4ZL98"
      },
      "source": [
        "# Main Method\n",
        "generations = 0\n",
        "net_res_arr = []\n",
        "generations_arr = []\n",
        "probability_mutation = 0.001\n",
        "\n",
        "fitness_arr = []\n",
        "population = init_population\n",
        "for i in range(len(population)):\n",
        "  fitness_arr.append(calc_fitness_first(population[i], unit_capacity, max_load, gene_size))\n",
        "generations_arr.append(generations)\n",
        "net_res_arr.append(min(fitness_arr))\n",
        "# print(generations_arr)\n",
        "# print(net_res_arr)\n",
        "\n",
        "\n",
        "while generations < 100:\n",
        "  population = hybrid_first(population, unit_capacity, unit_meintenance, max_load, gene_size, probability_mutation)\n",
        "  fitness_arr = []\n",
        "  for i in range(len(population)):\n",
        "    fitness_arr.append(calc_fitness_first(population[i], unit_capacity, max_load, gene_size))\n",
        "  generations_arr.append(generations)\n",
        "  net_res_arr.append(min(fitness_arr))\n",
        "  generations += 1\n",
        "\n",
        "# print(generations_arr)\n",
        "# print(net_res_arr)"
      ],
      "execution_count": null,
      "outputs": []
    },
    {
      "cell_type": "code",
      "metadata": {
        "id": "7scTXoqSZf4E",
        "colab": {
          "base_uri": "https://localhost:8080/",
          "height": 312
        },
        "outputId": "c3beea7a-b4ca-4f23-e93b-4eaea0e53d09"
      },
      "source": [
        "plt.plot(generations_arr, net_res_arr)\n",
        "plt.xlabel(\"Generations\")\n",
        "plt.ylabel(\"Fitness\")\n",
        "plt.title(\"N = 100 and probability of mutation = 0.001\")"
      ],
      "execution_count": null,
      "outputs": [
        {
          "output_type": "execute_result",
          "data": {
            "text/plain": [
              "Text(0.5, 1.0, 'N = 100 and probability of mutation = 0.001')"
            ]
          },
          "metadata": {
            "tags": []
          },
          "execution_count": 34
        },
        {
          "output_type": "display_data",
          "data": {
            "image/png": "[encoded data removed]",
            "text/plain": [
              "<Figure size 432x288 with 1 Axes>"
            ]
          },
          "metadata": {
            "tags": [],
            "needs_background": "light"
          }
        }
      ]
    },
    {
      "cell_type": "markdown",
      "metadata": {
        "id": "gwBwHG3Yvn25"
      },
      "source": [
        "## 1.2 N-Queen Problem "
      ]
    },
    {
      "cell_type": "code",
      "metadata": {
        "id": "cp8r1H1Av-vG"
      },
      "source": [
        "import random"
      ],
      "execution_count": null,
      "outputs": []
    },
    {
      "cell_type": "code",
      "metadata": {
        "id": "bgdkrAzewKkp"
      },
      "source": [
        "def init_chromosome(noQueens): # initialize chromosome with random values\n",
        "  \"\"\"\n",
        "  Argument:\n",
        "    noQueens -- number of queens\n",
        "    \n",
        "  Returns:\n",
        "    chromosome -- a chromosome of length number of queens with random queen position\n",
        "  \"\"\"\n",
        "  chromosome = [random.randint(1, noQueens) for _ in range(noQueens)]\n",
        "  return chromosome"
      ],
      "execution_count": null,
      "outputs": []
    },
    {
      "cell_type": "code",
      "metadata": {
        "id": "_sGV3oIEtbMZ",
        "colab": {
          "base_uri": "https://localhost:8080/"
        },
        "outputId": "48687ff1-7f1f-4525-eba1-efac1a8705b6"
      },
      "source": [
        "init_chromosome(8) # check for above method"
      ],
      "execution_count": null,
      "outputs": [
        {
          "output_type": "execute_result",
          "data": {
            "text/plain": [
              "[4, 6, 8, 6, 4, 4, 5, 6]"
            ]
          },
          "metadata": {
            "tags": []
          },
          "execution_count": 20
        }
      ]
    },
    {
      "cell_type": "code",
      "metadata": {
        "id": "qT70zTuf2iEe"
      },
      "source": [
        "def calc_fitness(chromosome): # calculate fitness of a chromosome\n",
        "  \"\"\"\n",
        "  Argument:\n",
        "    chromosome -- a list of length equal to number of queens\n",
        "    \n",
        "  Returns:\n",
        "    fitness -- number of queens in valid order\n",
        "  \"\"\"\n",
        "  \n",
        "  inv_horizontal = 0\n",
        "  for i in range(len(chromosome)):\n",
        "    for j in range(i+1, len(chromosome)):\n",
        "      if chromosome[i] == chromosome[j]:\n",
        "        inv_horizontal += 1\n",
        "\n",
        "  # print(inv_horizontal)\n",
        "  n = len(chromosome)\n",
        "  inv_vertical = 0\n",
        "\n",
        "  for i in range(len(chromosome)):\n",
        "    c = 1\n",
        "    for j in range(i+1, len(chromosome)):\n",
        "      if chromosome[i]+c <= n and chromosome[i]+c == chromosome[j]:\n",
        "        inv_vertical += 1\n",
        "      if chromosome[i]-c > 0 and chromosome[i]-c == chromosome[j]:\n",
        "        inv_vertical += 1\n",
        "      c += 1\n",
        "      \n",
        "  # print(inv_vertical)\n",
        "\n",
        "  maxFitness = (n*(n-1))//2\n",
        "  return maxFitness - (inv_horizontal + inv_vertical)"
      ],
      "execution_count": null,
      "outputs": []
    },
    {
      "cell_type": "code",
      "metadata": {
        "id": "EUcea3Br3tOo",
        "colab": {
          "base_uri": "https://localhost:8080/"
        },
        "outputId": "7f2a486b-ef32-4bdd-94a2-80befb9112f4"
      },
      "source": [
        "# check for above method\n",
        "l = [2, 4, 7, 4, 8, 5, 5, 2]\n",
        "print(\"Fitness for\", l, \"is:\", calc_fitness(l))\n",
        "l = [3, 2, 7, 5, 2, 4, 1, 1]\n",
        "print(\"Fitness for\", l, \"is:\", calc_fitness(l))\n",
        "l = [2, 4, 4, 1, 5, 1, 2, 4]\n",
        "print(\"Fitness for\", l, \"is:\", calc_fitness(l))\n",
        "l = [3, 2, 5, 4, 3, 2, 1, 3]\n",
        "print(\"Fitness for\", l, \"is:\", calc_fitness(l))"
      ],
      "execution_count": null,
      "outputs": [
        {
          "output_type": "stream",
          "text": [
            "Fitness for [2, 4, 7, 4, 8, 5, 5, 2] is: 24\n",
            "Fitness for [3, 2, 7, 5, 2, 4, 1, 1] is: 23\n",
            "Fitness for [2, 4, 4, 1, 5, 1, 2, 4] is: 20\n",
            "Fitness for [3, 2, 5, 4, 3, 2, 1, 3] is: 11\n"
          ],
          "name": "stdout"
        }
      ]
    },
    {
      "cell_type": "code",
      "metadata": {
        "id": "xGAZpQ8j0L48"
      },
      "source": [
        "def selection(population, probabilities): # select two chromosomes from population for hybridization\n",
        "  \"\"\"\n",
        "  Argument:\n",
        "    population -- consists of all chromosomes\n",
        "    probabilities -- corresponding probability of each chromosome\n",
        "    \n",
        "  Returns:\n",
        "     -- selected chromosome\n",
        "  \"\"\"\n",
        "  map = zip(population, probabilities)\n",
        "  thresold = random.uniform(0, 1)\n",
        "  upto = 0\n",
        "\n",
        "  for k, v in map:\n",
        "    if upto + v >= thresold:\n",
        "      return k\n",
        "    upto += v\n",
        "\n",
        "  return population[0]"
      ],
      "execution_count": null,
      "outputs": []
    },
    {
      "cell_type": "code",
      "metadata": {
        "id": "DhjNjkQb3-NA"
      },
      "source": [
        "def cross_over(chromosome1, chromosome2): # crossover of two randomly selected chromosomes\n",
        "  \"\"\"\n",
        "  Argument:\n",
        "    chromosome1 -- CHROMOSOME 1\n",
        "    chromosome2 -- CHROMOSOME 2\n",
        "    \n",
        "  Returns:\n",
        "     -- return crossed two chromosome\n",
        "  \"\"\"\n",
        "  n = len(chromosome1)\n",
        "  c = random.randint(0, n - 1)\n",
        "  chr1 = chromosome1[0:c] + chromosome2[c:n]\n",
        "  chr2 = chromosome2[0:c] + chromosome1[c:n]\n",
        "\n",
        "  return chr1, chr2"
      ],
      "execution_count": null,
      "outputs": []
    },
    {
      "cell_type": "code",
      "metadata": {
        "id": "BQFpQiWZEy_Z"
      },
      "source": [
        "def mutate(chromosome): # mutation of a chromosome at a gene\n",
        "  \"\"\"\n",
        "  Argument:\n",
        "    chromosome -- CHROMOSOME \n",
        "    \n",
        "  Returns:\n",
        "     -- return mutate chromosome\n",
        "  \"\"\"\n",
        "  n = len(chromosome)\n",
        "  c = random.randint(0, n - 1)\n",
        "  m = random.randint(1, n)\n",
        "  chromosome[c] = m\n",
        "\n",
        "  return chromosome"
      ],
      "execution_count": null,
      "outputs": []
    },
    {
      "cell_type": "code",
      "metadata": {
        "id": "mEEk9cr4llq-"
      },
      "source": [
        "def hybrid(population, maxFitness): # hybridization of chromosomes\n",
        "  \"\"\"\n",
        "  Argument:\n",
        "    population -- collection of chromosomes\n",
        "    maxFitness -- maximum fitness of valid n-queen arrangement\n",
        "    \n",
        "  Returns:\n",
        "    new_population -- return new population after successful hybridization\n",
        "  \"\"\"\n",
        "  probability_mutation = 0.03\n",
        "  new_population = []\n",
        "\n",
        "  total_fitness = sum([calc_fitness(chromosome) for chromosome in population])\n",
        "  probabilities = [calc_fitness(chromosome)/total_fitness for chromosome in population]\n",
        "  \n",
        "  for i in range(len(population)//2):\n",
        "    chrom1 = selection(population, probabilities)\n",
        "    chrom2 = selection(population, probabilities)\n",
        "\n",
        "    c1, c2 = cross_over(chrom1, chrom2)\n",
        "\n",
        "    if random.random() < probability_mutation:\n",
        "      c1 = mutate(c1)\n",
        "    if random.random() < probability_mutation:\n",
        "      c2 = mutate(c2)\n",
        "    \n",
        "    new_population.append(c1)\n",
        "    new_population.append(c2)\n",
        "\n",
        "    if calc_fitness(c1) == maxFitness or calc_fitness(c2) == maxFitness:\n",
        "      break\n",
        "    \n",
        "  return new_population"
      ],
      "execution_count": null,
      "outputs": []
    },
    {
      "cell_type": "code",
      "metadata": {
        "id": "5pFoB4yzLp59"
      },
      "source": [
        "# Initialization \n",
        "noQueens = 8\n",
        "no_population = 50"
      ],
      "execution_count": null,
      "outputs": []
    },
    {
      "cell_type": "code",
      "metadata": {
        "id": "bsyJuJVmwd3e",
        "colab": {
          "base_uri": "https://localhost:8080/"
        },
        "outputId": "015002df-f531-4595-cfaa-e6f7b71e9d93"
      },
      "source": [
        "# Main method \n",
        "maxFitness = (noQueens*(noQueens-1))//2\n",
        "population = [init_chromosome(noQueens) for i in range(no_population)]\n",
        "\n",
        "generations = 1\n",
        "\n",
        "while not maxFitness in [calc_fitness(chromosome) for chromosome in population]:\n",
        "  population = hybrid(population, maxFitness)\n",
        "  generations += 1\n",
        "\n",
        "print(\"=== After {} number of generations ===\".format(generations))\n",
        "\n",
        "for chromosome in population:\n",
        "  if calc_fitness(chromosome) == maxFitness:\n",
        "    print(\"One of the valid solutions is:\",chromosome)"
      ],
      "execution_count": null,
      "outputs": [
        {
          "output_type": "stream",
          "text": [
            "=== After 3442 number of generations ===\n",
            "One of the valid solutions is: [3, 6, 2, 5, 8, 1, 7, 4]\n"
          ],
          "name": "stdout"
        }
      ]
    }
  ]
}