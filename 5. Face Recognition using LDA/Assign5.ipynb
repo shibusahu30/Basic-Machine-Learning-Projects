{
  "nbformat": 4,
  "nbformat_minor": 0,
  "metadata": {
    "colab": {
      "name": "Assign5_117CS0259.ipynb",
      "provenance": [],
      "collapsed_sections": []
    },
    "kernelspec": {
      "name": "python3",
      "display_name": "Python 3"
    }
  },
  "cells": [
    {
      "cell_type": "markdown",
      "metadata": {
        "id": "Y3i8yZ4Uj3bg"
      },
      "source": [
        "# Face Recognition Using LDA(Linear Discriminant Analysis)"
      ]
    },
    {
      "cell_type": "markdown",
      "metadata": {
        "id": "bZjcrutSkEMJ"
      },
      "source": [
        "##1. Dataset Upload and Extract"
      ]
    },
    {
      "cell_type": "markdown",
      "metadata": {
        "id": "I4fbmheGkJgn"
      },
      "source": [
        "### 1.1 Dataset Upload"
      ]
    },
    {
      "cell_type": "code",
      "metadata": {
        "id": "JpgZT_URTWsi",
        "outputId": "fefcc351-2204-4fe1-b3c3-2a6cf6d66066",
        "colab": {
          "resources": {
            "http://localhost:8080/nbextensions/google.colab/files.js": {
              "data": "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",
              "ok": true,
              "headers": [
                [
                  "content-type",
                  "application/javascript"
                ]
              ],
              "status": 200,
              "status_text": ""
            }
          },
          "base_uri": "https://localhost:8080/",
          "height": 73
        }
      },
      "source": [
        "# import dataset\n",
        "from google.colab import files\n",
        "uploaded = files.upload()"
      ],
      "execution_count": 1,
      "outputs": [
        {
          "output_type": "display_data",
          "data": {
            "text/html": [
              "\n",
              "     <input type=\"file\" id=\"files-13c5e8d5-2198-4a1f-9312-b54e95957492\" name=\"files[]\" multiple disabled\n",
              "        style=\"border:none\" />\n",
              "     <output id=\"result-13c5e8d5-2198-4a1f-9312-b54e95957492\">\n",
              "      Upload widget is only available when the cell has been executed in the\n",
              "      current browser session. Please rerun this cell to enable.\n",
              "      </output>\n",
              "      <script src=\"/nbextensions/google.colab/files.js\"></script> "
            ],
            "text/plain": [
              "<IPython.core.display.HTML object>"
            ]
          },
          "metadata": {
            "tags": []
          }
        },
        {
          "output_type": "stream",
          "text": [
            "Saving att_faces_ORG.zip to att_faces_ORG.zip\n"
          ],
          "name": "stdout"
        }
      ]
    },
    {
      "cell_type": "markdown",
      "metadata": {
        "id": "rI3rL7GYkQMr"
      },
      "source": [
        "### 1.2 Dataset Extract"
      ]
    },
    {
      "cell_type": "code",
      "metadata": {
        "id": "UEnW7lVME0us",
        "outputId": "dad6d102-fc3a-4377-c2bd-5476ad8f1cbd",
        "colab": {
          "base_uri": "https://localhost:8080/",
          "height": 1000
        }
      },
      "source": [
        "!unzip att_faces_ORG.zip"
      ],
      "execution_count": 2,
      "outputs": [
        {
          "output_type": "stream",
          "text": [
            "Archive:  att_faces_ORG.zip\n",
            "   creating: att_faces/\n",
            "  inflating: att_faces/README        \n",
            "   creating: att_faces/s1/\n",
            "   creating: att_faces/s10/\n",
            "  inflating: att_faces/s10/1.pgm     \n",
            "  inflating: att_faces/s10/10.pgm    \n",
            "  inflating: att_faces/s10/2.pgm     \n",
            "  inflating: att_faces/s10/3.pgm     \n",
            "  inflating: att_faces/s10/4.pgm     \n",
            "  inflating: att_faces/s10/5.pgm     \n",
            "  inflating: att_faces/s10/6.pgm     \n",
            "  inflating: att_faces/s10/7.pgm     \n",
            "  inflating: att_faces/s10/8.pgm     \n",
            "  inflating: att_faces/s10/9.pgm     \n",
            "   creating: att_faces/s11/\n",
            "  inflating: att_faces/s11/1.pgm     \n",
            "  inflating: att_faces/s11/10.pgm    \n",
            "  inflating: att_faces/s11/2.pgm     \n",
            "  inflating: att_faces/s11/3.pgm     \n",
            "  inflating: att_faces/s11/4.pgm     \n",
            "  inflating: att_faces/s11/5.pgm     \n",
            "  inflating: att_faces/s11/6.pgm     \n",
            "  inflating: att_faces/s11/7.pgm     \n",
            "  inflating: att_faces/s11/8.pgm     \n",
            "  inflating: att_faces/s11/9.pgm     \n",
            "   creating: att_faces/s12/\n",
            "  inflating: att_faces/s12/1.pgm     \n",
            "  inflating: att_faces/s12/10.pgm    \n",
            "  inflating: att_faces/s12/2.pgm     \n",
            "  inflating: att_faces/s12/3.pgm     \n",
            "  inflating: att_faces/s12/4.pgm     \n",
            "  inflating: att_faces/s12/5.pgm     \n",
            "  inflating: att_faces/s12/6.pgm     \n",
            "  inflating: att_faces/s12/7.pgm     \n",
            "  inflating: att_faces/s12/8.pgm     \n",
            "  inflating: att_faces/s12/9.pgm     \n",
            "   creating: att_faces/s13/\n",
            "  inflating: att_faces/s13/1.pgm     \n",
            "  inflating: att_faces/s13/10.pgm    \n",
            "  inflating: att_faces/s13/2.pgm     \n",
            "  inflating: att_faces/s13/3.pgm     \n",
            "  inflating: att_faces/s13/4.pgm     \n",
            "  inflating: att_faces/s13/5.pgm     \n",
            "  inflating: att_faces/s13/6.pgm     \n",
            "  inflating: att_faces/s13/7.pgm     \n",
            "  inflating: att_faces/s13/8.pgm     \n",
            "  inflating: att_faces/s13/9.pgm     \n",
            "   creating: att_faces/s14/\n",
            "  inflating: att_faces/s14/1.pgm     \n",
            "  inflating: att_faces/s14/10.pgm    \n",
            "  inflating: att_faces/s14/2.pgm     \n",
            "  inflating: att_faces/s14/3.pgm     \n",
            "  inflating: att_faces/s14/4.pgm     \n",
            "  inflating: att_faces/s14/5.pgm     \n",
            "  inflating: att_faces/s14/6.pgm     \n",
            "  inflating: att_faces/s14/7.pgm     \n",
            "  inflating: att_faces/s14/8.pgm     \n",
            "  inflating: att_faces/s14/9.pgm     \n",
            "   creating: att_faces/s15/\n",
            "  inflating: att_faces/s15/1.pgm     \n",
            "  inflating: att_faces/s15/10.pgm    \n",
            "  inflating: att_faces/s15/2.pgm     \n",
            "  inflating: att_faces/s15/3.pgm     \n",
            "  inflating: att_faces/s15/4.pgm     \n",
            "  inflating: att_faces/s15/5.pgm     \n",
            "  inflating: att_faces/s15/6.pgm     \n",
            "  inflating: att_faces/s15/7.pgm     \n",
            "  inflating: att_faces/s15/8.pgm     \n",
            "  inflating: att_faces/s15/9.pgm     \n",
            "   creating: att_faces/s16/\n",
            "  inflating: att_faces/s16/1.pgm     \n",
            "  inflating: att_faces/s16/10.pgm    \n",
            "  inflating: att_faces/s16/2.pgm     \n",
            "  inflating: att_faces/s16/3.pgm     \n",
            "  inflating: att_faces/s16/4.pgm     \n",
            "  inflating: att_faces/s16/5.pgm     \n",
            "  inflating: att_faces/s16/6.pgm     \n",
            "  inflating: att_faces/s16/7.pgm     \n",
            "  inflating: att_faces/s16/8.pgm     \n",
            "  inflating: att_faces/s16/9.pgm     \n",
            "   creating: att_faces/s17/\n",
            "  inflating: att_faces/s17/1.pgm     \n",
            "  inflating: att_faces/s17/10.pgm    \n",
            "  inflating: att_faces/s17/2.pgm     \n",
            "  inflating: att_faces/s17/3.pgm     \n",
            "  inflating: att_faces/s17/4.pgm     \n",
            "  inflating: att_faces/s17/5.pgm     \n",
            "  inflating: att_faces/s17/6.pgm     \n",
            "  inflating: att_faces/s17/7.pgm     \n",
            "  inflating: att_faces/s17/8.pgm     \n",
            "  inflating: att_faces/s17/9.pgm     \n",
            "   creating: att_faces/s18/\n",
            "  inflating: att_faces/s18/1.pgm     \n",
            "  inflating: att_faces/s18/10.pgm    \n",
            "  inflating: att_faces/s18/2.pgm     \n",
            "  inflating: att_faces/s18/3.pgm     \n",
            "  inflating: att_faces/s18/4.pgm     \n",
            "  inflating: att_faces/s18/5.pgm     \n",
            "  inflating: att_faces/s18/6.pgm     \n",
            "  inflating: att_faces/s18/7.pgm     \n",
            "  inflating: att_faces/s18/8.pgm     \n",
            "  inflating: att_faces/s18/9.pgm     \n",
            "   creating: att_faces/s19/\n",
            "  inflating: att_faces/s19/1.pgm     \n",
            "  inflating: att_faces/s19/10.pgm    \n",
            "  inflating: att_faces/s19/2.pgm     \n",
            "  inflating: att_faces/s19/3.pgm     \n",
            "  inflating: att_faces/s19/4.pgm     \n",
            "  inflating: att_faces/s19/5.pgm     \n",
            "  inflating: att_faces/s19/6.pgm     \n",
            "  inflating: att_faces/s19/7.pgm     \n",
            "  inflating: att_faces/s19/8.pgm     \n",
            "  inflating: att_faces/s19/9.pgm     \n",
            "  inflating: att_faces/s1/1.pgm      \n",
            "  inflating: att_faces/s1/10.pgm     \n",
            "  inflating: att_faces/s1/2.pgm      \n",
            "  inflating: att_faces/s1/3.pgm      \n",
            "  inflating: att_faces/s1/4.pgm      \n",
            "  inflating: att_faces/s1/5.pgm      \n",
            "  inflating: att_faces/s1/6.pgm      \n",
            "  inflating: att_faces/s1/7.pgm      \n",
            "  inflating: att_faces/s1/8.pgm      \n",
            "  inflating: att_faces/s1/9.pgm      \n",
            "   creating: att_faces/s2/\n",
            "   creating: att_faces/s20/\n",
            "  inflating: att_faces/s20/1.pgm     \n",
            "  inflating: att_faces/s20/10.pgm    \n",
            "  inflating: att_faces/s20/2.pgm     \n",
            "  inflating: att_faces/s20/3.pgm     \n",
            "  inflating: att_faces/s20/4.pgm     \n",
            "  inflating: att_faces/s20/5.pgm     \n",
            "  inflating: att_faces/s20/6.pgm     \n",
            "  inflating: att_faces/s20/7.pgm     \n",
            "  inflating: att_faces/s20/8.pgm     \n",
            "  inflating: att_faces/s20/9.pgm     \n",
            "   creating: att_faces/s21/\n",
            "  inflating: att_faces/s21/1.pgm     \n",
            "  inflating: att_faces/s21/10.pgm    \n",
            "  inflating: att_faces/s21/2.pgm     \n",
            "  inflating: att_faces/s21/3.pgm     \n",
            "  inflating: att_faces/s21/4.pgm     \n",
            "  inflating: att_faces/s21/5.pgm     \n",
            "  inflating: att_faces/s21/6.pgm     \n",
            "  inflating: att_faces/s21/7.pgm     \n",
            "  inflating: att_faces/s21/8.pgm     \n",
            "  inflating: att_faces/s21/9.pgm     \n",
            "   creating: att_faces/s22/\n",
            "  inflating: att_faces/s22/1.pgm     \n",
            "  inflating: att_faces/s22/10.pgm    \n",
            "  inflating: att_faces/s22/2.pgm     \n",
            "  inflating: att_faces/s22/3.pgm     \n",
            "  inflating: att_faces/s22/4.pgm     \n",
            "  inflating: att_faces/s22/5.pgm     \n",
            "  inflating: att_faces/s22/6.pgm     \n",
            "  inflating: att_faces/s22/7.pgm     \n",
            "  inflating: att_faces/s22/8.pgm     \n",
            "  inflating: att_faces/s22/9.pgm     \n",
            "   creating: att_faces/s23/\n",
            "  inflating: att_faces/s23/1.pgm     \n",
            "  inflating: att_faces/s23/10.pgm    \n",
            "  inflating: att_faces/s23/2.pgm     \n",
            "  inflating: att_faces/s23/3.pgm     \n",
            "  inflating: att_faces/s23/4.pgm     \n",
            "  inflating: att_faces/s23/5.pgm     \n",
            "  inflating: att_faces/s23/6.pgm     \n",
            "  inflating: att_faces/s23/7.pgm     \n",
            "  inflating: att_faces/s23/8.pgm     \n",
            "  inflating: att_faces/s23/9.pgm     \n",
            "   creating: att_faces/s24/\n",
            "  inflating: att_faces/s24/1.pgm     \n",
            "  inflating: att_faces/s24/10.pgm    \n",
            "  inflating: att_faces/s24/2.pgm     \n",
            "  inflating: att_faces/s24/3.pgm     \n",
            "  inflating: att_faces/s24/4.pgm     \n",
            "  inflating: att_faces/s24/5.pgm     \n",
            "  inflating: att_faces/s24/6.pgm     \n",
            "  inflating: att_faces/s24/7.pgm     \n",
            "  inflating: att_faces/s24/8.pgm     \n",
            "  inflating: att_faces/s24/9.pgm     \n",
            "   creating: att_faces/s25/\n",
            "  inflating: att_faces/s25/1.pgm     \n",
            "  inflating: att_faces/s25/10.pgm    \n",
            "  inflating: att_faces/s25/2.pgm     \n",
            "  inflating: att_faces/s25/3.pgm     \n",
            "  inflating: att_faces/s25/4.pgm     \n",
            "  inflating: att_faces/s25/5.pgm     \n",
            "  inflating: att_faces/s25/6.pgm     \n",
            "  inflating: att_faces/s25/7.pgm     \n",
            "  inflating: att_faces/s25/8.pgm     \n",
            "  inflating: att_faces/s25/9.pgm     \n",
            "   creating: att_faces/s26/\n",
            "  inflating: att_faces/s26/1.pgm     \n",
            "  inflating: att_faces/s26/10.pgm    \n",
            "  inflating: att_faces/s26/2.pgm     \n",
            "  inflating: att_faces/s26/3.pgm     \n",
            "  inflating: att_faces/s26/4.pgm     \n",
            "  inflating: att_faces/s26/5.pgm     \n",
            "  inflating: att_faces/s26/6.pgm     \n",
            "  inflating: att_faces/s26/7.pgm     \n",
            "  inflating: att_faces/s26/8.pgm     \n",
            "  inflating: att_faces/s26/9.pgm     \n",
            "   creating: att_faces/s27/\n",
            "  inflating: att_faces/s27/1.pgm     \n",
            "  inflating: att_faces/s27/10.pgm    \n",
            "  inflating: att_faces/s27/2.pgm     \n",
            "  inflating: att_faces/s27/3.pgm     \n",
            "  inflating: att_faces/s27/4.pgm     \n",
            "  inflating: att_faces/s27/5.pgm     \n",
            "  inflating: att_faces/s27/6.pgm     \n",
            "  inflating: att_faces/s27/7.pgm     \n",
            "  inflating: att_faces/s27/8.pgm     \n",
            "  inflating: att_faces/s27/9.pgm     \n",
            "   creating: att_faces/s28/\n",
            "  inflating: att_faces/s28/1.pgm     \n",
            "  inflating: att_faces/s28/10.pgm    \n",
            "  inflating: att_faces/s28/2.pgm     \n",
            "  inflating: att_faces/s28/3.pgm     \n",
            "  inflating: att_faces/s28/4.pgm     \n",
            "  inflating: att_faces/s28/5.pgm     \n",
            "  inflating: att_faces/s28/6.pgm     \n",
            "  inflating: att_faces/s28/7.pgm     \n",
            "  inflating: att_faces/s28/8.pgm     \n",
            "  inflating: att_faces/s28/9.pgm     \n",
            "   creating: att_faces/s29/\n",
            "  inflating: att_faces/s29/1.pgm     \n",
            "  inflating: att_faces/s29/10.pgm    \n",
            "  inflating: att_faces/s29/2.pgm     \n",
            "  inflating: att_faces/s29/3.pgm     \n",
            "  inflating: att_faces/s29/4.pgm     \n",
            "  inflating: att_faces/s29/5.pgm     \n",
            "  inflating: att_faces/s29/6.pgm     \n",
            "  inflating: att_faces/s29/7.pgm     \n",
            "  inflating: att_faces/s29/8.pgm     \n",
            "  inflating: att_faces/s29/9.pgm     \n",
            "  inflating: att_faces/s2/1.pgm      \n",
            "  inflating: att_faces/s2/10.pgm     \n",
            "  inflating: att_faces/s2/2.pgm      \n",
            "  inflating: att_faces/s2/3.pgm      \n",
            "  inflating: att_faces/s2/4.pgm      \n",
            "  inflating: att_faces/s2/5.pgm      \n",
            "  inflating: att_faces/s2/6.pgm      \n",
            "  inflating: att_faces/s2/7.pgm      \n",
            "  inflating: att_faces/s2/8.pgm      \n",
            "  inflating: att_faces/s2/9.pgm      \n",
            "   creating: att_faces/s3/\n",
            "   creating: att_faces/s30/\n",
            "  inflating: att_faces/s30/1.pgm     \n",
            "  inflating: att_faces/s30/10.pgm    \n",
            "  inflating: att_faces/s30/2.pgm     \n",
            "  inflating: att_faces/s30/3.pgm     \n",
            "  inflating: att_faces/s30/4.pgm     \n",
            "  inflating: att_faces/s30/5.pgm     \n",
            "  inflating: att_faces/s30/6.pgm     \n",
            "  inflating: att_faces/s30/7.pgm     \n",
            "  inflating: att_faces/s30/8.pgm     \n",
            "  inflating: att_faces/s30/9.pgm     \n",
            "   creating: att_faces/s31/\n",
            "  inflating: att_faces/s31/1.pgm     \n",
            "  inflating: att_faces/s31/10.pgm    \n",
            "  inflating: att_faces/s31/2.pgm     \n",
            "  inflating: att_faces/s31/3.pgm     \n",
            "  inflating: att_faces/s31/4.pgm     \n",
            "  inflating: att_faces/s31/5.pgm     \n",
            "  inflating: att_faces/s31/6.pgm     \n",
            "  inflating: att_faces/s31/7.pgm     \n",
            "  inflating: att_faces/s31/8.pgm     \n",
            "  inflating: att_faces/s31/9.pgm     \n",
            "   creating: att_faces/s32/\n",
            "  inflating: att_faces/s32/1.pgm     \n",
            "  inflating: att_faces/s32/10.pgm    \n",
            "  inflating: att_faces/s32/2.pgm     \n",
            "  inflating: att_faces/s32/3.pgm     \n",
            "  inflating: att_faces/s32/4.pgm     \n",
            "  inflating: att_faces/s32/5.pgm     \n",
            "  inflating: att_faces/s32/6.pgm     \n",
            "  inflating: att_faces/s32/7.pgm     \n",
            "  inflating: att_faces/s32/8.pgm     \n",
            "  inflating: att_faces/s32/9.pgm     \n",
            "   creating: att_faces/s33/\n",
            "  inflating: att_faces/s33/1.pgm     \n",
            "  inflating: att_faces/s33/10.pgm    \n",
            "  inflating: att_faces/s33/2.pgm     \n",
            "  inflating: att_faces/s33/3.pgm     \n",
            "  inflating: att_faces/s33/4.pgm     \n",
            "  inflating: att_faces/s33/5.pgm     \n",
            "  inflating: att_faces/s33/6.pgm     \n",
            "  inflating: att_faces/s33/7.pgm     \n",
            "  inflating: att_faces/s33/8.pgm     \n",
            "  inflating: att_faces/s33/9.pgm     \n",
            "   creating: att_faces/s34/\n",
            "  inflating: att_faces/s34/1.pgm     \n",
            "  inflating: att_faces/s34/10.pgm    \n",
            "  inflating: att_faces/s34/2.pgm     \n",
            "  inflating: att_faces/s34/3.pgm     \n",
            "  inflating: att_faces/s34/4.pgm     \n",
            "  inflating: att_faces/s34/5.pgm     \n",
            "  inflating: att_faces/s34/6.pgm     \n",
            "  inflating: att_faces/s34/7.pgm     \n",
            "  inflating: att_faces/s34/8.pgm     \n",
            "  inflating: att_faces/s34/9.pgm     \n",
            "   creating: att_faces/s35/\n",
            "  inflating: att_faces/s35/1.pgm     \n",
            "  inflating: att_faces/s35/10.pgm    \n",
            "  inflating: att_faces/s35/2.pgm     \n",
            "  inflating: att_faces/s35/3.pgm     \n",
            "  inflating: att_faces/s35/4.pgm     \n",
            "  inflating: att_faces/s35/5.pgm     \n",
            "  inflating: att_faces/s35/6.pgm     \n",
            "  inflating: att_faces/s35/7.pgm     \n",
            "  inflating: att_faces/s35/8.pgm     \n",
            "  inflating: att_faces/s35/9.pgm     \n",
            "   creating: att_faces/s36/\n",
            "  inflating: att_faces/s36/1.pgm     \n",
            "  inflating: att_faces/s36/10.pgm    \n",
            "  inflating: att_faces/s36/2.pgm     \n",
            "  inflating: att_faces/s36/3.pgm     \n",
            "  inflating: att_faces/s36/4.pgm     \n",
            "  inflating: att_faces/s36/5.pgm     \n",
            "  inflating: att_faces/s36/6.pgm     \n",
            "  inflating: att_faces/s36/7.pgm     \n",
            "  inflating: att_faces/s36/8.pgm     \n",
            "  inflating: att_faces/s36/9.pgm     \n",
            "   creating: att_faces/s37/\n",
            "  inflating: att_faces/s37/1.pgm     \n",
            "  inflating: att_faces/s37/10.pgm    \n",
            "  inflating: att_faces/s37/2.pgm     \n",
            "  inflating: att_faces/s37/3.pgm     \n",
            "  inflating: att_faces/s37/4.pgm     \n",
            "  inflating: att_faces/s37/5.pgm     \n",
            "  inflating: att_faces/s37/6.pgm     \n",
            "  inflating: att_faces/s37/7.pgm     \n",
            "  inflating: att_faces/s37/8.pgm     \n",
            "  inflating: att_faces/s37/9.pgm     \n",
            "   creating: att_faces/s38/\n",
            "  inflating: att_faces/s38/1.pgm     \n",
            "  inflating: att_faces/s38/10.pgm    \n",
            "  inflating: att_faces/s38/2.pgm     \n",
            "  inflating: att_faces/s38/3.pgm     \n",
            "  inflating: att_faces/s38/4.pgm     \n",
            "  inflating: att_faces/s38/5.pgm     \n",
            "  inflating: att_faces/s38/6.pgm     \n",
            "  inflating: att_faces/s38/7.pgm     \n",
            "  inflating: att_faces/s38/8.pgm     \n",
            "  inflating: att_faces/s38/9.pgm     \n",
            "   creating: att_faces/s39/\n",
            "  inflating: att_faces/s39/1.pgm     \n",
            "  inflating: att_faces/s39/10.pgm    \n",
            "  inflating: att_faces/s39/2.pgm     \n",
            "  inflating: att_faces/s39/3.pgm     \n",
            "  inflating: att_faces/s39/4.pgm     \n",
            "  inflating: att_faces/s39/5.pgm     \n",
            "  inflating: att_faces/s39/6.pgm     \n",
            "  inflating: att_faces/s39/7.pgm     \n",
            "  inflating: att_faces/s39/8.pgm     \n",
            "  inflating: att_faces/s39/9.pgm     \n",
            "  inflating: att_faces/s3/1.pgm      \n",
            "  inflating: att_faces/s3/10.pgm     \n",
            "  inflating: att_faces/s3/2.pgm      \n",
            "  inflating: att_faces/s3/3.pgm      \n",
            "  inflating: att_faces/s3/4.pgm      \n",
            "  inflating: att_faces/s3/5.pgm      \n",
            "  inflating: att_faces/s3/6.pgm      \n",
            "  inflating: att_faces/s3/7.pgm      \n",
            "  inflating: att_faces/s3/8.pgm      \n",
            "  inflating: att_faces/s3/9.pgm      \n",
            "   creating: att_faces/s4/\n",
            "   creating: att_faces/s40/\n",
            "  inflating: att_faces/s40/1.pgm     \n",
            "  inflating: att_faces/s40/10.pgm    \n",
            "  inflating: att_faces/s40/2.pgm     \n",
            "  inflating: att_faces/s40/3.pgm     \n",
            "  inflating: att_faces/s40/4.pgm     \n",
            "  inflating: att_faces/s40/5.pgm     \n",
            "  inflating: att_faces/s40/6.pgm     \n",
            "  inflating: att_faces/s40/7.pgm     \n",
            "  inflating: att_faces/s40/8.pgm     \n",
            "  inflating: att_faces/s40/9.pgm     \n",
            "  inflating: att_faces/s4/1.pgm      \n",
            "  inflating: att_faces/s4/10.pgm     \n",
            "  inflating: att_faces/s4/2.pgm      \n",
            "  inflating: att_faces/s4/3.pgm      \n",
            "  inflating: att_faces/s4/4.pgm      \n",
            "  inflating: att_faces/s4/5.pgm      \n",
            "  inflating: att_faces/s4/6.pgm      \n",
            "  inflating: att_faces/s4/7.pgm      \n",
            "  inflating: att_faces/s4/8.pgm      \n",
            "  inflating: att_faces/s4/9.pgm      \n",
            "   creating: att_faces/s5/\n",
            "  inflating: att_faces/s5/1.pgm      \n",
            "  inflating: att_faces/s5/10.pgm     \n",
            "  inflating: att_faces/s5/2.pgm      \n",
            "  inflating: att_faces/s5/3.pgm      \n",
            "  inflating: att_faces/s5/4.pgm      \n",
            "  inflating: att_faces/s5/5.pgm      \n",
            "  inflating: att_faces/s5/6.pgm      \n",
            "  inflating: att_faces/s5/7.pgm      \n",
            "  inflating: att_faces/s5/8.pgm      \n",
            "  inflating: att_faces/s5/9.pgm      \n",
            "   creating: att_faces/s6/\n",
            "  inflating: att_faces/s6/1.pgm      \n",
            "  inflating: att_faces/s6/10.pgm     \n",
            "  inflating: att_faces/s6/2.pgm      \n",
            "  inflating: att_faces/s6/3.pgm      \n",
            "  inflating: att_faces/s6/4.pgm      \n",
            "  inflating: att_faces/s6/5.pgm      \n",
            "  inflating: att_faces/s6/6.pgm      \n",
            "  inflating: att_faces/s6/7.pgm      \n",
            "  inflating: att_faces/s6/8.pgm      \n",
            "  inflating: att_faces/s6/9.pgm      \n",
            "   creating: att_faces/s7/\n",
            "  inflating: att_faces/s7/1.pgm      \n",
            "  inflating: att_faces/s7/10.pgm     \n",
            "  inflating: att_faces/s7/2.pgm      \n",
            "  inflating: att_faces/s7/3.pgm      \n",
            "  inflating: att_faces/s7/4.pgm      \n",
            "  inflating: att_faces/s7/5.pgm      \n",
            "  inflating: att_faces/s7/6.pgm      \n",
            "  inflating: att_faces/s7/7.pgm      \n",
            "  inflating: att_faces/s7/8.pgm      \n",
            "  inflating: att_faces/s7/9.pgm      \n",
            "   creating: att_faces/s8/\n",
            "  inflating: att_faces/s8/1.pgm      \n",
            "  inflating: att_faces/s8/10.pgm     \n",
            "  inflating: att_faces/s8/2.pgm      \n",
            "  inflating: att_faces/s8/3.pgm      \n",
            "  inflating: att_faces/s8/4.pgm      \n",
            "  inflating: att_faces/s8/5.pgm      \n",
            "  inflating: att_faces/s8/6.pgm      \n",
            "  inflating: att_faces/s8/7.pgm      \n",
            "  inflating: att_faces/s8/8.pgm      \n",
            "  inflating: att_faces/s8/9.pgm      \n",
            "   creating: att_faces/s9/\n",
            "  inflating: att_faces/s9/1.pgm      \n",
            "  inflating: att_faces/s9/10.pgm     \n",
            "  inflating: att_faces/s9/2.pgm      \n",
            "  inflating: att_faces/s9/3.pgm      \n",
            "  inflating: att_faces/s9/4.pgm      \n",
            "  inflating: att_faces/s9/5.pgm      \n",
            "  inflating: att_faces/s9/6.pgm      \n",
            "  inflating: att_faces/s9/7.pgm      \n",
            "  inflating: att_faces/s9/8.pgm      \n",
            "  inflating: att_faces/s9/9.pgm      \n"
          ],
          "name": "stdout"
        }
      ]
    },
    {
      "cell_type": "markdown",
      "metadata": {
        "id": "zcKKjiBDkVAQ"
      },
      "source": [
        "### 1.3 Verify the Dataset\n",
        "Verify if our datasets are correclty imported"
      ]
    },
    {
      "cell_type": "code",
      "metadata": {
        "id": "L75DSfOGFAJ6",
        "outputId": "6d8b6c52-a5e0-429d-e2f5-b037adac9797",
        "colab": {
          "base_uri": "https://localhost:8080/",
          "height": 34
        }
      },
      "source": [
        "# to chack the datasets are correctly uploaded and labeled.\n",
        "import os\n",
        "print(os.listdir(os.getcwd()))"
      ],
      "execution_count": 3,
      "outputs": [
        {
          "output_type": "stream",
          "text": [
            "['.config', 'att_faces_ORG.zip', 'att_faces', 'sample_data']\n"
          ],
          "name": "stdout"
        }
      ]
    },
    {
      "cell_type": "markdown",
      "metadata": {
        "id": "Y9KJYlGPkclO"
      },
      "source": [
        "## 2. Import of All Required Libraries "
      ]
    },
    {
      "cell_type": "code",
      "metadata": {
        "id": "AMILdALcFElT"
      },
      "source": [
        "# import required libraries\n",
        "import matplotlib.pyplot as plt\n",
        "import numpy as np\n",
        "import cv2"
      ],
      "execution_count": 4,
      "outputs": []
    },
    {
      "cell_type": "markdown",
      "metadata": {
        "id": "OdvALQvokl6a"
      },
      "source": [
        "##3. Steps For Training Dataseet"
      ]
    },
    {
      "cell_type": "markdown",
      "metadata": {
        "id": "SWquQokgkmxM"
      },
      "source": [
        "### 3.1 Generating Face Dataset\n",
        "Each face image is represented in the form a matrix having m rows and n columns,\n",
        "where each pixel (x,y) such that xm, and yn shows pixel location of the image as\n",
        "well as the direction.\n",
        "For the simplicity we are assuming each face image as a column vector, if we have p\n",
        "images then the size of the face database will be mn*p.<br>\n",
        "Let’s say face database is denoted as $(Face Db)_{mn*p}$*italicized text*"
      ]
    },
    {
      "cell_type": "code",
      "metadata": {
        "id": "fPU0fZ08FIJp",
        "outputId": "bcd33132-b1ad-4cc4-d39f-2ffb3589f10c",
        "colab": {
          "base_uri": "https://localhost:8080/",
          "height": 50
        }
      },
      "source": [
        "Face_db = np.zeros(shape=(400, 112*92)) # image input in p*mn format\n",
        "y = np.zeros(shape=(400, 1), dtype=np.int8) # name of the corresponding image\n",
        "p = 0; # increment operator to store each data\n",
        "for i in range(40):\n",
        "  images = os.listdir('./att_faces/s'+str(i+1)) # retrive every folder of my path\n",
        "  for image in images:\n",
        "    img = cv2.imread('./att_faces/s'+str(i+1)+\"/\"+image, cv2.IMREAD_GRAYSCALE) # read the input image\n",
        "    img = np.array(img, dtype=np.float64)\n",
        "    Face_db[p, :] = img.flatten() # flat the image as mentioned in document\n",
        "    y[p] = i+1 # label for the input data image\n",
        "    p += 1 \n",
        "print(Face_db.shape)\n",
        "print(y.shape)"
      ],
      "execution_count": 5,
      "outputs": [
        {
          "output_type": "stream",
          "text": [
            "(400, 10304)\n",
            "(400, 1)\n"
          ],
          "name": "stdout"
        }
      ]
    },
    {
      "cell_type": "markdown",
      "metadata": {
        "id": "7EjsjMOhkt_L"
      },
      "source": [
        "###3.2 Perform Split of Data for Training and Testing Purpose\n",
        "split the 80% of data for training and remaining for testing."
      ]
    },
    {
      "cell_type": "code",
      "metadata": {
        "id": "UDbJe9Rw0kOu"
      },
      "source": [
        "def split(X, y, train_size):\n",
        "  X_train = []\n",
        "  X_test = []\n",
        "  y_train = []\n",
        "  y_test = []\n",
        "  for i in range(0, X.shape[0], 10):\n",
        "    for j in range(10):\n",
        "      # print(i+j)\n",
        "      if (j < int(train_size*10)):\n",
        "        X_train.append(X[i+j, :])\n",
        "        y_train.append(y[i+j])\n",
        "      else:\n",
        "        X_test.append(X[i+j, :])\n",
        "        y_test.append(y[i+j])\n",
        "  return np.array(X_train), np.array(X_test), np.array(y_train), np.array(y_test)"
      ],
      "execution_count": 6,
      "outputs": []
    },
    {
      "cell_type": "code",
      "metadata": {
        "id": "le33oUzQFTFS",
        "outputId": "3e697528-8aa1-47f0-f050-bda81b8dea82",
        "colab": {
          "base_uri": "https://localhost:8080/",
          "height": 50
        }
      },
      "source": [
        "train_size = 0.6\n",
        "X_train, X_test, y_train, y_test = split(Face_db, y, train_size) # spliting by 80%\n",
        "print(X_train.shape)\n",
        "y_train.shape;\n",
        "X_test.shape;\n",
        "y_test.shape"
      ],
      "execution_count": 7,
      "outputs": [
        {
          "output_type": "stream",
          "text": [
            "(240, 10304)\n"
          ],
          "name": "stdout"
        },
        {
          "output_type": "execute_result",
          "data": {
            "text/plain": [
              "(160, 1)"
            ]
          },
          "metadata": {
            "tags": []
          },
          "execution_count": 7
        }
      ]
    },
    {
      "cell_type": "code",
      "metadata": {
        "id": "2UA3-lvNJ5tB",
        "outputId": "90cd2cd3-76d8-46d7-8b0e-ce3c1edf3dcd",
        "colab": {
          "base_uri": "https://localhost:8080/",
          "height": 34
        }
      },
      "source": [
        "X_train = X_train.T # to convert data to required format i.e mn*p\n",
        "X_test = X_test.T\n",
        "X_test.shape"
      ],
      "execution_count": 8,
      "outputs": [
        {
          "output_type": "execute_result",
          "data": {
            "text/plain": [
              "(10304, 160)"
            ]
          },
          "metadata": {
            "tags": []
          },
          "execution_count": 8
        }
      ]
    },
    {
      "cell_type": "markdown",
      "metadata": {
        "id": "DRxoezeHlAp1"
      },
      "source": [
        "###3.3 Calculate Mean\n",
        "Calculate the mean of each observation<br>\n",
        "Here mean vector will have the dimension of $(M)_{mn*1}$"
      ]
    },
    {
      "cell_type": "code",
      "metadata": {
        "id": "KkRylDzfJ8eI",
        "outputId": "ba949129-47d7-49d2-ba51-064116efa3ee",
        "colab": {
          "base_uri": "https://localhost:8080/",
          "height": 34
        }
      },
      "source": [
        "mean = np.mean(X_train, axis=1)\n",
        "mean = mean.reshape(mean.shape[0], 1) # convert pre ccalculated shape of (mn,) to (mn,1)\n",
        "print(mean.shape)"
      ],
      "execution_count": 9,
      "outputs": [
        {
          "output_type": "stream",
          "text": [
            "(10304, 1)\n"
          ],
          "name": "stdout"
        }
      ]
    },
    {
      "cell_type": "markdown",
      "metadata": {
        "id": "bER5PpwXlKpk"
      },
      "source": [
        "###3.4 Calculate Deviation Matrix\n",
        "Subtract mean face from each face image, let’s say this mean zero face data as dev."
      ]
    },
    {
      "cell_type": "code",
      "metadata": {
        "id": "HZg52m-slH3t",
        "outputId": "226aa3fb-7343-4249-f975-1eb71d2a2dbe",
        "colab": {
          "base_uri": "https://localhost:8080/",
          "height": 252
        }
      },
      "source": [
        "dev = X_train-mean\n",
        "print(dev)\n",
        "print(dev.shape)"
      ],
      "execution_count": 10,
      "outputs": [
        {
          "output_type": "stream",
          "text": [
            "[[-46.98333333 -43.98333333 -44.98333333 ...  41.01666667  39.01666667\n",
            "   39.01666667]\n",
            " [-41.8625     -44.8625     -38.8625     ...  45.1375      38.1375\n",
            "   33.1375    ]\n",
            " [-33.54583333 -42.54583333 -39.54583333 ...  41.45416667  37.45416667\n",
            "   37.45416667]\n",
            " ...\n",
            " [-49.05833333 -36.05833333 -43.05833333 ...  15.94166667 -42.05833333\n",
            "  -42.05833333]\n",
            " [-51.1375     -34.1375     -40.1375     ...   6.8625     -42.1375\n",
            "  -38.1375    ]\n",
            " [-47.60833333 -35.60833333 -38.60833333 ...  12.39166667 -42.60833333\n",
            "  -36.60833333]]\n",
            "(10304, 240)\n"
          ],
          "name": "stdout"
        }
      ]
    },
    {
      "cell_type": "markdown",
      "metadata": {
        "id": "4BErAhxilYnW"
      },
      "source": [
        "###3.5 Calculate Co-Variance of the Mean aligned faces \n",
        "Hence here will get covariance matrix of p * p dimension, which is easy to compute and process, the\n",
        "idea behind computing the surrogate covariance suggested by turk and peterland that,\n",
        "these are only the valid direction where we will get maximum variances, and rest of the\n",
        "directions are insignificant to us. Menas these are direction where we will get the\n",
        "eigenvalues and for rest we will get eigenvalues equal to zero.<br>So, take two column matrix and do vector dot prodect to get a scalar and store that in cov matrix."
      ]
    },
    {
      "cell_type": "code",
      "metadata": {
        "id": "pSafIgxBlNUb",
        "outputId": "cb79c755-94ac-4177-bb60-db85b1e0f392",
        "colab": {
          "base_uri": "https://localhost:8080/",
          "height": 34
        }
      },
      "source": [
        "# cov = np.zeros(shape=(320, 320))\n",
        "# for i in range(320):\n",
        "#   for j in range(320):\n",
        "#     cov[i, j] = np.dot(dev[:, i], dev[:, j])\n",
        "# print(cov)\n",
        "cov = np.dot(dev.T, dev) # calculating covariance matrix by above method\n",
        "                        # without using any explicit for loops\n",
        "                        # shape=p*p\n",
        "print(cov.shape)"
      ],
      "execution_count": 11,
      "outputs": [
        {
          "output_type": "stream",
          "text": [
            "(240, 240)\n"
          ],
          "name": "stdout"
        }
      ]
    },
    {
      "cell_type": "markdown",
      "metadata": {
        "id": "-Z0u_ojMmBwE"
      },
      "source": [
        "###3.6 Eigenvalue and Eigenvector Decomposition\n",
        "Determine eigenvalue and eigenvector and  select the best direction from p directions, for this sort the eigenvalues in the\n",
        "descending order."
      ]
    },
    {
      "cell_type": "code",
      "metadata": {
        "id": "AmWj01OolcWa",
        "outputId": "b9eafc27-604f-4a89-e6ca-559dc5d8615e",
        "colab": {
          "base_uri": "https://localhost:8080/",
          "height": 34
        }
      },
      "source": [
        "lambd, V = np.linalg.eig(cov) # lambd is eigenValue and V is eigenVector\n",
        "idx = np.argsort(lambd)[::-1] # get the indices in descending order according to data\n",
        "lambd = lambd[idx] # sort the value\n",
        "V = V[:, idx] # sort the vector\n",
        "V.shape"
      ],
      "execution_count": 12,
      "outputs": [
        {
          "output_type": "execute_result",
          "data": {
            "text/plain": [
              "(240, 240)"
            ]
          },
          "metadata": {
            "tags": []
          },
          "execution_count": 12
        }
      ]
    },
    {
      "cell_type": "markdown",
      "metadata": {
        "id": "z9E86swLAW65"
      },
      "source": [
        "###3.7 Selection of Prominent Features\n",
        "decide a k value, which represents the number of selected\n",
        "eigenvectors to extract k direction from all p direction. On the basis of k value we can\n",
        "generate the $Feature vector_{p*k}$"
      ]
    },
    {
      "cell_type": "code",
      "metadata": {
        "id": "O5ct9wIPAalD"
      },
      "source": [
        "def n_components(k, V):\n",
        "  # choosing n-components, k\n",
        "  # V is eigenVector\n",
        "  # return k prominent feature i.e our feature vector\n",
        "  return V[:, :k]"
      ],
      "execution_count": 13,
      "outputs": []
    },
    {
      "cell_type": "code",
      "metadata": {
        "id": "FA_uStogAdDt",
        "outputId": "65a9ab2e-e4ad-43ef-b7be-c47968889b45",
        "colab": {
          "base_uri": "https://localhost:8080/",
          "height": 34
        }
      },
      "source": [
        "# testing if above method works fine\n",
        "feature_vec = n_components(20, V)\n",
        "print(feature_vec.shape)"
      ],
      "execution_count": 14,
      "outputs": [
        {
          "output_type": "stream",
          "text": [
            "(240, 20)\n"
          ],
          "name": "stdout"
        }
      ]
    },
    {
      "cell_type": "markdown",
      "metadata": {
        "id": "M2pxQdCTBGKc"
      },
      "source": [
        "###3.8 Generating Eigenfaces:\n",
        "For generating the eigenfaces project the each mean aligned face to the generated feature vector\n",
        "**$(eigenfaces)_{k*mn}$ = $(featureVector)^{T}_{k*p}$ * $(dev)^{T}_{p*mn}$ **"
      ]
    },
    {
      "cell_type": "code",
      "metadata": {
        "id": "mFosXLe8qBPx"
      },
      "source": [
        "# projecting each mean aligned face and storing of shape k*mn\n",
        "def gen_eigenface(feature_vec, dev):\n",
        "  # feature_vec: Feature Vector generated using n-components\n",
        "  # dev: Deviation matrix\n",
        "  # Return: EigenFace\n",
        "  return np.dot(feature_vec.T, dev.T)"
      ],
      "execution_count": 15,
      "outputs": []
    },
    {
      "cell_type": "code",
      "metadata": {
        "id": "tWF5fBGyqSK9",
        "outputId": "b862af8f-1158-4ebf-d8dd-0d891fe2848c",
        "colab": {
          "base_uri": "https://localhost:8080/",
          "height": 34
        }
      },
      "source": [
        "# testing if above method works fine\n",
        "eigen_faces = gen_eigenface(feature_vec, dev) \n",
        "eigen_faces.shape"
      ],
      "execution_count": 16,
      "outputs": [
        {
          "output_type": "execute_result",
          "data": {
            "text/plain": [
              "(20, 10304)"
            ]
          },
          "metadata": {
            "tags": []
          },
          "execution_count": 16
        }
      ]
    },
    {
      "cell_type": "markdown",
      "metadata": {
        "id": "lYY3rTtcqfD8"
      },
      "source": [
        "###3.10 Generating Projection of Each Train Dataset "
      ]
    },
    {
      "cell_type": "code",
      "metadata": {
        "id": "LMrTZK2TqUA0"
      },
      "source": [
        "def gen_projection(eigen_faces, dev):\n",
        "  # eigen_faces: Eigen Face \n",
        "  # dev: Deviation matrix\n",
        "  # Return: projection of dataset\n",
        "  return np.dot(eigen_faces, dev)"
      ],
      "execution_count": 17,
      "outputs": []
    },
    {
      "cell_type": "code",
      "metadata": {
        "id": "WQfv7wA2qimI",
        "outputId": "0dad827d-4beb-4a84-d2a4-08f1364ea733",
        "colab": {
          "base_uri": "https://localhost:8080/",
          "height": 34
        }
      },
      "source": [
        "projection_train = gen_projection(eigen_faces, dev) # shape k*p\n",
        "projection_train.shape"
      ],
      "execution_count": 18,
      "outputs": [
        {
          "output_type": "execute_result",
          "data": {
            "text/plain": [
              "(20, 240)"
            ]
          },
          "metadata": {
            "tags": []
          },
          "execution_count": 18
        }
      ]
    },
    {
      "cell_type": "markdown",
      "metadata": {
        "id": "7dn-oaQivmQy"
      },
      "source": [
        "### 3.10  mean of the Projected faces "
      ]
    },
    {
      "cell_type": "code",
      "metadata": {
        "id": "_7jSyC87qk9J"
      },
      "source": [
        "def mean_proj(projection_train):\n",
        "  M = np.mean(projection_train, axis=1).reshape(-1, 1)\n",
        "  print(\"shape of mean of projection\", M.shape)\n",
        "  return M"
      ],
      "execution_count": 19,
      "outputs": []
    },
    {
      "cell_type": "code",
      "metadata": {
        "id": "gjwKLqFJdjXR",
        "outputId": "33341b64-4ac8-4afc-8c04-b6a0f8480aff",
        "colab": {
          "base_uri": "https://localhost:8080/",
          "height": 34
        }
      },
      "source": [
        "# checck for implementation\n",
        "M = mean_proj(projection_train)"
      ],
      "execution_count": 20,
      "outputs": [
        {
          "output_type": "stream",
          "text": [
            "shape of mean of projection (20, 1)\n"
          ],
          "name": "stdout"
        }
      ]
    },
    {
      "cell_type": "markdown",
      "metadata": {
        "id": "EF9g66y6mULG"
      },
      "source": [
        "###3.11 Intra Class scatter Matrix"
      ]
    },
    {
      "cell_type": "code",
      "metadata": {
        "id": "oLUbRPTLeYNx"
      },
      "source": [
        "def intra_scatter(projection_train):\n",
        "  SW = np.zeros(shape=(projection_train.shape[0], projection_train.shape[0]))\n",
        "\n",
        "  for i in range(40): # 40 number of class\n",
        "    idx = i * int(train_size*10)\n",
        "    V = projection_train[:, idx:idx+int(train_size*10)]\n",
        "    mean_local = np.mean(V, axis=1).reshape(-1, 1)\n",
        "    class_mean = np.repeat(mean_local, int(train_size*10), axis = 1)\n",
        "    diff = V - class_mean\n",
        "    variance = np.dot(diff, diff.T)\n",
        "    SW = SW + variance\n",
        "  return SW "
      ],
      "execution_count": 21,
      "outputs": []
    },
    {
      "cell_type": "code",
      "metadata": {
        "id": "zArfpnPY50tb",
        "outputId": "7bf1523c-601c-47c4-c549-7f2d509a7497",
        "colab": {
          "base_uri": "https://localhost:8080/",
          "height": 34
        }
      },
      "source": [
        "SW = intra_scatter(projection_train)\n",
        "print(SW.shape)"
      ],
      "execution_count": 22,
      "outputs": [
        {
          "output_type": "stream",
          "text": [
            "(20, 20)\n"
          ],
          "name": "stdout"
        }
      ]
    },
    {
      "cell_type": "markdown",
      "metadata": {
        "id": "QJq292BDpdxy"
      },
      "source": [
        "###3.12 Inter Class scatter Matrix"
      ]
    },
    {
      "cell_type": "code",
      "metadata": {
        "id": "TT3JK94TpabR"
      },
      "source": [
        "def inter_scatter(projection_train, M):\n",
        "  SB = np.zeros(shape=(projection_train.shape[0], projection_train.shape[0]))\n",
        "\n",
        "  for i in range(40): # 40 number of class\n",
        "    idx = i + int(train_size*10)\n",
        "    V = projection_train[:, i:idx]\n",
        "    mean_local = np.mean(V, axis=1).reshape(-1, 1)\n",
        "    diff = mean_local - M\n",
        "    sigma = np.dot(diff, mean_local.T)\n",
        "    SB = SB + sigma\n",
        "  return SB "
      ],
      "execution_count": 23,
      "outputs": []
    },
    {
      "cell_type": "code",
      "metadata": {
        "id": "oGsO52-H6z6h",
        "outputId": "4a2a5361-436f-4373-99ca-426b66a1ea51",
        "colab": {
          "base_uri": "https://localhost:8080/",
          "height": 34
        }
      },
      "source": [
        "SB = inter_scatter(projection_train, M)\n",
        "print(SB.shape)"
      ],
      "execution_count": 24,
      "outputs": [
        {
          "output_type": "stream",
          "text": [
            "(20, 20)\n"
          ],
          "name": "stdout"
        }
      ]
    },
    {
      "cell_type": "markdown",
      "metadata": {
        "id": "zIKgILQcqw1O"
      },
      "source": [
        "###3.13 Criterion Function"
      ]
    },
    {
      "cell_type": "code",
      "metadata": {
        "id": "kTZvCbExqwKz"
      },
      "source": [
        "def criterion_func(SW, SB):\n",
        "  return np.dot(np.linalg.pinv(SW), SB)"
      ],
      "execution_count": 25,
      "outputs": []
    },
    {
      "cell_type": "code",
      "metadata": {
        "id": "H6OhbSKr9aYE",
        "outputId": "2b9428cb-9236-49f5-cbfa-3d137778ff73",
        "colab": {
          "base_uri": "https://localhost:8080/",
          "height": 34
        }
      },
      "source": [
        "J = criterion_func(SW, SB)\n",
        "print(J.shape)"
      ],
      "execution_count": 26,
      "outputs": [
        {
          "output_type": "stream",
          "text": [
            "(20, 20)\n"
          ],
          "name": "stdout"
        }
      ]
    },
    {
      "cell_type": "code",
      "metadata": {
        "id": "6grBylsO9rzG",
        "outputId": "0f24d2cd-902e-4676-eb11-21021729c9dd",
        "colab": {
          "base_uri": "https://localhost:8080/",
          "height": 34
        }
      },
      "source": [
        "eigVal, eigVec = np.linalg.eig(J)\n",
        "idx = np.argsort(eigVal)[::-1] # get the indices in descending order according to data\n",
        "eigVal = eigVal[idx] # sort the value\n",
        "eigVec = eigVec[:, idx] # sort the vector\n",
        "eigVec.shape"
      ],
      "execution_count": 27,
      "outputs": [
        {
          "output_type": "execute_result",
          "data": {
            "text/plain": [
              "(20, 20)"
            ]
          },
          "metadata": {
            "tags": []
          },
          "execution_count": 27
        }
      ]
    },
    {
      "cell_type": "markdown",
      "metadata": {
        "id": "wXHqEdPjtgPe"
      },
      "source": [
        "### 3.14 Fisher Face Generation"
      ]
    },
    {
      "cell_type": "code",
      "metadata": {
        "id": "hrc4WyHYsrOF"
      },
      "source": [
        "def fisher_face(eigenVec, projection_train):\n",
        "  return np.dot(eigenVec.T, projection_train)"
      ],
      "execution_count": 28,
      "outputs": []
    },
    {
      "cell_type": "code",
      "metadata": {
        "id": "v0xWIZ5k956R",
        "outputId": "cf6fd26e-2337-4656-f9c8-aceec875214f",
        "colab": {
          "base_uri": "https://localhost:8080/",
          "height": 34
        }
      },
      "source": [
        "fisher_faces = fisher_face(eigVec, projection_train)\n",
        "print(fisher_faces.shape)"
      ],
      "execution_count": 29,
      "outputs": [
        {
          "output_type": "stream",
          "text": [
            "(20, 240)\n"
          ],
          "name": "stdout"
        }
      ]
    },
    {
      "cell_type": "markdown",
      "metadata": {
        "id": "H1yEh6UWusxZ"
      },
      "source": [
        "## 4. Testing Steps"
      ]
    },
    {
      "cell_type": "markdown",
      "metadata": {
        "id": "YI4Yv7YVuzqe"
      },
      "source": [
        "### 4.1 Visualize the test set"
      ]
    },
    {
      "cell_type": "code",
      "metadata": {
        "id": "6uUllP3muonZ",
        "outputId": "e094ce4d-c680-4172-8945-780e33909055",
        "colab": {
          "base_uri": "https://localhost:8080/",
          "height": 151
        }
      },
      "source": [
        "print(X_test)\n",
        "print(X_test.shape)"
      ],
      "execution_count": 30,
      "outputs": [
        {
          "output_type": "stream",
          "text": [
            "[[ 64.  43.  48. ... 123. 119. 130.]\n",
            " [ 76.  50.  49. ... 121. 121. 123.]\n",
            " [ 80.  41.  45. ... 126. 123. 127.]\n",
            " ...\n",
            " [ 35. 158.  47. ...  40.  36.  33.]\n",
            " [ 37. 153.  46. ...  35.  40.  37.]\n",
            " [ 39. 169.  46. ...  42.  36.  40.]]\n",
            "(10304, 160)\n"
          ],
          "name": "stdout"
        }
      ]
    },
    {
      "cell_type": "markdown",
      "metadata": {
        "id": "ttAK9U6evA2h"
      },
      "source": [
        "### 4.2 DEviation of test set"
      ]
    },
    {
      "cell_type": "code",
      "metadata": {
        "id": "KS9Wn1bMu-f-",
        "outputId": "5adaf117-d24b-4e8c-e6ab-e99fe8be1402",
        "colab": {
          "base_uri": "https://localhost:8080/",
          "height": 34
        }
      },
      "source": [
        "dev_test = X_test - mean # shape mn*p\n",
        "print(dev_test.shape)"
      ],
      "execution_count": 31,
      "outputs": [
        {
          "output_type": "stream",
          "text": [
            "(10304, 160)\n"
          ],
          "name": "stdout"
        }
      ]
    },
    {
      "cell_type": "markdown",
      "metadata": {
        "id": "EuLuKTXLvH-8"
      },
      "source": [
        "###4.3 Project data of test set for eigen Face\n",
        "Calculate the projected Eigen Face (PEF) by Project it with the Eigen faces (EF) that we\n",
        "have constructed by using PCA."
      ]
    },
    {
      "cell_type": "code",
      "metadata": {
        "id": "U2ZmPO7AvG2m",
        "outputId": "862ca69e-d27c-48c3-b920-3043fe2fe853",
        "colab": {
          "base_uri": "https://localhost:8080/",
          "height": 34
        }
      },
      "source": [
        "projection = gen_projection(eigen_faces, dev_test) # project each data of test dataset, shape=k*mn\n",
        "print(projection.shape)"
      ],
      "execution_count": 32,
      "outputs": [
        {
          "output_type": "stream",
          "text": [
            "(20, 160)\n"
          ],
          "name": "stdout"
        }
      ]
    },
    {
      "cell_type": "markdown",
      "metadata": {
        "id": "6guFudmDxgGf"
      },
      "source": [
        "###4.4 Eucledian Distance Calculation"
      ]
    },
    {
      "cell_type": "code",
      "metadata": {
        "id": "XEdTtl5jxY-s"
      },
      "source": [
        "def euclidean(a, b):\n",
        "  return np.sqrt(np.sum(np.power((a-b), 2)))"
      ],
      "execution_count": 33,
      "outputs": []
    },
    {
      "cell_type": "markdown",
      "metadata": {
        "id": "U9GSt9swxjlG"
      },
      "source": [
        "###4.5 Mahalanobis Distance Calculation"
      ]
    },
    {
      "cell_type": "markdown",
      "metadata": {
        "id": "mkczX8LsOuMi"
      },
      "source": [
        "###4.6 Projected Fisher Test Image(PFTI)\n",
        " Now do the final projection (Projected Fisher Test Image) with the help of feature\n",
        "vectors (W to this Projected Eigen Face"
      ]
    },
    {
      "cell_type": "code",
      "metadata": {
        "id": "8v7fnviY_L-8",
        "outputId": "9597fb1a-88df-4bd8-845f-6ec2b44fceba",
        "colab": {
          "base_uri": "https://localhost:8080/",
          "height": 34
        }
      },
      "source": [
        "PFTI = np.dot(eigVec.T, projection)\n",
        "print(PFTI.shape)"
      ],
      "execution_count": 34,
      "outputs": [
        {
          "output_type": "stream",
          "text": [
            "(20, 160)\n"
          ],
          "name": "stdout"
        }
      ]
    },
    {
      "cell_type": "markdown",
      "metadata": {
        "id": "YMJbr9pLzDpb"
      },
      "source": [
        "###4.7 Method for calculating closest match"
      ]
    },
    {
      "cell_type": "code",
      "metadata": {
        "id": "9YRlKldXyp-0"
      },
      "source": [
        "def predict(d, X):\n",
        "  # d: projection of testing images\n",
        "  minDist = np.finfo('float').max # initialize with max value\n",
        "  minClass = -1 # default closest match initialized\n",
        "  \n",
        "  for i in range(X.shape[1]):\n",
        "    dist = euclidean(X[:, i], d)\n",
        "    if dist < minDist:\n",
        "      minDist = dist\n",
        "      minClass = y_train[i]\n",
        "  return minClass"
      ],
      "execution_count": 35,
      "outputs": []
    },
    {
      "cell_type": "code",
      "metadata": {
        "id": "vuqrrD5zzHau",
        "outputId": "32ffd627-e011-4fb1-95e6-eb1378db8755",
        "colab": {
          "base_uri": "https://localhost:8080/",
          "height": 1000
        }
      },
      "source": [
        "correctlyLabeled = 0\n",
        "for i in range(PFTI.shape[1]):\n",
        "  predicted = predict(PFTI[:, i], fisher_faces)\n",
        "  if(predicted == y_test[i]):\n",
        "    correctlyLabeled += 1\n",
        "  print(\"predicted: \", predicted, \"correct: \", y_test[i])\n",
        "accuracy = (correctlyLabeled/projection.shape[1])*100\n",
        "accuracy"
      ],
      "execution_count": 36,
      "outputs": [
        {
          "output_type": "stream",
          "text": [
            "predicted:  [1] correct:  [1]\n",
            "predicted:  [5] correct:  [1]\n",
            "predicted:  [1] correct:  [1]\n",
            "predicted:  [1] correct:  [1]\n",
            "predicted:  [2] correct:  [2]\n",
            "predicted:  [2] correct:  [2]\n",
            "predicted:  [2] correct:  [2]\n",
            "predicted:  [2] correct:  [2]\n",
            "predicted:  [3] correct:  [3]\n",
            "predicted:  [3] correct:  [3]\n",
            "predicted:  [3] correct:  [3]\n",
            "predicted:  [3] correct:  [3]\n",
            "predicted:  [4] correct:  [4]\n",
            "predicted:  [4] correct:  [4]\n",
            "predicted:  [4] correct:  [4]\n",
            "predicted:  [4] correct:  [4]\n",
            "predicted:  [5] correct:  [5]\n",
            "predicted:  [5] correct:  [5]\n",
            "predicted:  [5] correct:  [5]\n",
            "predicted:  [5] correct:  [5]\n",
            "predicted:  [6] correct:  [6]\n",
            "predicted:  [6] correct:  [6]\n",
            "predicted:  [6] correct:  [6]\n",
            "predicted:  [6] correct:  [6]\n",
            "predicted:  [7] correct:  [7]\n",
            "predicted:  [7] correct:  [7]\n",
            "predicted:  [7] correct:  [7]\n",
            "predicted:  [7] correct:  [7]\n",
            "predicted:  [8] correct:  [8]\n",
            "predicted:  [8] correct:  [8]\n",
            "predicted:  [8] correct:  [8]\n",
            "predicted:  [8] correct:  [8]\n",
            "predicted:  [9] correct:  [9]\n",
            "predicted:  [9] correct:  [9]\n",
            "predicted:  [9] correct:  [9]\n",
            "predicted:  [9] correct:  [9]\n",
            "predicted:  [10] correct:  [10]\n",
            "predicted:  [10] correct:  [10]\n",
            "predicted:  [10] correct:  [10]\n",
            "predicted:  [10] correct:  [10]\n",
            "predicted:  [19] correct:  [11]\n",
            "predicted:  [11] correct:  [11]\n",
            "predicted:  [11] correct:  [11]\n",
            "predicted:  [19] correct:  [11]\n",
            "predicted:  [12] correct:  [12]\n",
            "predicted:  [12] correct:  [12]\n",
            "predicted:  [12] correct:  [12]\n",
            "predicted:  [12] correct:  [12]\n",
            "predicted:  [13] correct:  [13]\n",
            "predicted:  [13] correct:  [13]\n",
            "predicted:  [13] correct:  [13]\n",
            "predicted:  [13] correct:  [13]\n",
            "predicted:  [14] correct:  [14]\n",
            "predicted:  [14] correct:  [14]\n",
            "predicted:  [14] correct:  [14]\n",
            "predicted:  [14] correct:  [14]\n",
            "predicted:  [15] correct:  [15]\n",
            "predicted:  [15] correct:  [15]\n",
            "predicted:  [15] correct:  [15]\n",
            "predicted:  [15] correct:  [15]\n",
            "predicted:  [27] correct:  [16]\n",
            "predicted:  [15] correct:  [16]\n",
            "predicted:  [27] correct:  [16]\n",
            "predicted:  [27] correct:  [16]\n",
            "predicted:  [17] correct:  [17]\n",
            "predicted:  [17] correct:  [17]\n",
            "predicted:  [17] correct:  [17]\n",
            "predicted:  [17] correct:  [17]\n",
            "predicted:  [18] correct:  [18]\n",
            "predicted:  [18] correct:  [18]\n",
            "predicted:  [18] correct:  [18]\n",
            "predicted:  [18] correct:  [18]\n",
            "predicted:  [19] correct:  [19]\n",
            "predicted:  [19] correct:  [19]\n",
            "predicted:  [19] correct:  [19]\n",
            "predicted:  [19] correct:  [19]\n",
            "predicted:  [20] correct:  [20]\n",
            "predicted:  [29] correct:  [20]\n",
            "predicted:  [20] correct:  [20]\n",
            "predicted:  [29] correct:  [20]\n",
            "predicted:  [21] correct:  [21]\n",
            "predicted:  [21] correct:  [21]\n",
            "predicted:  [21] correct:  [21]\n",
            "predicted:  [21] correct:  [21]\n",
            "predicted:  [22] correct:  [22]\n",
            "predicted:  [22] correct:  [22]\n",
            "predicted:  [22] correct:  [22]\n",
            "predicted:  [22] correct:  [22]\n",
            "predicted:  [23] correct:  [23]\n",
            "predicted:  [23] correct:  [23]\n",
            "predicted:  [23] correct:  [23]\n",
            "predicted:  [23] correct:  [23]\n",
            "predicted:  [24] correct:  [24]\n",
            "predicted:  [24] correct:  [24]\n",
            "predicted:  [24] correct:  [24]\n",
            "predicted:  [24] correct:  [24]\n",
            "predicted:  [25] correct:  [25]\n",
            "predicted:  [25] correct:  [25]\n",
            "predicted:  [25] correct:  [25]\n",
            "predicted:  [25] correct:  [25]\n",
            "predicted:  [26] correct:  [26]\n",
            "predicted:  [26] correct:  [26]\n",
            "predicted:  [26] correct:  [26]\n",
            "predicted:  [26] correct:  [26]\n",
            "predicted:  [27] correct:  [27]\n",
            "predicted:  [27] correct:  [27]\n",
            "predicted:  [27] correct:  [27]\n",
            "predicted:  [27] correct:  [27]\n",
            "predicted:  [28] correct:  [28]\n",
            "predicted:  [28] correct:  [28]\n",
            "predicted:  [28] correct:  [28]\n",
            "predicted:  [28] correct:  [28]\n",
            "predicted:  [29] correct:  [29]\n",
            "predicted:  [29] correct:  [29]\n",
            "predicted:  [29] correct:  [29]\n",
            "predicted:  [29] correct:  [29]\n",
            "predicted:  [30] correct:  [30]\n",
            "predicted:  [30] correct:  [30]\n",
            "predicted:  [30] correct:  [30]\n",
            "predicted:  [30] correct:  [30]\n",
            "predicted:  [31] correct:  [31]\n",
            "predicted:  [31] correct:  [31]\n",
            "predicted:  [31] correct:  [31]\n",
            "predicted:  [31] correct:  [31]\n",
            "predicted:  [32] correct:  [32]\n",
            "predicted:  [32] correct:  [32]\n",
            "predicted:  [32] correct:  [32]\n",
            "predicted:  [32] correct:  [32]\n",
            "predicted:  [33] correct:  [33]\n",
            "predicted:  [33] correct:  [33]\n",
            "predicted:  [33] correct:  [33]\n",
            "predicted:  [33] correct:  [33]\n",
            "predicted:  [34] correct:  [34]\n",
            "predicted:  [34] correct:  [34]\n",
            "predicted:  [34] correct:  [34]\n",
            "predicted:  [34] correct:  [34]\n",
            "predicted:  [35] correct:  [35]\n",
            "predicted:  [35] correct:  [35]\n",
            "predicted:  [5] correct:  [35]\n",
            "predicted:  [35] correct:  [35]\n",
            "predicted:  [7] correct:  [36]\n",
            "predicted:  [36] correct:  [36]\n",
            "predicted:  [7] correct:  [36]\n",
            "predicted:  [36] correct:  [36]\n",
            "predicted:  [37] correct:  [37]\n",
            "predicted:  [37] correct:  [37]\n",
            "predicted:  [37] correct:  [37]\n",
            "predicted:  [37] correct:  [37]\n",
            "predicted:  [38] correct:  [38]\n",
            "predicted:  [38] correct:  [38]\n",
            "predicted:  [38] correct:  [38]\n",
            "predicted:  [38] correct:  [38]\n",
            "predicted:  [39] correct:  [39]\n",
            "predicted:  [39] correct:  [39]\n",
            "predicted:  [39] correct:  [39]\n",
            "predicted:  [39] correct:  [39]\n",
            "predicted:  [40] correct:  [40]\n",
            "predicted:  [40] correct:  [40]\n",
            "predicted:  [40] correct:  [40]\n",
            "predicted:  [40] correct:  [40]\n"
          ],
          "name": "stdout"
        },
        {
          "output_type": "execute_result",
          "data": {
            "text/plain": [
              "92.5"
            ]
          },
          "metadata": {
            "tags": []
          },
          "execution_count": 36
        }
      ]
    },
    {
      "cell_type": "markdown",
      "metadata": {
        "id": "I42kV7bQPDab"
      },
      "source": [
        "##5. Check for different K Value using LDA"
      ]
    },
    {
      "cell_type": "code",
      "metadata": {
        "id": "ENPntqCcPGeI",
        "outputId": "50808223-d793-44d4-ba0d-dca2b21c3556",
        "colab": {
          "base_uri": "https://localhost:8080/",
          "height": 34
        }
      },
      "source": [
        "accuracy = []\n",
        "K = []\n",
        "for i in range(2, 82, 20):\n",
        "  K.append(i)\n",
        "K"
      ],
      "execution_count": 37,
      "outputs": [
        {
          "output_type": "execute_result",
          "data": {
            "text/plain": [
              "[2, 22, 42, 62]"
            ]
          },
          "metadata": {
            "tags": []
          },
          "execution_count": 37
        }
      ]
    },
    {
      "cell_type": "code",
      "metadata": {
        "id": "QGiIgcfPPS-y",
        "outputId": "3073e08a-a7c4-41a0-f6ed-b4d00fd110c3",
        "colab": {
          "base_uri": "https://localhost:8080/",
          "height": 101
        }
      },
      "source": [
        "for k in K:\n",
        "  # print(k)\n",
        "  feature_vec = n_components(k, V)\n",
        "  # print(\"feature_vec\", feature_vec.shape)\n",
        "  eigenFace_train = gen_eigenface(feature_vec, dev)\n",
        "  # print(eigenFace_train.shape)\n",
        "  projection_train = gen_projection(eigenFace_train, dev)\n",
        "  # print(projection_train.shape)\n",
        "  M = mean_proj(projection_train)\n",
        "  # print(M.shape)\n",
        "  SW = intra_scatter(projection_train)\n",
        "  # print(SW.shape)\n",
        "  SB = inter_scatter(projection_train, M)\n",
        "  # print(SB.shape)\n",
        "  J = criterion_func(SW, SB)\n",
        "  # print(J.shape)\n",
        "  eigVal, eigVec = np.linalg.eig(J)\n",
        "  idx = np.argsort(eigVal)[::-1] # get the indices in descending order according to data\n",
        "  eigVal = eigVal[idx] # sort the value\n",
        "  eigVec = eigVec[:, idx] # sort the vector\n",
        "  # print(eigVec.shape)\n",
        "  fisher_faces = fisher_face(eigVec, projection_train)\n",
        "  # print(fisher_faces.shape)\n",
        "  projection_test = gen_projection(eigenFace_train, dev_test)\n",
        "  # print(projection_test.shape)\n",
        "  PFTI = np.dot(eigVec.T, projection_test)\n",
        "  # print(PFTI.shape)\n",
        "  correctlMatch = 0\n",
        "  for i in range(PFTI.shape[1]):\n",
        "    predicted = predict(PFTI[:, i], fisher_faces)\n",
        "    if(predicted == y_test[i]):\n",
        "      correctlMatch += 1\n",
        "  accuracy.append(correctlMatch/projection_test.shape[1])\n",
        "print(accuracy)"
      ],
      "execution_count": 38,
      "outputs": [
        {
          "output_type": "stream",
          "text": [
            "shape of mean of projection (2, 1)\n",
            "shape of mean of projection (22, 1)\n",
            "shape of mean of projection (42, 1)\n",
            "shape of mean of projection (62, 1)\n",
            "[0.4125, 0.93125, 0.95, 0.9375]\n"
          ],
          "name": "stdout"
        }
      ]
    },
    {
      "cell_type": "code",
      "metadata": {
        "id": "hrAh6f2JQDnA",
        "outputId": "86c6a0fe-5df9-4d15-825b-7132557713e0",
        "colab": {
          "base_uri": "https://localhost:8080/",
          "height": 295
        }
      },
      "source": [
        "plt.plot(K, accuracy)\n",
        "plt.xlabel('k value')\n",
        "plt.ylabel('accuracy') \n",
        "plt.title('accuracy vs k Using LDA')\n",
        "plt.show()"
      ],
      "execution_count": 39,
      "outputs": [
        {
          "output_type": "display_data",
          "data": {
            "image/png": "[encoded data removed]",
            "text/plain": [
              "<Figure size 432x288 with 1 Axes>"
            ]
          },
          "metadata": {
            "tags": [],
            "needs_background": "light"
          }
        }
      ]
    },
    {
      "cell_type": "markdown",
      "metadata": {
        "id": "iPKdtiVEYoed"
      },
      "source": [
        "##6. Check for different K Value using PCA"
      ]
    },
    {
      "cell_type": "code",
      "metadata": {
        "id": "0k3CM1evYg01",
        "outputId": "1b48de7b-231e-47d4-e4f4-3397e036f70c",
        "colab": {
          "base_uri": "https://localhost:8080/",
          "height": 34
        }
      },
      "source": [
        "accuracy = []\n",
        "K = []\n",
        "for i in range(2, 82, 20):\n",
        "  K.append(i)\n",
        "K"
      ],
      "execution_count": 40,
      "outputs": [
        {
          "output_type": "execute_result",
          "data": {
            "text/plain": [
              "[2, 22, 42, 62]"
            ]
          },
          "metadata": {
            "tags": []
          },
          "execution_count": 40
        }
      ]
    },
    {
      "cell_type": "code",
      "metadata": {
        "id": "uUjmNbZKYunx",
        "outputId": "025aaffd-0c72-4514-94de-b6e6918fffd9",
        "colab": {
          "base_uri": "https://localhost:8080/",
          "height": 34
        }
      },
      "source": [
        "for k in K:\n",
        "  feature_vec = n_components(k, V)\n",
        "  # print(feature_vec.shape)\n",
        "  eigenFace_train = gen_eigenface(feature_vec, dev)\n",
        "  # print(eigenFace_train.shape)\n",
        "  projection_train = gen_projection(eigenFace_train, dev)\n",
        "  # print(projection_train.shape)\n",
        "  projection_test = gen_projection(eigenFace_train, dev_test)\n",
        "  # print(projection_test.shape)\n",
        "  correctlMatch = 0\n",
        "  for i in range(projection_test.shape[1]):\n",
        "    predicted = predict(projection_test[:, i], projection_train)\n",
        "    if(predicted == y_test[i]):\n",
        "      correctlMatch += 1\n",
        "  accuracy.append(correctlMatch/projection_test.shape[1])\n",
        "print(accuracy)"
      ],
      "execution_count": 41,
      "outputs": [
        {
          "output_type": "stream",
          "text": [
            "[0.4125, 0.88125, 0.88125, 0.88125]\n"
          ],
          "name": "stdout"
        }
      ]
    },
    {
      "cell_type": "code",
      "metadata": {
        "id": "mm7LbRfVY-6Q",
        "outputId": "78318896-abc5-4c4a-be66-b5172a61076d",
        "colab": {
          "base_uri": "https://localhost:8080/",
          "height": 295
        }
      },
      "source": [
        "plt.plot(K, accuracy)\n",
        "plt.xlabel('k value')\n",
        "plt.ylabel('accuracy') \n",
        "plt.title('accuracy vs k! using PCA')\n",
        "plt.show()"
      ],
      "execution_count": 42,
      "outputs": [
        {
          "output_type": "display_data",
          "data": {
            "image/png": "[encoded data removed]",
            "text/plain": [
              "<Figure size 432x288 with 1 Axes>"
            ]
          },
          "metadata": {
            "tags": [],
            "needs_background": "light"
          }
        }
      ]
    },
    {
      "cell_type": "markdown",
      "metadata": {
        "id": "JvzzjEczZJoD"
      },
      "source": [
        "##7. Conclusion\n",
        "Training using LDA gives higher accuracy as compare to PCA"
      ]
    },
    {
      "cell_type": "markdown",
      "metadata": {
        "id": "FycBMu9RZdWm"
      },
      "source": [
        "##8. Using Mahalanobis Distance"
      ]
    },
    {
      "cell_type": "code",
      "metadata": {
        "id": "rm-5eQvDF2r6",
        "outputId": "da7fc689-72c4-4efe-ab21-ef5e03c09356",
        "colab": {
          "base_uri": "https://localhost:8080/",
          "height": 34
        }
      },
      "source": [
        "accuracy = []\n",
        "K = []\n",
        "for i in range(2, 82, 20):\n",
        "  K.append(i)\n",
        "K"
      ],
      "execution_count": 57,
      "outputs": [
        {
          "output_type": "execute_result",
          "data": {
            "text/plain": [
              "[2, 22, 42, 62]"
            ]
          },
          "metadata": {
            "tags": []
          },
          "execution_count": 57
        }
      ]
    },
    {
      "cell_type": "code",
      "metadata": {
        "id": "G6D33BY-GmQx"
      },
      "source": [
        "from scipy.spatial.distance import mahalanobis\n",
        "def predictM(d, X):\n",
        "  # d: projection of testing images\n",
        "  # print(d.shape)\n",
        "  # print(X.shape)\n",
        "  minDist = np.finfo('float').max # initialize with max value\n",
        "  minClass = -1 # default closest match initialized\n",
        "  cov = np.dot(X, X.T)\n",
        "  covI = np.linalg.inv(cov)\n",
        "  for i in range(X.shape[1]):\n",
        "    dist = mahalanobis(X[:, i], d, covI)\n",
        "    if dist < minDist:\n",
        "      minDist = dist\n",
        "      minClass = y_train[i]\n",
        "  return minClass"
      ],
      "execution_count": 58,
      "outputs": []
    },
    {
      "cell_type": "code",
      "metadata": {
        "id": "4ZdvKB23GJNU",
        "outputId": "9601341f-7ea5-4949-c8ed-c060f3b33a98",
        "colab": {
          "base_uri": "https://localhost:8080/",
          "height": 101
        }
      },
      "source": [
        "for k in K:\n",
        "  # print(k)\n",
        "  feature_vec = n_components(k, V)\n",
        "  # print(\"feature_vec\", feature_vec.shape)\n",
        "  eigenFace_train = gen_eigenface(feature_vec, dev)\n",
        "  # print(eigenFace_train.shape)\n",
        "  projection_train = gen_projection(eigenFace_train, dev)\n",
        "  # print(projection_train.shape)\n",
        "  M = mean_proj(projection_train)\n",
        "  # print(M.shape)\n",
        "  SW = intra_scatter(projection_train)\n",
        "  # print(SW.shape)\n",
        "  SB = inter_scatter(projection_train, M)\n",
        "  # print(SB.shape)\n",
        "  J = criterion_func(SW, SB)\n",
        "  # print(J.shape)\n",
        "  eigVal, eigVec = np.linalg.eig(J)\n",
        "  idx = np.argsort(eigVal)[::-1] # get the indices in descending order according to data\n",
        "  eigVal = eigVal[idx] # sort the value\n",
        "  eigVec = eigVec[:, idx] # sort the vector\n",
        "  # print(eigVec.shape)\n",
        "  fisher_faces = fisher_face(eigVec, projection_train)\n",
        "  # print(fisher_faces.shape)\n",
        "  projection_test = gen_projection(eigenFace_train, dev_test)\n",
        "  # print(projection_test.shape)\n",
        "  PFTI = np.dot(eigVec.T, projection_test)\n",
        "  # print(PFTI.shape)\n",
        "  correctlMatch = 0\n",
        "  for i in range(PFTI.shape[1]):\n",
        "    predicted = predictM(PFTI[:, i], fisher_faces)\n",
        "    if(predicted == y_test[i]):\n",
        "      correctlMatch += 1\n",
        "  accuracy.append(correctlMatch/projection_test.shape[1])\n",
        "print(accuracy)"
      ],
      "execution_count": 59,
      "outputs": [
        {
          "output_type": "stream",
          "text": [
            "shape of mean of projection (2, 1)\n",
            "shape of mean of projection (22, 1)\n",
            "shape of mean of projection (42, 1)\n",
            "shape of mean of projection (62, 1)\n",
            "[0.41875, 0.89375, 0.94375, 0.9]\n"
          ],
          "name": "stdout"
        }
      ]
    },
    {
      "cell_type": "code",
      "metadata": {
        "id": "cCsA2tJRJGtx",
        "outputId": "78ecbf6e-2fe1-40c9-d995-3beee78c075d",
        "colab": {
          "base_uri": "https://localhost:8080/",
          "height": 295
        }
      },
      "source": [
        "plt.plot(K, accuracy)\n",
        "plt.xlabel('k value')\n",
        "plt.ylabel('accuracy') \n",
        "plt.title('accuracy vs k! using PCA with mahalanobis')\n",
        "plt.show()"
      ],
      "execution_count": 60,
      "outputs": [
        {
          "output_type": "display_data",
          "data": {
            "image/png": "[encoded data removed]",
            "text/plain": [
              "<Figure size 432x288 with 1 Axes>"
            ]
          },
          "metadata": {
            "tags": [],
            "needs_background": "light"
          }
        }
      ]
    },
    {
      "cell_type": "markdown",
      "metadata": {
        "id": "ABTJxbk5KT_l"
      },
      "source": [
        "Nearly similar accuracy we found using Mahalanobis"
      ]
    }
  ]
}