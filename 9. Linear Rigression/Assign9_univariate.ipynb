{
  "nbformat": 4,
  "nbformat_minor": 0,
  "metadata": {
    "colab": {
      "name": "Assign9_117CS0259_univariate.ipynb",
      "provenance": [],
      "collapsed_sections": []
    },
    "kernelspec": {
      "name": "python3",
      "display_name": "Python 3"
    }
  },
  "cells": [
    {
      "cell_type": "markdown",
      "metadata": {
        "id": "ZWd0dedyc_2e"
      },
      "source": [
        "# Linear Regression"
      ]
    },
    {
      "cell_type": "markdown",
      "metadata": {
        "id": "Gg1U6S6203_-"
      },
      "source": [
        "## Import Dataset"
      ]
    },
    {
      "cell_type": "code",
      "metadata": {
        "id": "QjY6T6NLkT0e"
      },
      "source": [
        "# from google.colab import files\n",
        "# files.upload()"
      ],
      "execution_count": 1,
      "outputs": []
    },
    {
      "cell_type": "markdown",
      "metadata": {
        "id": "YAEe4fJt7Pzt"
      },
      "source": [
        "## Import Libraries"
      ]
    },
    {
      "cell_type": "code",
      "metadata": {
        "id": "CjPuw4PkczK8"
      },
      "source": [
        "# import Library\n",
        "import matplotlib.pyplot as plt\n",
        "import numpy as np\n",
        "from sklearn.model_selection import train_test_split\n",
        "import pandas as pd"
      ],
      "execution_count": 2,
      "outputs": []
    },
    {
      "cell_type": "markdown",
      "metadata": {
        "id": "_EeQuTSV7S6r"
      },
      "source": [
        "## Dataset Visualization"
      ]
    },
    {
      "cell_type": "code",
      "metadata": {
        "id": "8KJeKqlA08pY"
      },
      "source": [
        "# Import Dataset\n",
        "dataset = pd.read_excel('real-estate.xlsx')"
      ],
      "execution_count": 3,
      "outputs": []
    },
    {
      "cell_type": "code",
      "metadata": {
        "id": "BhgburFW0_2H",
        "outputId": "fb2c0cd7-4d13-4330-b0d1-c4b01a4b8c3b",
        "colab": {
          "base_uri": "https://localhost:8080/"
        }
      },
      "source": [
        "print(dataset)"
      ],
      "execution_count": 4,
      "outputs": [
        {
          "output_type": "stream",
          "text": [
            "      No  X1 transaction date  ...  X6 longitude  Y house price of unit area\n",
            "0      1          2012.916667  ...     121.54024                        37.9\n",
            "1      2          2012.916667  ...     121.53951                        42.2\n",
            "2      3          2013.583333  ...     121.54391                        47.3\n",
            "3      4          2013.500000  ...     121.54391                        54.8\n",
            "4      5          2012.833333  ...     121.54245                        43.1\n",
            "..   ...                  ...  ...           ...                         ...\n",
            "409  410          2013.000000  ...     121.50381                        15.4\n",
            "410  411          2012.666667  ...     121.54310                        50.0\n",
            "411  412          2013.250000  ...     121.53986                        40.6\n",
            "412  413          2013.000000  ...     121.54067                        52.5\n",
            "413  414          2013.500000  ...     121.54310                        63.9\n",
            "\n",
            "[414 rows x 8 columns]\n"
          ],
          "name": "stdout"
        }
      ]
    },
    {
      "cell_type": "code",
      "metadata": {
        "id": "NznWkoUq1AHL",
        "outputId": "e17eab8c-620f-4858-aeb3-8d6b14060899",
        "colab": {
          "base_uri": "https://localhost:8080/"
        }
      },
      "source": [
        "dataset.columns"
      ],
      "execution_count": 5,
      "outputs": [
        {
          "output_type": "execute_result",
          "data": {
            "text/plain": [
              "Index(['No', 'X1 transaction date', 'X2 house age',\n",
              "       'X3 distance to the nearest MRT station',\n",
              "       'X4 number of convenience stores', 'X5 latitude', 'X6 longitude',\n",
              "       'Y house price of unit area'],\n",
              "      dtype='object')"
            ]
          },
          "metadata": {
            "tags": []
          },
          "execution_count": 5
        }
      ]
    },
    {
      "cell_type": "code",
      "metadata": {
        "id": "2QcqptKQ1ANS",
        "outputId": "385bd8d7-de8a-41b2-fc15-14e05818f111",
        "colab": {
          "base_uri": "https://localhost:8080/",
          "height": 343
        }
      },
      "source": [
        "dataset.head(10)"
      ],
      "execution_count": 6,
      "outputs": [
        {
          "output_type": "execute_result",
          "data": {
            "text/html": [
              "<div>\n",
              "<style scoped>\n",
              "    .dataframe tbody tr th:only-of-type {\n",
              "        vertical-align: middle;\n",
              "    }\n",
              "\n",
              "    .dataframe tbody tr th {\n",
              "        vertical-align: top;\n",
              "    }\n",
              "\n",
              "    .dataframe thead th {\n",
              "        text-align: right;\n",
              "    }\n",
              "</style>\n",
              "<table border=\"1\" class=\"dataframe\">\n",
              "  <thead>\n",
              "    <tr style=\"text-align: right;\">\n",
              "      <th></th>\n",
              "      <th>No</th>\n",
              "      <th>X1 transaction date</th>\n",
              "      <th>X2 house age</th>\n",
              "      <th>X3 distance to the nearest MRT station</th>\n",
              "      <th>X4 number of convenience stores</th>\n",
              "      <th>X5 latitude</th>\n",
              "      <th>X6 longitude</th>\n",
              "      <th>Y house price of unit area</th>\n",
              "    </tr>\n",
              "  </thead>\n",
              "  <tbody>\n",
              "    <tr>\n",
              "      <th>0</th>\n",
              "      <td>1</td>\n",
              "      <td>2012.916667</td>\n",
              "      <td>32.0</td>\n",
              "      <td>84.87882</td>\n",
              "      <td>10</td>\n",
              "      <td>24.98298</td>\n",
              "      <td>121.54024</td>\n",
              "      <td>37.9</td>\n",
              "    </tr>\n",
              "    <tr>\n",
              "      <th>1</th>\n",
              "      <td>2</td>\n",
              "      <td>2012.916667</td>\n",
              "      <td>19.5</td>\n",
              "      <td>306.59470</td>\n",
              "      <td>9</td>\n",
              "      <td>24.98034</td>\n",
              "      <td>121.53951</td>\n",
              "      <td>42.2</td>\n",
              "    </tr>\n",
              "    <tr>\n",
              "      <th>2</th>\n",
              "      <td>3</td>\n",
              "      <td>2013.583333</td>\n",
              "      <td>13.3</td>\n",
              "      <td>561.98450</td>\n",
              "      <td>5</td>\n",
              "      <td>24.98746</td>\n",
              "      <td>121.54391</td>\n",
              "      <td>47.3</td>\n",
              "    </tr>\n",
              "    <tr>\n",
              "      <th>3</th>\n",
              "      <td>4</td>\n",
              "      <td>2013.500000</td>\n",
              "      <td>13.3</td>\n",
              "      <td>561.98450</td>\n",
              "      <td>5</td>\n",
              "      <td>24.98746</td>\n",
              "      <td>121.54391</td>\n",
              "      <td>54.8</td>\n",
              "    </tr>\n",
              "    <tr>\n",
              "      <th>4</th>\n",
              "      <td>5</td>\n",
              "      <td>2012.833333</td>\n",
              "      <td>5.0</td>\n",
              "      <td>390.56840</td>\n",
              "      <td>5</td>\n",
              "      <td>24.97937</td>\n",
              "      <td>121.54245</td>\n",
              "      <td>43.1</td>\n",
              "    </tr>\n",
              "    <tr>\n",
              "      <th>5</th>\n",
              "      <td>6</td>\n",
              "      <td>2012.666667</td>\n",
              "      <td>7.1</td>\n",
              "      <td>2175.03000</td>\n",
              "      <td>3</td>\n",
              "      <td>24.96305</td>\n",
              "      <td>121.51254</td>\n",
              "      <td>32.1</td>\n",
              "    </tr>\n",
              "    <tr>\n",
              "      <th>6</th>\n",
              "      <td>7</td>\n",
              "      <td>2012.666667</td>\n",
              "      <td>34.5</td>\n",
              "      <td>623.47310</td>\n",
              "      <td>7</td>\n",
              "      <td>24.97933</td>\n",
              "      <td>121.53642</td>\n",
              "      <td>40.3</td>\n",
              "    </tr>\n",
              "    <tr>\n",
              "      <th>7</th>\n",
              "      <td>8</td>\n",
              "      <td>2013.416667</td>\n",
              "      <td>20.3</td>\n",
              "      <td>287.60250</td>\n",
              "      <td>6</td>\n",
              "      <td>24.98042</td>\n",
              "      <td>121.54228</td>\n",
              "      <td>46.7</td>\n",
              "    </tr>\n",
              "    <tr>\n",
              "      <th>8</th>\n",
              "      <td>9</td>\n",
              "      <td>2013.500000</td>\n",
              "      <td>31.7</td>\n",
              "      <td>5512.03800</td>\n",
              "      <td>1</td>\n",
              "      <td>24.95095</td>\n",
              "      <td>121.48458</td>\n",
              "      <td>18.8</td>\n",
              "    </tr>\n",
              "    <tr>\n",
              "      <th>9</th>\n",
              "      <td>10</td>\n",
              "      <td>2013.416667</td>\n",
              "      <td>17.9</td>\n",
              "      <td>1783.18000</td>\n",
              "      <td>3</td>\n",
              "      <td>24.96731</td>\n",
              "      <td>121.51486</td>\n",
              "      <td>22.1</td>\n",
              "    </tr>\n",
              "  </tbody>\n",
              "</table>\n",
              "</div>"
            ],
            "text/plain": [
              "   No  X1 transaction date  ...  X6 longitude  Y house price of unit area\n",
              "0   1          2012.916667  ...     121.54024                        37.9\n",
              "1   2          2012.916667  ...     121.53951                        42.2\n",
              "2   3          2013.583333  ...     121.54391                        47.3\n",
              "3   4          2013.500000  ...     121.54391                        54.8\n",
              "4   5          2012.833333  ...     121.54245                        43.1\n",
              "5   6          2012.666667  ...     121.51254                        32.1\n",
              "6   7          2012.666667  ...     121.53642                        40.3\n",
              "7   8          2013.416667  ...     121.54228                        46.7\n",
              "8   9          2013.500000  ...     121.48458                        18.8\n",
              "9  10          2013.416667  ...     121.51486                        22.1\n",
              "\n",
              "[10 rows x 8 columns]"
            ]
          },
          "metadata": {
            "tags": []
          },
          "execution_count": 6
        }
      ]
    },
    {
      "cell_type": "code",
      "metadata": {
        "id": "lRv94SJN0_6F",
        "outputId": "0b577be0-e5f8-4f06-ad8f-384b03eb95ec",
        "colab": {
          "base_uri": "https://localhost:8080/",
          "height": 195
        }
      },
      "source": [
        "dataset.tail(5)"
      ],
      "execution_count": 7,
      "outputs": [
        {
          "output_type": "execute_result",
          "data": {
            "text/html": [
              "<div>\n",
              "<style scoped>\n",
              "    .dataframe tbody tr th:only-of-type {\n",
              "        vertical-align: middle;\n",
              "    }\n",
              "\n",
              "    .dataframe tbody tr th {\n",
              "        vertical-align: top;\n",
              "    }\n",
              "\n",
              "    .dataframe thead th {\n",
              "        text-align: right;\n",
              "    }\n",
              "</style>\n",
              "<table border=\"1\" class=\"dataframe\">\n",
              "  <thead>\n",
              "    <tr style=\"text-align: right;\">\n",
              "      <th></th>\n",
              "      <th>No</th>\n",
              "      <th>X1 transaction date</th>\n",
              "      <th>X2 house age</th>\n",
              "      <th>X3 distance to the nearest MRT station</th>\n",
              "      <th>X4 number of convenience stores</th>\n",
              "      <th>X5 latitude</th>\n",
              "      <th>X6 longitude</th>\n",
              "      <th>Y house price of unit area</th>\n",
              "    </tr>\n",
              "  </thead>\n",
              "  <tbody>\n",
              "    <tr>\n",
              "      <th>409</th>\n",
              "      <td>410</td>\n",
              "      <td>2013.000000</td>\n",
              "      <td>13.7</td>\n",
              "      <td>4082.01500</td>\n",
              "      <td>0</td>\n",
              "      <td>24.94155</td>\n",
              "      <td>121.50381</td>\n",
              "      <td>15.4</td>\n",
              "    </tr>\n",
              "    <tr>\n",
              "      <th>410</th>\n",
              "      <td>411</td>\n",
              "      <td>2012.666667</td>\n",
              "      <td>5.6</td>\n",
              "      <td>90.45606</td>\n",
              "      <td>9</td>\n",
              "      <td>24.97433</td>\n",
              "      <td>121.54310</td>\n",
              "      <td>50.0</td>\n",
              "    </tr>\n",
              "    <tr>\n",
              "      <th>411</th>\n",
              "      <td>412</td>\n",
              "      <td>2013.250000</td>\n",
              "      <td>18.8</td>\n",
              "      <td>390.96960</td>\n",
              "      <td>7</td>\n",
              "      <td>24.97923</td>\n",
              "      <td>121.53986</td>\n",
              "      <td>40.6</td>\n",
              "    </tr>\n",
              "    <tr>\n",
              "      <th>412</th>\n",
              "      <td>413</td>\n",
              "      <td>2013.000000</td>\n",
              "      <td>8.1</td>\n",
              "      <td>104.81010</td>\n",
              "      <td>5</td>\n",
              "      <td>24.96674</td>\n",
              "      <td>121.54067</td>\n",
              "      <td>52.5</td>\n",
              "    </tr>\n",
              "    <tr>\n",
              "      <th>413</th>\n",
              "      <td>414</td>\n",
              "      <td>2013.500000</td>\n",
              "      <td>6.5</td>\n",
              "      <td>90.45606</td>\n",
              "      <td>9</td>\n",
              "      <td>24.97433</td>\n",
              "      <td>121.54310</td>\n",
              "      <td>63.9</td>\n",
              "    </tr>\n",
              "  </tbody>\n",
              "</table>\n",
              "</div>"
            ],
            "text/plain": [
              "      No  X1 transaction date  ...  X6 longitude  Y house price of unit area\n",
              "409  410          2013.000000  ...     121.50381                        15.4\n",
              "410  411          2012.666667  ...     121.54310                        50.0\n",
              "411  412          2013.250000  ...     121.53986                        40.6\n",
              "412  413          2013.000000  ...     121.54067                        52.5\n",
              "413  414          2013.500000  ...     121.54310                        63.9\n",
              "\n",
              "[5 rows x 8 columns]"
            ]
          },
          "metadata": {
            "tags": []
          },
          "execution_count": 7
        }
      ]
    },
    {
      "cell_type": "code",
      "metadata": {
        "id": "3OBx0rNB1HfK",
        "outputId": "aad94130-e793-4666-f8be-2991c0c4571c",
        "colab": {
          "base_uri": "https://localhost:8080/"
        }
      },
      "source": [
        "dataset.info()"
      ],
      "execution_count": 8,
      "outputs": [
        {
          "output_type": "stream",
          "text": [
            "<class 'pandas.core.frame.DataFrame'>\n",
            "RangeIndex: 414 entries, 0 to 413\n",
            "Data columns (total 8 columns):\n",
            " #   Column                                  Non-Null Count  Dtype  \n",
            "---  ------                                  --------------  -----  \n",
            " 0   No                                      414 non-null    int64  \n",
            " 1   X1 transaction date                     414 non-null    float64\n",
            " 2   X2 house age                            414 non-null    float64\n",
            " 3   X3 distance to the nearest MRT station  414 non-null    float64\n",
            " 4   X4 number of convenience stores         414 non-null    int64  \n",
            " 5   X5 latitude                             414 non-null    float64\n",
            " 6   X6 longitude                            414 non-null    float64\n",
            " 7   Y house price of unit area              414 non-null    float64\n",
            "dtypes: float64(6), int64(2)\n",
            "memory usage: 26.0 KB\n"
          ],
          "name": "stdout"
        }
      ]
    },
    {
      "cell_type": "markdown",
      "metadata": {
        "id": "azAxdEHW7YhT"
      },
      "source": [
        "Splitting of Dataset"
      ]
    },
    {
      "cell_type": "code",
      "metadata": {
        "id": "FFi1SoCY1kWH",
        "outputId": "54d93819-9904-4486-8afc-cbd64b77ba82",
        "colab": {
          "base_uri": "https://localhost:8080/"
        }
      },
      "source": [
        "X = dataset.iloc[:, 2].values.reshape(-1, 1)\n",
        "y = dataset.iloc[:, -1:].values\n",
        "print(X.shape)\n",
        "print(y.shape)"
      ],
      "execution_count": 9,
      "outputs": [
        {
          "output_type": "stream",
          "text": [
            "(414, 1)\n",
            "(414, 1)\n"
          ],
          "name": "stdout"
        }
      ]
    },
    {
      "cell_type": "code",
      "metadata": {
        "id": "xRQl9Jl-1uj-",
        "outputId": "95ec0716-831d-42c0-b548-0b9f89385ed9",
        "colab": {
          "base_uri": "https://localhost:8080/",
          "height": 312
        }
      },
      "source": [
        "plt.scatter(X, y, c='r')\n",
        "plt.xlabel(dataset.columns[2])\n",
        "plt.ylabel(dataset.columns[7])\n",
        "plt.title(\"Price Vs Age!!\")"
      ],
      "execution_count": 10,
      "outputs": [
        {
          "output_type": "execute_result",
          "data": {
            "text/plain": [
              "Text(0.5, 1.0, 'Price Vs Age!!')"
            ]
          },
          "metadata": {
            "tags": []
          },
          "execution_count": 10
        },
        {
          "output_type": "display_data",
          "data": {
            "image/png": "[encoded data removed]",
            "text/plain": [
              "<Figure size 432x288 with 1 Axes>"
            ]
          },
          "metadata": {
            "tags": [],
            "needs_background": "light"
          }
        }
      ]
    },
    {
      "cell_type": "code",
      "metadata": {
        "id": "tlNy3Wlte5IJ",
        "outputId": "1c3317e7-5412-4bee-e4c1-3b22fa5efd4b",
        "colab": {
          "base_uri": "https://localhost:8080/"
        }
      },
      "source": [
        "# split data into train and test\n",
        "X_train, X_test, y_train, y_test = train_test_split(X, y, train_size=0.75, random_state=0) # 75% split\n",
        "print(X_train.shape)\n",
        "print(X_test.shape)"
      ],
      "execution_count": 11,
      "outputs": [
        {
          "output_type": "stream",
          "text": [
            "(310, 1)\n",
            "(104, 1)\n"
          ],
          "name": "stdout"
        }
      ]
    },
    {
      "cell_type": "markdown",
      "metadata": {
        "id": "UmoP_gs57dtP"
      },
      "source": [
        "## Normalization of Dataset"
      ]
    },
    {
      "cell_type": "code",
      "metadata": {
        "id": "1wbmN6Pu3NjZ",
        "outputId": "7848825f-ae84-41f7-d205-d8931ac4e3a1",
        "colab": {
          "base_uri": "https://localhost:8080/"
        }
      },
      "source": [
        "# normalization of input training data\n",
        "m = np.mean(X_train, axis=0)\n",
        "std = np.std(X_train, axis=0)\n",
        "print(m.shape)\n",
        "print(std.shape)"
      ],
      "execution_count": 12,
      "outputs": [
        {
          "output_type": "stream",
          "text": [
            "(1,)\n",
            "(1,)\n"
          ],
          "name": "stdout"
        }
      ]
    },
    {
      "cell_type": "code",
      "metadata": {
        "id": "UQGhTe_M3PS2"
      },
      "source": [
        "X_train = (X_train-m) / std "
      ],
      "execution_count": 13,
      "outputs": []
    },
    {
      "cell_type": "code",
      "metadata": {
        "id": "eA9Ksynz3RAQ"
      },
      "source": [
        "# normalization of testing data\n",
        "X_test = (X_test-m) / std "
      ],
      "execution_count": 14,
      "outputs": []
    },
    {
      "cell_type": "markdown",
      "metadata": {
        "id": "FBptuMHs7i-F"
      },
      "source": [
        "# Calculating Bias and Weigth Vector"
      ]
    },
    {
      "cell_type": "code",
      "metadata": {
        "id": "xrSvLhxj3SWo"
      },
      "source": [
        "n = X_train.shape[0]\n",
        "X_train_sum = np.sum(X_train)\n",
        "y_train_sum = np.sum(y_train)\n",
        "X_train_sq = np.sum(X_train * X_train)\n",
        "y_train_sq = np.sum(y_train * y_train)\n",
        "xy_sum = np.sum(X_train * y_train)"
      ],
      "execution_count": 15,
      "outputs": []
    },
    {
      "cell_type": "code",
      "metadata": {
        "id": "5ddJTifB4obd",
        "outputId": "60d8e98a-0ee7-421d-de93-e44044db5a4a",
        "colab": {
          "base_uri": "https://localhost:8080/"
        }
      },
      "source": [
        "w1 = (y_train_sum * X_train_sq - X_train_sum * xy_sum) / (n * X_train_sq - X_train_sum**2) # bias vector\n",
        "w2 = (X_train_sum * y_train_sum - n * xy_sum) / (X_train_sum**2 - n * X_train_sq) # weight vector\n",
        "print(\"Wight vector:\", w2)\n",
        "print(\"Bias Vector:\", w1)"
      ],
      "execution_count": 16,
      "outputs": [
        {
          "output_type": "stream",
          "text": [
            "Wight vector: -3.011859502762029\n",
            "Bias Vector: 38.24032258064516\n"
          ],
          "name": "stdout"
        }
      ]
    },
    {
      "cell_type": "markdown",
      "metadata": {
        "id": "5MsKq1dz75Pe"
      },
      "source": [
        "# Prediction using Testing Dataset"
      ]
    },
    {
      "cell_type": "code",
      "metadata": {
        "id": "016w8hV_55ZD",
        "outputId": "820913aa-dcce-415a-ce2a-4da5cd7adad2",
        "colab": {
          "base_uri": "https://localhost:8080/"
        }
      },
      "source": [
        "predict = w1 + w2 * X_test \n",
        "\n",
        "for i in range(X_test.shape[0]):\n",
        "  print(\"Predicted:\", predict[i], \"Correct Label:\", y_test[i])"
      ],
      "execution_count": 17,
      "outputs": [
        {
          "output_type": "stream",
          "text": [
            "Predicted: [40.15474324] Correct Label: [45.3]\n",
            "Predicted: [36.50073015] Correct Label: [14.4]\n",
            "Predicted: [33.70020916] Correct Label: [46.]\n",
            "Predicted: [36.07398409] Correct Label: [15.6]\n",
            "Predicted: [39.06120647] Correct Label: [50.2]\n",
            "Predicted: [33.14010497] Correct Label: [38.1]\n",
            "Predicted: [33.353478] Correct Label: [48.5]\n",
            "Predicted: [33.62019428] Correct Label: [41.4]\n",
            "Predicted: [40.10139998] Correct Label: [51.6]\n",
            "Predicted: [38.31440088] Correct Label: [40.1]\n",
            "Predicted: [39.35459439] Correct Label: [42.]\n",
            "Predicted: [39.35459439] Correct Label: [42.4]\n",
            "Predicted: [39.51462416] Correct Label: [28.5]\n",
            "Predicted: [33.83356731] Correct Label: [39.1]\n",
            "Predicted: [41.67502606] Correct Label: [53.7]\n",
            "Predicted: [33.32680637] Correct Label: [36.8]\n",
            "Predicted: [34.2069701] Correct Label: [40.6]\n",
            "Predicted: [42.90192096] Correct Label: [55.2]\n",
            "Predicted: [39.43460927] Correct Label: [39.3]\n",
            "Predicted: [33.62019428] Correct Label: [44.3]\n",
            "Predicted: [41.38163814] Correct Label: [53.5]\n",
            "Predicted: [39.70132555] Correct Label: [25.3]\n",
            "Predicted: [34.90043244] Correct Label: [22.8]\n",
            "Predicted: [38.60778879] Correct Label: [51.7]\n",
            "Predicted: [42.34181677] Correct Label: [45.5]\n",
            "Predicted: [38.9011767] Correct Label: [34.4]\n",
            "Predicted: [38.04768459] Correct Label: [31.6]\n",
            "Predicted: [34.79374593] Correct Label: [25.9]\n",
            "Predicted: [41.46165303] Correct Label: [49.5]\n",
            "Predicted: [40.15474324] Correct Label: [24.7]\n",
            "Predicted: [41.8083842] Correct Label: [51.7]\n",
            "Predicted: [38.07435622] Correct Label: [29.7]\n",
            "Predicted: [42.90192096] Correct Label: [45.4]\n",
            "Predicted: [33.38014962] Correct Label: [50.5]\n",
            "Predicted: [38.18104274] Correct Label: [26.5]\n",
            "Predicted: [39.6479823] Correct Label: [30.1]\n",
            "Predicted: [34.04694033] Correct Label: [46.1]\n",
            "Predicted: [41.54166791] Correct Label: [28.9]\n",
            "Predicted: [41.08825023] Correct Label: [54.4]\n",
            "Predicted: [38.10102785] Correct Label: [15.]\n",
            "Predicted: [42.90192096] Correct Label: [44.9]\n",
            "Predicted: [32.71335891] Correct Label: [29.8]\n",
            "Predicted: [38.66113205] Correct Label: [23.6]\n",
            "Predicted: [34.28698499] Correct Label: [48.]\n",
            "Predicted: [38.44775902] Correct Label: [16.7]\n",
            "Predicted: [41.16826512] Correct Label: [40.9]\n",
            "Predicted: [35.08713384] Correct Label: [40.2]\n",
            "Predicted: [38.60778879] Correct Label: [12.9]\n",
            "Predicted: [39.96804184] Correct Label: [21.3]\n",
            "Predicted: [41.8083842] Correct Label: [62.1]\n",
            "Predicted: [41.16826512] Correct Label: [63.9]\n",
            "Predicted: [33.70020916] Correct Label: [40.3]\n",
            "Predicted: [37.70095342] Correct Label: [42.2]\n",
            "Predicted: [34.82041756] Correct Label: [19.1]\n",
            "Predicted: [39.72799718] Correct Label: [28.4]\n",
            "Predicted: [33.59352265] Correct Label: [28.5]\n",
            "Predicted: [41.88839908] Correct Label: [60.7]\n",
            "Predicted: [35.80726781] Correct Label: [37.5]\n",
            "Predicted: [39.4612809] Correct Label: [39.3]\n",
            "Predicted: [38.18104274] Correct Label: [28.8]\n",
            "Predicted: [33.48683614] Correct Label: [42.3]\n",
            "Predicted: [32.20659797] Correct Label: [44.3]\n",
            "Predicted: [39.16789299] Correct Label: [42.6]\n",
            "Predicted: [40.26142975] Correct Label: [57.4]\n",
            "Predicted: [33.99359708] Correct Label: [42.2]\n",
            "Predicted: [37.32755063] Correct Label: [25.7]\n",
            "Predicted: [35.06046221] Correct Label: [13.2]\n",
            "Predicted: [34.34032825] Correct Label: [27.]\n",
            "Predicted: [42.07510048] Correct Label: [56.2]\n",
            "Predicted: [33.14010497] Correct Label: [38.3]\n",
            "Predicted: [37.86098319] Correct Label: [20.8]\n",
            "Predicted: [41.56833954] Correct Label: [43.1]\n",
            "Predicted: [32.9800752] Correct Label: [78.3]\n",
            "Predicted: [38.9011767] Correct Label: [20.9]\n",
            "Predicted: [34.50035802] Correct Label: [32.5]\n",
            "Predicted: [41.83505583] Correct Label: [33.4]\n",
            "Predicted: [41.00823535] Correct Label: [32.1]\n",
            "Predicted: [39.19456461] Correct Label: [19.2]\n",
            "Predicted: [38.5277739] Correct Label: [53.]\n",
            "Predicted: [38.23438599] Correct Label: [38.2]\n",
            "Predicted: [37.4875804] Correct Label: [46.7]\n",
            "Predicted: [38.98119159] Correct Label: [24.6]\n",
            "Predicted: [34.79374593] Correct Label: [36.2]\n",
            "Predicted: [38.50110228] Correct Label: [23.2]\n",
            "Predicted: [41.70169768] Correct Label: [29.3]\n",
            "Predicted: [32.68668729] Correct Label: [38.4]\n",
            "Predicted: [37.62093854] Correct Label: [37.5]\n",
            "Predicted: [39.38126601] Correct Label: [34.3]\n",
            "Predicted: [41.64835443] Correct Label: [44.8]\n",
            "Predicted: [42.60853305] Correct Label: [54.4]\n",
            "Predicted: [42.90192096] Correct Label: [37.9]\n",
            "Predicted: [38.95451996] Correct Label: [7.6]\n",
            "Predicted: [39.62131067] Correct Label: [29.5]\n",
            "Predicted: [38.23438599] Correct Label: [25.3]\n",
            "Predicted: [34.44701476] Correct Label: [13.7]\n",
            "Predicted: [32.44664263] Correct Label: [30.]\n",
            "Predicted: [39.38126601] Correct Label: [30.8]\n",
            "Predicted: [38.5277739] Correct Label: [40.6]\n",
            "Predicted: [38.39441576] Correct Label: [20.7]\n",
            "Predicted: [40.90154883] Correct Label: [40.8]\n",
            "Predicted: [42.90192096] Correct Label: [55.3]\n",
            "Predicted: [39.43460927] Correct Label: [40.5]\n",
            "Predicted: [35.43386501] Correct Label: [40.8]\n",
            "Predicted: [38.39441576] Correct Label: [40.3]\n"
          ],
          "name": "stdout"
        }
      ]
    },
    {
      "cell_type": "markdown",
      "metadata": {
        "id": "PH53LMuS7_SX"
      },
      "source": [
        "## Error Computation"
      ]
    },
    {
      "cell_type": "code",
      "metadata": {
        "id": "OayEtMbn6-OC",
        "outputId": "3b1fbb64-5bbc-4978-b78e-bdeed03dc70e",
        "colab": {
          "base_uri": "https://localhost:8080/"
        }
      },
      "source": [
        "error = y_test - predict\n",
        "sq_err = np.square(error)\n",
        "RMSE = np.sqrt(np.sum(sq_err))\n",
        "print(\"RMSE:\", RMSE)"
      ],
      "execution_count": 18,
      "outputs": [
        {
          "output_type": "stream",
          "text": [
            "RMSE: 130.40663662905462\n"
          ],
          "name": "stdout"
        }
      ]
    }
  ]
}