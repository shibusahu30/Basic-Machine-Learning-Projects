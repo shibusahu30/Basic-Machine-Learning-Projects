{
  "nbformat": 4,
  "nbformat_minor": 0,
  "metadata": {
    "colab": {
      "name": "Assign9_117CS0259_multivariate.ipynb",
      "provenance": [],
      "collapsed_sections": []
    },
    "kernelspec": {
      "name": "python3",
      "display_name": "Python 3"
    }
  },
  "cells": [
    {
      "cell_type": "markdown",
      "metadata": {
        "id": "69dQzSaVckp1"
      },
      "source": [
        "# Multivariate Linear Regression"
      ]
    },
    {
      "cell_type": "markdown",
      "metadata": {
        "id": "ICenFeOizbMn"
      },
      "source": [
        "## Import Dataset"
      ]
    },
    {
      "cell_type": "code",
      "metadata": {
        "id": "xw0QSo28j4Mz"
      },
      "source": [
        "# from google.colab import files\n",
        "# files.upload()"
      ],
      "execution_count": 1,
      "outputs": []
    },
    {
      "cell_type": "markdown",
      "metadata": {
        "id": "cuq5tcqHzeOT"
      },
      "source": [
        "## Import Libraries"
      ]
    },
    {
      "cell_type": "code",
      "metadata": {
        "id": "maDhQMVuSTUv"
      },
      "source": [
        "import matplotlib.pyplot as plt\n",
        "import numpy as np\n",
        "from sklearn.model_selection import train_test_split\n",
        "import pandas as pd"
      ],
      "execution_count": 2,
      "outputs": []
    },
    {
      "cell_type": "markdown",
      "metadata": {
        "id": "PeQ6rWp2znbJ"
      },
      "source": [
        "## Dataset Visualization"
      ]
    },
    {
      "cell_type": "code",
      "metadata": {
        "id": "2f_KhaxVYwLg"
      },
      "source": [
        "# Import Dataset\n",
        "dataset = pd.read_excel('real-estate.xlsx')"
      ],
      "execution_count": 3,
      "outputs": []
    },
    {
      "cell_type": "code",
      "metadata": {
        "id": "Z_CZ1abIkqWw",
        "outputId": "d1141d4c-27d0-47d1-fef6-9ef53ded9d57",
        "colab": {
          "base_uri": "https://localhost:8080/"
        }
      },
      "source": [
        "print(dataset)"
      ],
      "execution_count": 4,
      "outputs": [
        {
          "output_type": "stream",
          "text": [
            "      No  X1 transaction date  ...  X6 longitude  Y house price of unit area\n",
            "0      1          2012.916667  ...     121.54024                        37.9\n",
            "1      2          2012.916667  ...     121.53951                        42.2\n",
            "2      3          2013.583333  ...     121.54391                        47.3\n",
            "3      4          2013.500000  ...     121.54391                        54.8\n",
            "4      5          2012.833333  ...     121.54245                        43.1\n",
            "..   ...                  ...  ...           ...                         ...\n",
            "409  410          2013.000000  ...     121.50381                        15.4\n",
            "410  411          2012.666667  ...     121.54310                        50.0\n",
            "411  412          2013.250000  ...     121.53986                        40.6\n",
            "412  413          2013.000000  ...     121.54067                        52.5\n",
            "413  414          2013.500000  ...     121.54310                        63.9\n",
            "\n",
            "[414 rows x 8 columns]\n"
          ],
          "name": "stdout"
        }
      ]
    },
    {
      "cell_type": "code",
      "metadata": {
        "id": "0lI3aX4XkxyG",
        "outputId": "4c2a0881-b298-4e3b-d151-85cbea10c57c",
        "colab": {
          "base_uri": "https://localhost:8080/"
        }
      },
      "source": [
        "dataset.columns"
      ],
      "execution_count": 5,
      "outputs": [
        {
          "output_type": "execute_result",
          "data": {
            "text/plain": [
              "Index(['No', 'X1 transaction date', 'X2 house age',\n",
              "       'X3 distance to the nearest MRT station',\n",
              "       'X4 number of convenience stores', 'X5 latitude', 'X6 longitude',\n",
              "       'Y house price of unit area'],\n",
              "      dtype='object')"
            ]
          },
          "metadata": {
            "tags": []
          },
          "execution_count": 5
        }
      ]
    },
    {
      "cell_type": "code",
      "metadata": {
        "id": "KZ2kEESrk3PJ",
        "outputId": "001a1904-993c-482d-9e53-724f35e5d369",
        "colab": {
          "base_uri": "https://localhost:8080/",
          "height": 343
        }
      },
      "source": [
        "dataset.head(10)"
      ],
      "execution_count": 6,
      "outputs": [
        {
          "output_type": "execute_result",
          "data": {
            "text/html": [
              "<div>\n",
              "<style scoped>\n",
              "    .dataframe tbody tr th:only-of-type {\n",
              "        vertical-align: middle;\n",
              "    }\n",
              "\n",
              "    .dataframe tbody tr th {\n",
              "        vertical-align: top;\n",
              "    }\n",
              "\n",
              "    .dataframe thead th {\n",
              "        text-align: right;\n",
              "    }\n",
              "</style>\n",
              "<table border=\"1\" class=\"dataframe\">\n",
              "  <thead>\n",
              "    <tr style=\"text-align: right;\">\n",
              "      <th></th>\n",
              "      <th>No</th>\n",
              "      <th>X1 transaction date</th>\n",
              "      <th>X2 house age</th>\n",
              "      <th>X3 distance to the nearest MRT station</th>\n",
              "      <th>X4 number of convenience stores</th>\n",
              "      <th>X5 latitude</th>\n",
              "      <th>X6 longitude</th>\n",
              "      <th>Y house price of unit area</th>\n",
              "    </tr>\n",
              "  </thead>\n",
              "  <tbody>\n",
              "    <tr>\n",
              "      <th>0</th>\n",
              "      <td>1</td>\n",
              "      <td>2012.916667</td>\n",
              "      <td>32.0</td>\n",
              "      <td>84.87882</td>\n",
              "      <td>10</td>\n",
              "      <td>24.98298</td>\n",
              "      <td>121.54024</td>\n",
              "      <td>37.9</td>\n",
              "    </tr>\n",
              "    <tr>\n",
              "      <th>1</th>\n",
              "      <td>2</td>\n",
              "      <td>2012.916667</td>\n",
              "      <td>19.5</td>\n",
              "      <td>306.59470</td>\n",
              "      <td>9</td>\n",
              "      <td>24.98034</td>\n",
              "      <td>121.53951</td>\n",
              "      <td>42.2</td>\n",
              "    </tr>\n",
              "    <tr>\n",
              "      <th>2</th>\n",
              "      <td>3</td>\n",
              "      <td>2013.583333</td>\n",
              "      <td>13.3</td>\n",
              "      <td>561.98450</td>\n",
              "      <td>5</td>\n",
              "      <td>24.98746</td>\n",
              "      <td>121.54391</td>\n",
              "      <td>47.3</td>\n",
              "    </tr>\n",
              "    <tr>\n",
              "      <th>3</th>\n",
              "      <td>4</td>\n",
              "      <td>2013.500000</td>\n",
              "      <td>13.3</td>\n",
              "      <td>561.98450</td>\n",
              "      <td>5</td>\n",
              "      <td>24.98746</td>\n",
              "      <td>121.54391</td>\n",
              "      <td>54.8</td>\n",
              "    </tr>\n",
              "    <tr>\n",
              "      <th>4</th>\n",
              "      <td>5</td>\n",
              "      <td>2012.833333</td>\n",
              "      <td>5.0</td>\n",
              "      <td>390.56840</td>\n",
              "      <td>5</td>\n",
              "      <td>24.97937</td>\n",
              "      <td>121.54245</td>\n",
              "      <td>43.1</td>\n",
              "    </tr>\n",
              "    <tr>\n",
              "      <th>5</th>\n",
              "      <td>6</td>\n",
              "      <td>2012.666667</td>\n",
              "      <td>7.1</td>\n",
              "      <td>2175.03000</td>\n",
              "      <td>3</td>\n",
              "      <td>24.96305</td>\n",
              "      <td>121.51254</td>\n",
              "      <td>32.1</td>\n",
              "    </tr>\n",
              "    <tr>\n",
              "      <th>6</th>\n",
              "      <td>7</td>\n",
              "      <td>2012.666667</td>\n",
              "      <td>34.5</td>\n",
              "      <td>623.47310</td>\n",
              "      <td>7</td>\n",
              "      <td>24.97933</td>\n",
              "      <td>121.53642</td>\n",
              "      <td>40.3</td>\n",
              "    </tr>\n",
              "    <tr>\n",
              "      <th>7</th>\n",
              "      <td>8</td>\n",
              "      <td>2013.416667</td>\n",
              "      <td>20.3</td>\n",
              "      <td>287.60250</td>\n",
              "      <td>6</td>\n",
              "      <td>24.98042</td>\n",
              "      <td>121.54228</td>\n",
              "      <td>46.7</td>\n",
              "    </tr>\n",
              "    <tr>\n",
              "      <th>8</th>\n",
              "      <td>9</td>\n",
              "      <td>2013.500000</td>\n",
              "      <td>31.7</td>\n",
              "      <td>5512.03800</td>\n",
              "      <td>1</td>\n",
              "      <td>24.95095</td>\n",
              "      <td>121.48458</td>\n",
              "      <td>18.8</td>\n",
              "    </tr>\n",
              "    <tr>\n",
              "      <th>9</th>\n",
              "      <td>10</td>\n",
              "      <td>2013.416667</td>\n",
              "      <td>17.9</td>\n",
              "      <td>1783.18000</td>\n",
              "      <td>3</td>\n",
              "      <td>24.96731</td>\n",
              "      <td>121.51486</td>\n",
              "      <td>22.1</td>\n",
              "    </tr>\n",
              "  </tbody>\n",
              "</table>\n",
              "</div>"
            ],
            "text/plain": [
              "   No  X1 transaction date  ...  X6 longitude  Y house price of unit area\n",
              "0   1          2012.916667  ...     121.54024                        37.9\n",
              "1   2          2012.916667  ...     121.53951                        42.2\n",
              "2   3          2013.583333  ...     121.54391                        47.3\n",
              "3   4          2013.500000  ...     121.54391                        54.8\n",
              "4   5          2012.833333  ...     121.54245                        43.1\n",
              "5   6          2012.666667  ...     121.51254                        32.1\n",
              "6   7          2012.666667  ...     121.53642                        40.3\n",
              "7   8          2013.416667  ...     121.54228                        46.7\n",
              "8   9          2013.500000  ...     121.48458                        18.8\n",
              "9  10          2013.416667  ...     121.51486                        22.1\n",
              "\n",
              "[10 rows x 8 columns]"
            ]
          },
          "metadata": {
            "tags": []
          },
          "execution_count": 6
        }
      ]
    },
    {
      "cell_type": "code",
      "metadata": {
        "id": "KjLOKzNIu4vK",
        "outputId": "f31e3ccf-c7b0-464d-8d6b-782ffd8d1ff5",
        "colab": {
          "base_uri": "https://localhost:8080/",
          "height": 195
        }
      },
      "source": [
        "dataset.tail(5)"
      ],
      "execution_count": 7,
      "outputs": [
        {
          "output_type": "execute_result",
          "data": {
            "text/html": [
              "<div>\n",
              "<style scoped>\n",
              "    .dataframe tbody tr th:only-of-type {\n",
              "        vertical-align: middle;\n",
              "    }\n",
              "\n",
              "    .dataframe tbody tr th {\n",
              "        vertical-align: top;\n",
              "    }\n",
              "\n",
              "    .dataframe thead th {\n",
              "        text-align: right;\n",
              "    }\n",
              "</style>\n",
              "<table border=\"1\" class=\"dataframe\">\n",
              "  <thead>\n",
              "    <tr style=\"text-align: right;\">\n",
              "      <th></th>\n",
              "      <th>No</th>\n",
              "      <th>X1 transaction date</th>\n",
              "      <th>X2 house age</th>\n",
              "      <th>X3 distance to the nearest MRT station</th>\n",
              "      <th>X4 number of convenience stores</th>\n",
              "      <th>X5 latitude</th>\n",
              "      <th>X6 longitude</th>\n",
              "      <th>Y house price of unit area</th>\n",
              "    </tr>\n",
              "  </thead>\n",
              "  <tbody>\n",
              "    <tr>\n",
              "      <th>409</th>\n",
              "      <td>410</td>\n",
              "      <td>2013.000000</td>\n",
              "      <td>13.7</td>\n",
              "      <td>4082.01500</td>\n",
              "      <td>0</td>\n",
              "      <td>24.94155</td>\n",
              "      <td>121.50381</td>\n",
              "      <td>15.4</td>\n",
              "    </tr>\n",
              "    <tr>\n",
              "      <th>410</th>\n",
              "      <td>411</td>\n",
              "      <td>2012.666667</td>\n",
              "      <td>5.6</td>\n",
              "      <td>90.45606</td>\n",
              "      <td>9</td>\n",
              "      <td>24.97433</td>\n",
              "      <td>121.54310</td>\n",
              "      <td>50.0</td>\n",
              "    </tr>\n",
              "    <tr>\n",
              "      <th>411</th>\n",
              "      <td>412</td>\n",
              "      <td>2013.250000</td>\n",
              "      <td>18.8</td>\n",
              "      <td>390.96960</td>\n",
              "      <td>7</td>\n",
              "      <td>24.97923</td>\n",
              "      <td>121.53986</td>\n",
              "      <td>40.6</td>\n",
              "    </tr>\n",
              "    <tr>\n",
              "      <th>412</th>\n",
              "      <td>413</td>\n",
              "      <td>2013.000000</td>\n",
              "      <td>8.1</td>\n",
              "      <td>104.81010</td>\n",
              "      <td>5</td>\n",
              "      <td>24.96674</td>\n",
              "      <td>121.54067</td>\n",
              "      <td>52.5</td>\n",
              "    </tr>\n",
              "    <tr>\n",
              "      <th>413</th>\n",
              "      <td>414</td>\n",
              "      <td>2013.500000</td>\n",
              "      <td>6.5</td>\n",
              "      <td>90.45606</td>\n",
              "      <td>9</td>\n",
              "      <td>24.97433</td>\n",
              "      <td>121.54310</td>\n",
              "      <td>63.9</td>\n",
              "    </tr>\n",
              "  </tbody>\n",
              "</table>\n",
              "</div>"
            ],
            "text/plain": [
              "      No  X1 transaction date  ...  X6 longitude  Y house price of unit area\n",
              "409  410          2013.000000  ...     121.50381                        15.4\n",
              "410  411          2012.666667  ...     121.54310                        50.0\n",
              "411  412          2013.250000  ...     121.53986                        40.6\n",
              "412  413          2013.000000  ...     121.54067                        52.5\n",
              "413  414          2013.500000  ...     121.54310                        63.9\n",
              "\n",
              "[5 rows x 8 columns]"
            ]
          },
          "metadata": {
            "tags": []
          },
          "execution_count": 7
        }
      ]
    },
    {
      "cell_type": "code",
      "metadata": {
        "id": "gJg1CCKXvCpw",
        "outputId": "6a100df4-1a8e-44be-c113-949440a23040",
        "colab": {
          "base_uri": "https://localhost:8080/"
        }
      },
      "source": [
        "dataset.info()"
      ],
      "execution_count": 8,
      "outputs": [
        {
          "output_type": "stream",
          "text": [
            "<class 'pandas.core.frame.DataFrame'>\n",
            "RangeIndex: 414 entries, 0 to 413\n",
            "Data columns (total 8 columns):\n",
            " #   Column                                  Non-Null Count  Dtype  \n",
            "---  ------                                  --------------  -----  \n",
            " 0   No                                      414 non-null    int64  \n",
            " 1   X1 transaction date                     414 non-null    float64\n",
            " 2   X2 house age                            414 non-null    float64\n",
            " 3   X3 distance to the nearest MRT station  414 non-null    float64\n",
            " 4   X4 number of convenience stores         414 non-null    int64  \n",
            " 5   X5 latitude                             414 non-null    float64\n",
            " 6   X6 longitude                            414 non-null    float64\n",
            " 7   Y house price of unit area              414 non-null    float64\n",
            "dtypes: float64(6), int64(2)\n",
            "memory usage: 26.0 KB\n"
          ],
          "name": "stdout"
        }
      ]
    },
    {
      "cell_type": "markdown",
      "metadata": {
        "id": "MTqJ4u0Iztti"
      },
      "source": [
        "## Splitting Dataset"
      ]
    },
    {
      "cell_type": "code",
      "metadata": {
        "id": "VaG-zimhZCEH",
        "outputId": "c7138ad2-2396-4aae-d08c-260f4770b53d",
        "colab": {
          "base_uri": "https://localhost:8080/"
        }
      },
      "source": [
        "# split data into train and test\n",
        "X = dataset.iloc[:, 1:-1].values\n",
        "y = dataset.iloc[:, -1:].values\n",
        "\n",
        "X_train, X_test, y_train, y_test = train_test_split(X, y, train_size=0.75, random_state=0) # 75% split\n",
        "print(X_train.shape)\n",
        "print(X_test.shape)"
      ],
      "execution_count": 9,
      "outputs": [
        {
          "output_type": "stream",
          "text": [
            "(310, 6)\n",
            "(104, 6)\n"
          ],
          "name": "stdout"
        }
      ]
    },
    {
      "cell_type": "markdown",
      "metadata": {
        "id": "AaosXQuJzzoW"
      },
      "source": [
        "## Normalization of Dataset"
      ]
    },
    {
      "cell_type": "code",
      "metadata": {
        "id": "7GeFfGxNZHIe",
        "outputId": "b3f5473c-4de9-46a4-b3f6-572ed1f01203",
        "colab": {
          "base_uri": "https://localhost:8080/"
        }
      },
      "source": [
        "# normalization of input training data\n",
        "m = np.mean(X_train, axis=0)\n",
        "std = np.std(X_train, axis=0)\n",
        "print(m.shape)\n",
        "print(std.shape)"
      ],
      "execution_count": 10,
      "outputs": [
        {
          "output_type": "stream",
          "text": [
            "(6,)\n",
            "(6,)\n"
          ],
          "name": "stdout"
        }
      ]
    },
    {
      "cell_type": "code",
      "metadata": {
        "id": "GSc6t38twJ2y"
      },
      "source": [
        "X_train = (X_train-m) / std "
      ],
      "execution_count": 11,
      "outputs": []
    },
    {
      "cell_type": "code",
      "metadata": {
        "id": "oFu3t33GdUHu"
      },
      "source": [
        "# normalization of testing data\n",
        "X_test = (X_test-m) / std "
      ],
      "execution_count": 12,
      "outputs": []
    },
    {
      "cell_type": "markdown",
      "metadata": {
        "id": "vevvo10cz4bq"
      },
      "source": [
        "## Input Feature Vector"
      ]
    },
    {
      "cell_type": "code",
      "metadata": {
        "id": "IxXlUJGhdmP6"
      },
      "source": [
        "# creating input feayure vector with first column as 1\n",
        "X = np.ones(shape=(X_train.shape[0], 1+X_train.shape[1]))\n",
        "X[:, 1:] = X_train "
      ],
      "execution_count": 13,
      "outputs": []
    },
    {
      "cell_type": "code",
      "metadata": {
        "id": "222tLKyXpUzM",
        "outputId": "e264301c-fe2c-4b73-f2c1-32ea0bfa4718",
        "colab": {
          "base_uri": "https://localhost:8080/"
        }
      },
      "source": [
        "X.shape"
      ],
      "execution_count": 14,
      "outputs": [
        {
          "output_type": "execute_result",
          "data": {
            "text/plain": [
              "(310, 7)"
            ]
          },
          "metadata": {
            "tags": []
          },
          "execution_count": 14
        }
      ]
    },
    {
      "cell_type": "markdown",
      "metadata": {
        "id": "WYxMI4-az8IJ"
      },
      "source": [
        "## Calculating Bias and Weight Vector"
      ]
    },
    {
      "cell_type": "code",
      "metadata": {
        "id": "ccTvjQICnAr4"
      },
      "source": [
        "# calculationg optimal weight and bias vector\n",
        "inv = np.linalg.inv(np.dot(X.T, X))\n",
        "theta = np.dot(inv, X.T)\n",
        "theta = np.dot(theta, y_train).reshape(-1, 1)"
      ],
      "execution_count": 15,
      "outputs": []
    },
    {
      "cell_type": "code",
      "metadata": {
        "id": "wNCDPiolqV5p",
        "outputId": "ead3d429-1def-488a-e6be-187664e7b312",
        "colab": {
          "base_uri": "https://localhost:8080/"
        }
      },
      "source": [
        "print(theta.shape)"
      ],
      "execution_count": 16,
      "outputs": [
        {
          "output_type": "stream",
          "text": [
            "(7, 1)\n"
          ],
          "name": "stdout"
        }
      ]
    },
    {
      "cell_type": "markdown",
      "metadata": {
        "id": "SbsZBysy0EhY"
      },
      "source": [
        "## Prediction using Testing Dataset"
      ]
    },
    {
      "cell_type": "code",
      "metadata": {
        "id": "MJfpvALqrqPl"
      },
      "source": [
        "# input feature vector for testing purpose\n",
        "X_testing = np.ones(shape=(X_test.shape[0], 1+X_test.shape[1]))\n",
        "X_testing[:, 1:] = X_test "
      ],
      "execution_count": 17,
      "outputs": []
    },
    {
      "cell_type": "code",
      "metadata": {
        "id": "ArzYz0BEsI-a",
        "outputId": "46f66a0b-6d7f-4824-d193-10595ea1acde",
        "colab": {
          "base_uri": "https://localhost:8080/"
        }
      },
      "source": [
        "# predicting output using linear regression\n",
        "predict = np.dot(X_testing, theta)\n",
        "\n",
        "for i in range(predict.shape[0]):\n",
        "  print(\"Predicted:\", predict[i], \"Correct Label:\", y_test[i])"
      ],
      "execution_count": 18,
      "outputs": [
        {
          "output_type": "stream",
          "text": [
            "Predicted: [39.77707328] Correct Label: [45.3]\n",
            "Predicted: [13.17717303] Correct Label: [14.4]\n",
            "Predicted: [42.6047416] Correct Label: [46.]\n",
            "Predicted: [12.98203955] Correct Label: [15.6]\n",
            "Predicted: [42.73582117] Correct Label: [50.2]\n",
            "Predicted: [40.45119868] Correct Label: [38.1]\n",
            "Predicted: [41.25880602] Correct Label: [48.5]\n",
            "Predicted: [33.92979773] Correct Label: [41.4]\n",
            "Predicted: [50.03313158] Correct Label: [51.6]\n",
            "Predicted: [46.38378205] Correct Label: [40.1]\n",
            "Predicted: [46.46939477] Correct Label: [42.]\n",
            "Predicted: [41.01325285] Correct Label: [42.4]\n",
            "Predicted: [39.20124825] Correct Label: [28.5]\n",
            "Predicted: [40.60115306] Correct Label: [39.1]\n",
            "Predicted: [47.16745737] Correct Label: [53.7]\n",
            "Predicted: [38.77540445] Correct Label: [36.8]\n",
            "Predicted: [40.7010488] Correct Label: [40.6]\n",
            "Predicted: [40.7393178] Correct Label: [55.2]\n",
            "Predicted: [41.00594658] Correct Label: [39.3]\n",
            "Predicted: [42.7391369] Correct Label: [44.3]\n",
            "Predicted: [49.77669611] Correct Label: [53.5]\n",
            "Predicted: [31.48187459] Correct Label: [25.3]\n",
            "Predicted: [39.66566621] Correct Label: [22.8]\n",
            "Predicted: [45.71947377] Correct Label: [51.7]\n",
            "Predicted: [46.2589259] Correct Label: [45.5]\n",
            "Predicted: [43.75393192] Correct Label: [34.4]\n",
            "Predicted: [47.1820979] Correct Label: [31.6]\n",
            "Predicted: [25.95923894] Correct Label: [25.9]\n",
            "Predicted: [48.4448736] Correct Label: [49.5]\n",
            "Predicted: [21.75528895] Correct Label: [24.7]\n",
            "Predicted: [45.55622206] Correct Label: [51.7]\n",
            "Predicted: [35.4624832] Correct Label: [29.7]\n",
            "Predicted: [42.29429447] Correct Label: [45.4]\n",
            "Predicted: [38.95596349] Correct Label: [50.5]\n",
            "Predicted: [44.35858402] Correct Label: [26.5]\n",
            "Predicted: [32.90653524] Correct Label: [30.1]\n",
            "Predicted: [48.24572672] Correct Label: [46.1]\n",
            "Predicted: [39.96478875] Correct Label: [28.9]\n",
            "Predicted: [52.7948711] Correct Label: [54.4]\n",
            "Predicted: [7.19872252] Correct Label: [15.]\n",
            "Predicted: [53.33149032] Correct Label: [44.9]\n",
            "Predicted: [33.10450894] Correct Label: [29.8]\n",
            "Predicted: [34.04888885] Correct Label: [23.6]\n",
            "Predicted: [50.50724201] Correct Label: [48.]\n",
            "Predicted: [15.77786449] Correct Label: [16.7]\n",
            "Predicted: [43.95959874] Correct Label: [40.9]\n",
            "Predicted: [42.51629566] Correct Label: [40.2]\n",
            "Predicted: [12.86123817] Correct Label: [12.9]\n",
            "Predicted: [34.3157262] Correct Label: [21.3]\n",
            "Predicted: [49.32223763] Correct Label: [62.1]\n",
            "Predicted: [54.49115485] Correct Label: [63.9]\n",
            "Predicted: [38.75217832] Correct Label: [40.3]\n",
            "Predicted: [48.02487077] Correct Label: [42.2]\n",
            "Predicted: [25.81857386] Correct Label: [19.1]\n",
            "Predicted: [31.01558979] Correct Label: [28.4]\n",
            "Predicted: [34.43322251] Correct Label: [28.5]\n",
            "Predicted: [49.20649872] Correct Label: [60.7]\n",
            "Predicted: [40.98812711] Correct Label: [37.5]\n",
            "Predicted: [43.62007347] Correct Label: [39.3]\n",
            "Predicted: [33.10525354] Correct Label: [28.8]\n",
            "Predicted: [44.67525737] Correct Label: [42.3]\n",
            "Predicted: [44.46249582] Correct Label: [44.3]\n",
            "Predicted: [39.4542213] Correct Label: [42.6]\n",
            "Predicted: [47.23542512] Correct Label: [57.4]\n",
            "Predicted: [36.96186763] Correct Label: [42.2]\n",
            "Predicted: [30.21976211] Correct Label: [25.7]\n",
            "Predicted: [9.47068403] Correct Label: [13.2]\n",
            "Predicted: [35.45289825] Correct Label: [27.]\n",
            "Predicted: [45.94250804] Correct Label: [56.2]\n",
            "Predicted: [40.45119868] Correct Label: [38.3]\n",
            "Predicted: [31.10341594] Correct Label: [20.8]\n",
            "Predicted: [46.08764393] Correct Label: [43.1]\n",
            "Predicted: [45.73923317] Correct Label: [78.3]\n",
            "Predicted: [30.50703463] Correct Label: [20.9]\n",
            "Predicted: [41.01353096] Correct Label: [32.5]\n",
            "Predicted: [36.6674399] Correct Label: [33.4]\n",
            "Predicted: [30.83687418] Correct Label: [32.1]\n",
            "Predicted: [12.89730879] Correct Label: [19.2]\n",
            "Predicted: [47.61041922] Correct Label: [53.]\n",
            "Predicted: [45.11052907] Correct Label: [38.2]\n",
            "Predicted: [47.41704591] Correct Label: [46.7]\n",
            "Predicted: [29.3087988] Correct Label: [24.6]\n",
            "Predicted: [43.85886931] Correct Label: [36.2]\n",
            "Predicted: [31.93019051] Correct Label: [23.2]\n",
            "Predicted: [35.50930549] Correct Label: [29.3]\n",
            "Predicted: [33.77838426] Correct Label: [38.4]\n",
            "Predicted: [42.63221321] Correct Label: [37.5]\n",
            "Predicted: [45.94558889] Correct Label: [34.3]\n",
            "Predicted: [54.12523616] Correct Label: [44.8]\n",
            "Predicted: [47.65713297] Correct Label: [54.4]\n",
            "Predicted: [39.75513454] Correct Label: [37.9]\n",
            "Predicted: [43.85524926] Correct Label: [7.6]\n",
            "Predicted: [33.37281946] Correct Label: [29.5]\n",
            "Predicted: [33.87280341] Correct Label: [25.3]\n",
            "Predicted: [23.64028896] Correct Label: [13.7]\n",
            "Predicted: [40.28951193] Correct Label: [30.]\n",
            "Predicted: [34.81705817] Correct Label: [30.8]\n",
            "Predicted: [44.46847873] Correct Label: [40.6]\n",
            "Predicted: [17.08360528] Correct Label: [20.7]\n",
            "Predicted: [46.32995359] Correct Label: [40.8]\n",
            "Predicted: [40.7393178] Correct Label: [55.3]\n",
            "Predicted: [40.02176272] Correct Label: [40.5]\n",
            "Predicted: [41.66210864] Correct Label: [40.8]\n",
            "Predicted: [42.30107997] Correct Label: [40.3]\n"
          ],
          "name": "stdout"
        }
      ]
    },
    {
      "cell_type": "markdown",
      "metadata": {
        "id": "0GkhyqOs0Kav"
      },
      "source": [
        "## Error Calculation"
      ]
    },
    {
      "cell_type": "code",
      "metadata": {
        "id": "CSJdmYTYxBGT",
        "outputId": "b6ac399f-e383-480d-c167-2abdb29b4158",
        "colab": {
          "base_uri": "https://localhost:8080/"
        }
      },
      "source": [
        "error = y_test - predict\n",
        "sq_err = np.square(error)\n",
        "RMSE = np.sqrt(np.sum(sq_err))\n",
        "print(\"RMSE:\", RMSE)"
      ],
      "execution_count": 19,
      "outputs": [
        {
          "output_type": "stream",
          "text": [
            "RMSE: 85.38344738907517\n"
          ],
          "name": "stdout"
        }
      ]
    }
  ]
}