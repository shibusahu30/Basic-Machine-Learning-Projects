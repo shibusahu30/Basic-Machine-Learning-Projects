{
  "nbformat": 4,
  "nbformat_minor": 0,
  "metadata": {
    "colab": {
      "name": "Assign7_117CS0259.ipynb",
      "provenance": []
    },
    "kernelspec": {
      "name": "python3",
      "display_name": "Python 3"
    }
  },
  "cells": [
    {
      "cell_type": "code",
      "metadata": {
        "id": "FdCQJ_2PPPOe"
      },
      "source": [
        "# import Library\n",
        "import matplotlib.pyplot as plt\n",
        "from sklearn.datasets import load_iris\n",
        "import numpy as np\n",
        "from sklearn.model_selection import train_test_split"
      ],
      "execution_count": 1,
      "outputs": []
    },
    {
      "cell_type": "code",
      "metadata": {
        "id": "_ykYUJirSXGS"
      },
      "source": [
        "# Import Dataset\n",
        "iris = load_iris()"
      ],
      "execution_count": 2,
      "outputs": []
    },
    {
      "cell_type": "code",
      "metadata": {
        "id": "-5F-Vos6SbAr",
        "outputId": "0819541f-63e1-413b-99dd-512806321f7a",
        "colab": {
          "base_uri": "https://localhost:8080/"
        }
      },
      "source": [
        "# data visualization\n",
        "print(iris.data)\n",
        "print(iris.feature_names)\n",
        "print(iris.target)\n",
        "print(iris.target_names)"
      ],
      "execution_count": 3,
      "outputs": [
        {
          "output_type": "stream",
          "text": [
            "[[5.1 3.5 1.4 0.2]\n",
            " [4.9 3.  1.4 0.2]\n",
            " [4.7 3.2 1.3 0.2]\n",
            " [4.6 3.1 1.5 0.2]\n",
            " [5.  3.6 1.4 0.2]\n",
            " [5.4 3.9 1.7 0.4]\n",
            " [4.6 3.4 1.4 0.3]\n",
            " [5.  3.4 1.5 0.2]\n",
            " [4.4 2.9 1.4 0.2]\n",
            " [4.9 3.1 1.5 0.1]\n",
            " [5.4 3.7 1.5 0.2]\n",
            " [4.8 3.4 1.6 0.2]\n",
            " [4.8 3.  1.4 0.1]\n",
            " [4.3 3.  1.1 0.1]\n",
            " [5.8 4.  1.2 0.2]\n",
            " [5.7 4.4 1.5 0.4]\n",
            " [5.4 3.9 1.3 0.4]\n",
            " [5.1 3.5 1.4 0.3]\n",
            " [5.7 3.8 1.7 0.3]\n",
            " [5.1 3.8 1.5 0.3]\n",
            " [5.4 3.4 1.7 0.2]\n",
            " [5.1 3.7 1.5 0.4]\n",
            " [4.6 3.6 1.  0.2]\n",
            " [5.1 3.3 1.7 0.5]\n",
            " [4.8 3.4 1.9 0.2]\n",
            " [5.  3.  1.6 0.2]\n",
            " [5.  3.4 1.6 0.4]\n",
            " [5.2 3.5 1.5 0.2]\n",
            " [5.2 3.4 1.4 0.2]\n",
            " [4.7 3.2 1.6 0.2]\n",
            " [4.8 3.1 1.6 0.2]\n",
            " [5.4 3.4 1.5 0.4]\n",
            " [5.2 4.1 1.5 0.1]\n",
            " [5.5 4.2 1.4 0.2]\n",
            " [4.9 3.1 1.5 0.2]\n",
            " [5.  3.2 1.2 0.2]\n",
            " [5.5 3.5 1.3 0.2]\n",
            " [4.9 3.6 1.4 0.1]\n",
            " [4.4 3.  1.3 0.2]\n",
            " [5.1 3.4 1.5 0.2]\n",
            " [5.  3.5 1.3 0.3]\n",
            " [4.5 2.3 1.3 0.3]\n",
            " [4.4 3.2 1.3 0.2]\n",
            " [5.  3.5 1.6 0.6]\n",
            " [5.1 3.8 1.9 0.4]\n",
            " [4.8 3.  1.4 0.3]\n",
            " [5.1 3.8 1.6 0.2]\n",
            " [4.6 3.2 1.4 0.2]\n",
            " [5.3 3.7 1.5 0.2]\n",
            " [5.  3.3 1.4 0.2]\n",
            " [7.  3.2 4.7 1.4]\n",
            " [6.4 3.2 4.5 1.5]\n",
            " [6.9 3.1 4.9 1.5]\n",
            " [5.5 2.3 4.  1.3]\n",
            " [6.5 2.8 4.6 1.5]\n",
            " [5.7 2.8 4.5 1.3]\n",
            " [6.3 3.3 4.7 1.6]\n",
            " [4.9 2.4 3.3 1. ]\n",
            " [6.6 2.9 4.6 1.3]\n",
            " [5.2 2.7 3.9 1.4]\n",
            " [5.  2.  3.5 1. ]\n",
            " [5.9 3.  4.2 1.5]\n",
            " [6.  2.2 4.  1. ]\n",
            " [6.1 2.9 4.7 1.4]\n",
            " [5.6 2.9 3.6 1.3]\n",
            " [6.7 3.1 4.4 1.4]\n",
            " [5.6 3.  4.5 1.5]\n",
            " [5.8 2.7 4.1 1. ]\n",
            " [6.2 2.2 4.5 1.5]\n",
            " [5.6 2.5 3.9 1.1]\n",
            " [5.9 3.2 4.8 1.8]\n",
            " [6.1 2.8 4.  1.3]\n",
            " [6.3 2.5 4.9 1.5]\n",
            " [6.1 2.8 4.7 1.2]\n",
            " [6.4 2.9 4.3 1.3]\n",
            " [6.6 3.  4.4 1.4]\n",
            " [6.8 2.8 4.8 1.4]\n",
            " [6.7 3.  5.  1.7]\n",
            " [6.  2.9 4.5 1.5]\n",
            " [5.7 2.6 3.5 1. ]\n",
            " [5.5 2.4 3.8 1.1]\n",
            " [5.5 2.4 3.7 1. ]\n",
            " [5.8 2.7 3.9 1.2]\n",
            " [6.  2.7 5.1 1.6]\n",
            " [5.4 3.  4.5 1.5]\n",
            " [6.  3.4 4.5 1.6]\n",
            " [6.7 3.1 4.7 1.5]\n",
            " [6.3 2.3 4.4 1.3]\n",
            " [5.6 3.  4.1 1.3]\n",
            " [5.5 2.5 4.  1.3]\n",
            " [5.5 2.6 4.4 1.2]\n",
            " [6.1 3.  4.6 1.4]\n",
            " [5.8 2.6 4.  1.2]\n",
            " [5.  2.3 3.3 1. ]\n",
            " [5.6 2.7 4.2 1.3]\n",
            " [5.7 3.  4.2 1.2]\n",
            " [5.7 2.9 4.2 1.3]\n",
            " [6.2 2.9 4.3 1.3]\n",
            " [5.1 2.5 3.  1.1]\n",
            " [5.7 2.8 4.1 1.3]\n",
            " [6.3 3.3 6.  2.5]\n",
            " [5.8 2.7 5.1 1.9]\n",
            " [7.1 3.  5.9 2.1]\n",
            " [6.3 2.9 5.6 1.8]\n",
            " [6.5 3.  5.8 2.2]\n",
            " [7.6 3.  6.6 2.1]\n",
            " [4.9 2.5 4.5 1.7]\n",
            " [7.3 2.9 6.3 1.8]\n",
            " [6.7 2.5 5.8 1.8]\n",
            " [7.2 3.6 6.1 2.5]\n",
            " [6.5 3.2 5.1 2. ]\n",
            " [6.4 2.7 5.3 1.9]\n",
            " [6.8 3.  5.5 2.1]\n",
            " [5.7 2.5 5.  2. ]\n",
            " [5.8 2.8 5.1 2.4]\n",
            " [6.4 3.2 5.3 2.3]\n",
            " [6.5 3.  5.5 1.8]\n",
            " [7.7 3.8 6.7 2.2]\n",
            " [7.7 2.6 6.9 2.3]\n",
            " [6.  2.2 5.  1.5]\n",
            " [6.9 3.2 5.7 2.3]\n",
            " [5.6 2.8 4.9 2. ]\n",
            " [7.7 2.8 6.7 2. ]\n",
            " [6.3 2.7 4.9 1.8]\n",
            " [6.7 3.3 5.7 2.1]\n",
            " [7.2 3.2 6.  1.8]\n",
            " [6.2 2.8 4.8 1.8]\n",
            " [6.1 3.  4.9 1.8]\n",
            " [6.4 2.8 5.6 2.1]\n",
            " [7.2 3.  5.8 1.6]\n",
            " [7.4 2.8 6.1 1.9]\n",
            " [7.9 3.8 6.4 2. ]\n",
            " [6.4 2.8 5.6 2.2]\n",
            " [6.3 2.8 5.1 1.5]\n",
            " [6.1 2.6 5.6 1.4]\n",
            " [7.7 3.  6.1 2.3]\n",
            " [6.3 3.4 5.6 2.4]\n",
            " [6.4 3.1 5.5 1.8]\n",
            " [6.  3.  4.8 1.8]\n",
            " [6.9 3.1 5.4 2.1]\n",
            " [6.7 3.1 5.6 2.4]\n",
            " [6.9 3.1 5.1 2.3]\n",
            " [5.8 2.7 5.1 1.9]\n",
            " [6.8 3.2 5.9 2.3]\n",
            " [6.7 3.3 5.7 2.5]\n",
            " [6.7 3.  5.2 2.3]\n",
            " [6.3 2.5 5.  1.9]\n",
            " [6.5 3.  5.2 2. ]\n",
            " [6.2 3.4 5.4 2.3]\n",
            " [5.9 3.  5.1 1.8]]\n",
            "['sepal length (cm)', 'sepal width (cm)', 'petal length (cm)', 'petal width (cm)']\n",
            "[0 0 0 0 0 0 0 0 0 0 0 0 0 0 0 0 0 0 0 0 0 0 0 0 0 0 0 0 0 0 0 0 0 0 0 0 0\n",
            " 0 0 0 0 0 0 0 0 0 0 0 0 0 1 1 1 1 1 1 1 1 1 1 1 1 1 1 1 1 1 1 1 1 1 1 1 1\n",
            " 1 1 1 1 1 1 1 1 1 1 1 1 1 1 1 1 1 1 1 1 1 1 1 1 1 1 2 2 2 2 2 2 2 2 2 2 2\n",
            " 2 2 2 2 2 2 2 2 2 2 2 2 2 2 2 2 2 2 2 2 2 2 2 2 2 2 2 2 2 2 2 2 2 2 2 2 2\n",
            " 2 2]\n",
            "['setosa' 'versicolor' 'virginica']\n"
          ],
          "name": "stdout"
        }
      ]
    },
    {
      "cell_type": "code",
      "metadata": {
        "id": "tlqlTCmCSfeP",
        "outputId": "2508c37a-2398-4e81-c049-fe0596eb555d",
        "colab": {
          "base_uri": "https://localhost:8080/",
          "height": 279
        }
      },
      "source": [
        "# plot data sepal width Vs. Length\n",
        "plt.scatter(iris.data[:,1],iris.data[:,2],c=iris.target, cmap=plt.cm.Paired)\n",
        "plt.xlabel(iris.feature_names[1])\n",
        "plt.ylabel(iris.feature_names[2])\n",
        "plt.show()"
      ],
      "execution_count": 4,
      "outputs": [
        {
          "output_type": "display_data",
          "data": {
            "image/png": "[encoded data removed]",
            "text/plain": [
              "<Figure size 432x288 with 1 Axes>"
            ]
          },
          "metadata": {
            "tags": [],
            "needs_background": "light"
          }
        }
      ]
    },
    {
      "cell_type": "code",
      "metadata": {
        "id": "r9eA0sgBS8bt",
        "outputId": "d336fdd5-d43f-4e98-f446-448851b6ad6a",
        "colab": {
          "base_uri": "https://localhost:8080/",
          "height": 279
        }
      },
      "source": [
        "# plot data petal width Vs. Length\n",
        "plt.scatter(iris.data[:,0],iris.data[:,3],c=iris.target, cmap=plt.cm.Paired)\n",
        "plt.xlabel(iris.feature_names[0])\n",
        "plt.ylabel(iris.feature_names[3])\n",
        "plt.show()"
      ],
      "execution_count": 5,
      "outputs": [
        {
          "output_type": "display_data",
          "data": {
            "image/png": "[encoded data removed]",
            "text/plain": [
              "<Figure size 432x288 with 1 Axes>"
            ]
          },
          "metadata": {
            "tags": [],
            "needs_background": "light"
          }
        }
      ]
    },
    {
      "cell_type": "code",
      "metadata": {
        "id": "CFR9UGBxS_px",
        "outputId": "d4836d13-0326-479b-9347-06d9291414aa",
        "colab": {
          "base_uri": "https://localhost:8080/"
        }
      },
      "source": [
        "# split data fortrain and test\n",
        "X = iris.data\n",
        "y = iris.target\n",
        "\n",
        "X_train, X_test, y_train, y_test = train_test_split(X, y, train_size=0.8, random_state=0)\n",
        "print(X_train)\n",
        "print(X_test)"
      ],
      "execution_count": 6,
      "outputs": [
        {
          "output_type": "stream",
          "text": [
            "[[6.4 3.1 5.5 1.8]\n",
            " [5.4 3.  4.5 1.5]\n",
            " [5.2 3.5 1.5 0.2]\n",
            " [6.1 3.  4.9 1.8]\n",
            " [6.4 2.8 5.6 2.2]\n",
            " [5.2 2.7 3.9 1.4]\n",
            " [5.7 3.8 1.7 0.3]\n",
            " [6.  2.7 5.1 1.6]\n",
            " [5.9 3.  4.2 1.5]\n",
            " [5.8 2.6 4.  1.2]\n",
            " [6.8 3.  5.5 2.1]\n",
            " [4.7 3.2 1.3 0.2]\n",
            " [6.9 3.1 5.1 2.3]\n",
            " [5.  3.5 1.6 0.6]\n",
            " [5.4 3.7 1.5 0.2]\n",
            " [5.  2.  3.5 1. ]\n",
            " [6.5 3.  5.5 1.8]\n",
            " [6.7 3.3 5.7 2.5]\n",
            " [6.  2.2 5.  1.5]\n",
            " [6.7 2.5 5.8 1.8]\n",
            " [5.6 2.5 3.9 1.1]\n",
            " [7.7 3.  6.1 2.3]\n",
            " [6.3 3.3 4.7 1.6]\n",
            " [5.5 2.4 3.8 1.1]\n",
            " [6.3 2.7 4.9 1.8]\n",
            " [6.3 2.8 5.1 1.5]\n",
            " [4.9 2.5 4.5 1.7]\n",
            " [6.3 2.5 5.  1.9]\n",
            " [7.  3.2 4.7 1.4]\n",
            " [6.5 3.  5.2 2. ]\n",
            " [6.  3.4 4.5 1.6]\n",
            " [4.8 3.1 1.6 0.2]\n",
            " [5.8 2.7 5.1 1.9]\n",
            " [5.6 2.7 4.2 1.3]\n",
            " [5.6 2.9 3.6 1.3]\n",
            " [5.5 2.5 4.  1.3]\n",
            " [6.1 3.  4.6 1.4]\n",
            " [7.2 3.2 6.  1.8]\n",
            " [5.3 3.7 1.5 0.2]\n",
            " [4.3 3.  1.1 0.1]\n",
            " [6.4 2.7 5.3 1.9]\n",
            " [5.7 3.  4.2 1.2]\n",
            " [5.4 3.4 1.7 0.2]\n",
            " [5.7 4.4 1.5 0.4]\n",
            " [6.9 3.1 4.9 1.5]\n",
            " [4.6 3.1 1.5 0.2]\n",
            " [5.9 3.  5.1 1.8]\n",
            " [5.1 2.5 3.  1.1]\n",
            " [4.6 3.4 1.4 0.3]\n",
            " [6.2 2.2 4.5 1.5]\n",
            " [7.2 3.6 6.1 2.5]\n",
            " [5.7 2.9 4.2 1.3]\n",
            " [4.8 3.  1.4 0.1]\n",
            " [7.1 3.  5.9 2.1]\n",
            " [6.9 3.2 5.7 2.3]\n",
            " [6.5 3.  5.8 2.2]\n",
            " [6.4 2.8 5.6 2.1]\n",
            " [5.1 3.8 1.6 0.2]\n",
            " [4.8 3.4 1.6 0.2]\n",
            " [6.5 3.2 5.1 2. ]\n",
            " [6.7 3.3 5.7 2.1]\n",
            " [4.5 2.3 1.3 0.3]\n",
            " [6.2 3.4 5.4 2.3]\n",
            " [4.9 3.  1.4 0.2]\n",
            " [5.7 2.5 5.  2. ]\n",
            " [6.9 3.1 5.4 2.1]\n",
            " [4.4 3.2 1.3 0.2]\n",
            " [5.  3.6 1.4 0.2]\n",
            " [7.2 3.  5.8 1.6]\n",
            " [5.1 3.5 1.4 0.3]\n",
            " [4.4 3.  1.3 0.2]\n",
            " [5.4 3.9 1.7 0.4]\n",
            " [5.5 2.3 4.  1.3]\n",
            " [6.8 3.2 5.9 2.3]\n",
            " [7.6 3.  6.6 2.1]\n",
            " [5.1 3.5 1.4 0.2]\n",
            " [4.9 3.1 1.5 0.2]\n",
            " [5.2 3.4 1.4 0.2]\n",
            " [5.7 2.8 4.5 1.3]\n",
            " [6.6 3.  4.4 1.4]\n",
            " [5.  3.2 1.2 0.2]\n",
            " [5.1 3.3 1.7 0.5]\n",
            " [6.4 2.9 4.3 1.3]\n",
            " [5.4 3.4 1.5 0.4]\n",
            " [7.7 2.6 6.9 2.3]\n",
            " [4.9 2.4 3.3 1. ]\n",
            " [7.9 3.8 6.4 2. ]\n",
            " [6.7 3.1 4.4 1.4]\n",
            " [5.2 4.1 1.5 0.1]\n",
            " [6.  3.  4.8 1.8]\n",
            " [5.8 4.  1.2 0.2]\n",
            " [7.7 2.8 6.7 2. ]\n",
            " [5.1 3.8 1.5 0.3]\n",
            " [4.7 3.2 1.6 0.2]\n",
            " [7.4 2.8 6.1 1.9]\n",
            " [5.  3.3 1.4 0.2]\n",
            " [6.3 3.4 5.6 2.4]\n",
            " [5.7 2.8 4.1 1.3]\n",
            " [5.8 2.7 3.9 1.2]\n",
            " [5.7 2.6 3.5 1. ]\n",
            " [6.4 3.2 5.3 2.3]\n",
            " [6.7 3.  5.2 2.3]\n",
            " [6.3 2.5 4.9 1.5]\n",
            " [6.7 3.  5.  1.7]\n",
            " [5.  3.  1.6 0.2]\n",
            " [5.5 2.4 3.7 1. ]\n",
            " [6.7 3.1 5.6 2.4]\n",
            " [5.8 2.7 5.1 1.9]\n",
            " [5.1 3.4 1.5 0.2]\n",
            " [6.6 2.9 4.6 1.3]\n",
            " [5.6 3.  4.1 1.3]\n",
            " [5.9 3.2 4.8 1.8]\n",
            " [6.3 2.3 4.4 1.3]\n",
            " [5.5 3.5 1.3 0.2]\n",
            " [5.1 3.7 1.5 0.4]\n",
            " [4.9 3.1 1.5 0.1]\n",
            " [6.3 2.9 5.6 1.8]\n",
            " [5.8 2.7 4.1 1. ]\n",
            " [7.7 3.8 6.7 2.2]\n",
            " [4.6 3.2 1.4 0.2]]\n",
            "[[5.8 2.8 5.1 2.4]\n",
            " [6.  2.2 4.  1. ]\n",
            " [5.5 4.2 1.4 0.2]\n",
            " [7.3 2.9 6.3 1.8]\n",
            " [5.  3.4 1.5 0.2]\n",
            " [6.3 3.3 6.  2.5]\n",
            " [5.  3.5 1.3 0.3]\n",
            " [6.7 3.1 4.7 1.5]\n",
            " [6.8 2.8 4.8 1.4]\n",
            " [6.1 2.8 4.  1.3]\n",
            " [6.1 2.6 5.6 1.4]\n",
            " [6.4 3.2 4.5 1.5]\n",
            " [6.1 2.8 4.7 1.2]\n",
            " [6.5 2.8 4.6 1.5]\n",
            " [6.1 2.9 4.7 1.4]\n",
            " [4.9 3.6 1.4 0.1]\n",
            " [6.  2.9 4.5 1.5]\n",
            " [5.5 2.6 4.4 1.2]\n",
            " [4.8 3.  1.4 0.3]\n",
            " [5.4 3.9 1.3 0.4]\n",
            " [5.6 2.8 4.9 2. ]\n",
            " [5.6 3.  4.5 1.5]\n",
            " [4.8 3.4 1.9 0.2]\n",
            " [4.4 2.9 1.4 0.2]\n",
            " [6.2 2.8 4.8 1.8]\n",
            " [4.6 3.6 1.  0.2]\n",
            " [5.1 3.8 1.9 0.4]\n",
            " [6.2 2.9 4.3 1.3]\n",
            " [5.  2.3 3.3 1. ]\n",
            " [5.  3.4 1.6 0.4]]\n"
          ],
          "name": "stdout"
        }
      ]
    },
    {
      "cell_type": "code",
      "metadata": {
        "id": "ego_dqNHThUN",
        "outputId": "77726e81-5213-4a87-c5bc-0d05766dd60d",
        "colab": {
          "base_uri": "https://localhost:8080/"
        }
      },
      "source": [
        "print(y_train)"
      ],
      "execution_count": 7,
      "outputs": [
        {
          "output_type": "stream",
          "text": [
            "[2 1 0 2 2 1 0 1 1 1 2 0 2 0 0 1 2 2 2 2 1 2 1 1 2 2 2 2 1 2 1 0 2 1 1 1 1\n",
            " 2 0 0 2 1 0 0 1 0 2 1 0 1 2 1 0 2 2 2 2 0 0 2 2 0 2 0 2 2 0 0 2 0 0 0 1 2\n",
            " 2 0 0 0 1 1 0 0 1 0 2 1 2 1 0 2 0 2 0 0 2 0 2 1 1 1 2 2 1 1 0 1 2 2 0 1 1\n",
            " 1 1 0 0 0 2 1 2 0]\n"
          ],
          "name": "stdout"
        }
      ]
    },
    {
      "cell_type": "code",
      "metadata": {
        "id": "Ib9DHEJhGygo"
      },
      "source": [
        "m = np.mean(X_train, axis=0)\n",
        "X_train = X_train-m # normalization of input data\n",
        "X_test = X_test-np.mean(X_test, axis=0)"
      ],
      "execution_count": 8,
      "outputs": []
    },
    {
      "cell_type": "code",
      "metadata": {
        "id": "QBuNDE-zxwTP",
        "outputId": "885b55e5-507a-493d-fc89-36fbb6563950",
        "colab": {
          "base_uri": "https://localhost:8080/"
        }
      },
      "source": [
        "# centroid of each class\n",
        "centroid = np.zeros(shape=(3, 4))\n",
        "count = np.zeros(shape=(3,))\n",
        "for i in range(len(y_train)):\n",
        "  centroid[y_train[i], :] = centroid[y_train[i], :]+X_train[i, :]\n",
        "  count[y_train[i]] += 1\n",
        "print(centroid)\n",
        "print(count)"
      ],
      "execution_count": 9,
      "outputs": [
        {
          "output_type": "stream",
          "text": [
            "[[-33.5525      13.62       -91.8175     -38.635     ]\n",
            " [  0.20916667 -10.77333333  14.81416667   3.42833333]\n",
            " [ 33.34333333  -2.84666667  77.00333333  35.20666667]]\n",
            "[39. 37. 44.]\n"
          ],
          "name": "stdout"
        }
      ]
    },
    {
      "cell_type": "code",
      "metadata": {
        "id": "NzomBeuB22Nz",
        "outputId": "e4a3906e-e78e-419a-a519-076ac2fd0e9d",
        "colab": {
          "base_uri": "https://localhost:8080/"
        }
      },
      "source": [
        "for i in range(3):\n",
        "  xx = np.divide(centroid[i], count[i])\n",
        "  centroid[i] = xx\n",
        "  print(xx)"
      ],
      "execution_count": 10,
      "outputs": [
        {
          "output_type": "stream",
          "text": [
            "[-0.86032051  0.34923077 -2.35429487 -0.99064103]\n",
            "[ 0.00565315 -0.29117117  0.40038288  0.09265766]\n",
            "[ 0.75780303 -0.06469697  1.75007576  0.80015152]\n"
          ],
          "name": "stdout"
        }
      ]
    },
    {
      "cell_type": "markdown",
      "metadata": {
        "id": "DEIpenwcMske"
      },
      "source": [
        "## Different Distance calculation"
      ]
    },
    {
      "cell_type": "code",
      "metadata": {
        "id": "QXdvHijQ3ADv"
      },
      "source": [
        "def euclidean(a, b):\n",
        "  return np.sqrt(np.sum(np.power((a-b), 2)))"
      ],
      "execution_count": 11,
      "outputs": []
    },
    {
      "cell_type": "code",
      "metadata": {
        "id": "ulIkA0kI_2pi"
      },
      "source": [
        "def mahalanobis(a, cov, b):\n",
        "  a = np.reshape(a, (1, -1))\n",
        "  b = np.reshape(b, (1, -1))\n",
        "  x = a-b\n",
        "  covI = np.linalg.inv(cov)\n",
        "  left = np.dot(x, covI)\n",
        "  r = np.dot(left, x.T)\n",
        "  return r"
      ],
      "execution_count": 12,
      "outputs": []
    },
    {
      "cell_type": "code",
      "metadata": {
        "id": "7DEPwWkgCzAo"
      },
      "source": [
        "def manhattan(a, b):\n",
        "  return np.sum(np.absolute(a-b))"
      ],
      "execution_count": 13,
      "outputs": []
    },
    {
      "cell_type": "code",
      "metadata": {
        "id": "xGyGsmtADewG"
      },
      "source": [
        "def chess_board(a, b):\n",
        "  return np.max(np.absolute(a-b))"
      ],
      "execution_count": 14,
      "outputs": []
    },
    {
      "cell_type": "code",
      "metadata": {
        "id": "lG4gjv1pEjyq"
      },
      "source": [
        "def canberra(a, b):\n",
        "  return np.sum(np.divide(np.absolute(a-b), np.absolute(a)+np.absolute(b)))"
      ],
      "execution_count": 15,
      "outputs": []
    },
    {
      "cell_type": "code",
      "metadata": {
        "id": "PUi49c_bGUr5"
      },
      "source": [
        "def bray_curtis(a, b):\n",
        "  return np.sum(np.absolute(a-b) / np.sum(np.absolute(a+b)))"
      ],
      "execution_count": 16,
      "outputs": []
    },
    {
      "cell_type": "code",
      "metadata": {
        "id": "bjsZ8LLaHFqf"
      },
      "source": [
        "def cosine(a, b):\n",
        "  return 1-(np.dot(a, b)/(euclidean(a, np.zeros_like(a))*euclidean(b, np.zeros_like(b))))"
      ],
      "execution_count": 17,
      "outputs": []
    },
    {
      "cell_type": "code",
      "metadata": {
        "id": "EboN1zsVIHkn"
      },
      "source": [
        "def correlation(a, b):\n",
        "  x = a-np.mean(a)\n",
        "  y = b-np.mean(b)\n",
        "  x_norm = euclidean(x, np.zeros_like(x))\n",
        "  y_norm = euclidean(y, np.zeros_like(y))\n",
        "  return 1-(np.dot(x, y)/(x_norm*y_norm))"
      ],
      "execution_count": 18,
      "outputs": []
    },
    {
      "cell_type": "code",
      "metadata": {
        "id": "Oh_MtLVAZEDl"
      },
      "source": [
        "error_dist = [] #misclassification error rate\n",
        "lab = [] # distance classifier label\n",
        "me_list = [] # mean error\n",
        "mse_list = [] # mean squared error \n",
        "mae_list = [] # mean absolute error"
      ],
      "execution_count": 19,
      "outputs": []
    },
    {
      "cell_type": "markdown",
      "metadata": {
        "id": "LVdSF4kRPofJ"
      },
      "source": [
        "##1. Euclidean Distance Classifier\n"
      ]
    },
    {
      "cell_type": "code",
      "metadata": {
        "id": "cIh4bKGmNHkS"
      },
      "source": [
        "# using eucledian distance\n",
        "def predict(d, X):\n",
        "  # d: projection of testing images\n",
        "  minDist = np.finfo('float').max # initialize with max value\n",
        "  minClass = -1 # default closest match initialized\n",
        "  \n",
        "  for i in range(X.shape[0]):\n",
        "    dist = euclidean(X[i, :], d)\n",
        "    if dist < minDist:\n",
        "      minDist = dist\n",
        "      minClass = i\n",
        "  return minClass, minDist"
      ],
      "execution_count": 20,
      "outputs": []
    },
    {
      "cell_type": "code",
      "metadata": {
        "id": "PtZz8_rzL-Tt",
        "outputId": "15a8d695-0fcd-4481-dee5-5121a43a9994",
        "colab": {
          "base_uri": "https://localhost:8080/"
        }
      },
      "source": [
        "correctlyLabeled = 0\n",
        "me = 0\n",
        "mae = 0\n",
        "mse = 0\n",
        "for i in range(X_test.shape[0]):\n",
        "  predicted, x = predict(X_test[i, :], centroid)\n",
        "  if(predicted == y_test[i]):\n",
        "    correctlyLabeled += 1\n",
        "  print(\"predicted: \", predicted, \"correct: \", y_test[i])\n",
        "  me += x\n",
        "  mae += abs(x)\n",
        "  mse += x*x\n",
        "me /= X_test.shape[0]\n",
        "mae /= X_test.shape[0]\n",
        "mse /= X_test.shape[0]\n",
        "\n",
        "error = (1-correctlyLabeled/X_test.shape[0])*100\n",
        "error\n",
        "error_dist.append(error)\n",
        "lab.append('euclidean')\n",
        "me_list.append(me)\n",
        "mse_list.append(mse)\n",
        "mae_list.append(mae)"
      ],
      "execution_count": 21,
      "outputs": [
        {
          "output_type": "stream",
          "text": [
            "predicted:  2 correct:  2\n",
            "predicted:  1 correct:  1\n",
            "predicted:  0 correct:  0\n",
            "predicted:  2 correct:  2\n",
            "predicted:  0 correct:  0\n",
            "predicted:  2 correct:  2\n",
            "predicted:  0 correct:  0\n",
            "predicted:  2 correct:  1\n",
            "predicted:  2 correct:  1\n",
            "predicted:  1 correct:  1\n",
            "predicted:  2 correct:  2\n",
            "predicted:  2 correct:  1\n",
            "predicted:  1 correct:  1\n",
            "predicted:  2 correct:  1\n",
            "predicted:  2 correct:  1\n",
            "predicted:  0 correct:  0\n",
            "predicted:  1 correct:  1\n",
            "predicted:  1 correct:  1\n",
            "predicted:  0 correct:  0\n",
            "predicted:  0 correct:  0\n",
            "predicted:  2 correct:  2\n",
            "predicted:  1 correct:  1\n",
            "predicted:  0 correct:  0\n",
            "predicted:  0 correct:  0\n",
            "predicted:  2 correct:  2\n",
            "predicted:  0 correct:  0\n",
            "predicted:  0 correct:  0\n",
            "predicted:  1 correct:  1\n",
            "predicted:  1 correct:  1\n",
            "predicted:  0 correct:  0\n"
          ],
          "name": "stdout"
        }
      ]
    },
    {
      "cell_type": "markdown",
      "metadata": {
        "id": "BNuvgfTNPtuN"
      },
      "source": [
        "##2. Mahalanobis Distance Classifer\n",
        "dist(p, q) = (p-q)$\\sum^-1$$(p-q)^T$"
      ]
    },
    {
      "cell_type": "code",
      "metadata": {
        "id": "1TiBZy6pP2Zn"
      },
      "source": [
        "def predict_mahalanobis(d, X):\n",
        "  # d: projection of testing images\n",
        "  minDist = np.finfo('float').max # initialize with max value\n",
        "  minClass = -1 # default closest match initialized\n",
        "  cov = np.dot(X_train.T, X_train)\n",
        "  for i in range(X.shape[0]):\n",
        "    dist = mahalanobis(X[i, :], cov, d)\n",
        "    if dist < minDist:\n",
        "      minDist = dist\n",
        "      minClass = i\n",
        "  return minClass, minDist"
      ],
      "execution_count": 22,
      "outputs": []
    },
    {
      "cell_type": "code",
      "metadata": {
        "id": "2VRH4zZuQDFb",
        "outputId": "62d81738-43db-44e6-dc81-6f671d18f0bb",
        "colab": {
          "base_uri": "https://localhost:8080/"
        }
      },
      "source": [
        "correctlyLabeled = 0\n",
        "me = 0\n",
        "mae = 0\n",
        "mse = 0\n",
        "for i in range(X_test.shape[0]):\n",
        "  predicted, x = predict_mahalanobis(X_test[i, :], centroid)\n",
        "  if(predicted == y_test[i]):\n",
        "    correctlyLabeled += 1\n",
        "  print(\"predicted: \", predicted, \"correct: \", y_test[i])\n",
        "  me += x\n",
        "  mae += abs(x)\n",
        "  mse += x*x\n",
        "me /= X_test.shape[0]\n",
        "mae /= X_test.shape[0]\n",
        "mse /= X_test.shape[0]\n",
        "error = (1-correctlyLabeled/X_test.shape[0])*100\n",
        "error\n",
        "error_dist.append(error)\n",
        "lab.append('mahalanobis')\n",
        "me_list.append(me)\n",
        "mse_list.append(mse)\n",
        "mae_list.append(mae)"
      ],
      "execution_count": 23,
      "outputs": [
        {
          "output_type": "stream",
          "text": [
            "predicted:  2 correct:  2\n",
            "predicted:  1 correct:  1\n",
            "predicted:  0 correct:  0\n",
            "predicted:  1 correct:  2\n",
            "predicted:  0 correct:  0\n",
            "predicted:  2 correct:  2\n",
            "predicted:  0 correct:  0\n",
            "predicted:  2 correct:  1\n",
            "predicted:  1 correct:  1\n",
            "predicted:  1 correct:  1\n",
            "predicted:  1 correct:  2\n",
            "predicted:  2 correct:  1\n",
            "predicted:  1 correct:  1\n",
            "predicted:  1 correct:  1\n",
            "predicted:  1 correct:  1\n",
            "predicted:  0 correct:  0\n",
            "predicted:  2 correct:  1\n",
            "predicted:  1 correct:  1\n",
            "predicted:  0 correct:  0\n",
            "predicted:  0 correct:  0\n",
            "predicted:  2 correct:  2\n",
            "predicted:  2 correct:  1\n",
            "predicted:  0 correct:  0\n",
            "predicted:  0 correct:  0\n",
            "predicted:  2 correct:  2\n",
            "predicted:  0 correct:  0\n",
            "predicted:  0 correct:  0\n",
            "predicted:  1 correct:  1\n",
            "predicted:  1 correct:  1\n",
            "predicted:  0 correct:  0\n"
          ],
          "name": "stdout"
        }
      ]
    },
    {
      "cell_type": "markdown",
      "metadata": {
        "id": "09CIqnmKSM64"
      },
      "source": [
        "##3. Manhattan Distance Classifier\n",
        "dist(a, b) = $\\sum$|(a-b)|"
      ]
    },
    {
      "cell_type": "code",
      "metadata": {
        "id": "Xip81JtxSR5s"
      },
      "source": [
        "def predict_manhattan(d, X):\n",
        "  # d: projection of testing images\n",
        "  minDist = np.finfo('float').max # initialize with max value\n",
        "  minClass = -1 # default closest match initialized\n",
        "  \n",
        "  for i in range(X.shape[0]):\n",
        "    dist = manhattan(X[i, :], d)\n",
        "    if dist < minDist:\n",
        "      minDist = dist\n",
        "      minClass = i\n",
        "  return minClass, minDist"
      ],
      "execution_count": 24,
      "outputs": []
    },
    {
      "cell_type": "code",
      "metadata": {
        "id": "kIbm1JX3SVSv",
        "outputId": "2c1ed2d7-ec0c-4e59-a738-de957b50df8c",
        "colab": {
          "base_uri": "https://localhost:8080/"
        }
      },
      "source": [
        "correctlyLabeled = 0\n",
        "me = 0\n",
        "mae = 0\n",
        "mse = 0\n",
        "for i in range(X_test.shape[0]):\n",
        "  predicted, x = predict_manhattan(X_test[i, :], centroid)\n",
        "  if(predicted == y_test[i]):\n",
        "    correctlyLabeled += 1\n",
        "  print(\"predicted: \", predicted, \"correct: \", y_test[i])\n",
        "  me += x\n",
        "  mae += abs(x)\n",
        "  mse += x*x\n",
        "me /= X_test.shape[0]\n",
        "mae /= X_test.shape[0]\n",
        "mse /= X_test.shape[0]\n",
        "error = (1-correctlyLabeled/X_test.shape[0])*100\n",
        "error\n",
        "error_dist.append(error)\n",
        "lab.append('manhattan')\n",
        "me_list.append(me)\n",
        "mse_list.append(mse)\n",
        "mae_list.append(mae)"
      ],
      "execution_count": 25,
      "outputs": [
        {
          "output_type": "stream",
          "text": [
            "predicted:  2 correct:  2\n",
            "predicted:  1 correct:  1\n",
            "predicted:  0 correct:  0\n",
            "predicted:  2 correct:  2\n",
            "predicted:  0 correct:  0\n",
            "predicted:  2 correct:  2\n",
            "predicted:  0 correct:  0\n",
            "predicted:  2 correct:  1\n",
            "predicted:  2 correct:  1\n",
            "predicted:  1 correct:  1\n",
            "predicted:  2 correct:  2\n",
            "predicted:  2 correct:  1\n",
            "predicted:  1 correct:  1\n",
            "predicted:  2 correct:  1\n",
            "predicted:  2 correct:  1\n",
            "predicted:  0 correct:  0\n",
            "predicted:  1 correct:  1\n",
            "predicted:  1 correct:  1\n",
            "predicted:  0 correct:  0\n",
            "predicted:  0 correct:  0\n",
            "predicted:  2 correct:  2\n",
            "predicted:  1 correct:  1\n",
            "predicted:  0 correct:  0\n",
            "predicted:  0 correct:  0\n",
            "predicted:  2 correct:  2\n",
            "predicted:  0 correct:  0\n",
            "predicted:  0 correct:  0\n",
            "predicted:  1 correct:  1\n",
            "predicted:  1 correct:  1\n",
            "predicted:  0 correct:  0\n"
          ],
          "name": "stdout"
        }
      ]
    },
    {
      "cell_type": "markdown",
      "metadata": {
        "id": "o5rx18M4Sjs_"
      },
      "source": [
        "##4. Chess Board Distance Classifier\n",
        "dist(a, b) = MAX(|$a_2$ - $a_1$|, |$b_2$ - $b_1$|)"
      ]
    },
    {
      "cell_type": "code",
      "metadata": {
        "id": "RyqUPsuhSgYM"
      },
      "source": [
        "def predict_chess(d, X):\n",
        "  # d: projection of testing images\n",
        "  minDist = np.finfo('float').max # initialize with max value\n",
        "  minClass = -1 # default closest match initialized\n",
        "  \n",
        "  for i in range(X.shape[0]):\n",
        "    dist = chess_board(X[i, :], d)\n",
        "    if dist < minDist:\n",
        "      minDist = dist\n",
        "      minClass = i\n",
        "  return minClass, minDist"
      ],
      "execution_count": 26,
      "outputs": []
    },
    {
      "cell_type": "code",
      "metadata": {
        "id": "kstXPt1ESpx7",
        "outputId": "7b7a557a-fd52-4f81-ede9-7aadc023dcb8",
        "colab": {
          "base_uri": "https://localhost:8080/"
        }
      },
      "source": [
        "correctlyLabeled = 0\n",
        "me = 0\n",
        "mae = 0\n",
        "mse = 0\n",
        "for i in range(X_test.shape[0]):\n",
        "  predicted, x = predict_chess(X_test[i, :], centroid)\n",
        "  if(predicted == y_test[i]):\n",
        "    correctlyLabeled += 1\n",
        "  print(\"predicted: \", predicted, \"correct: \", y_test[i])\n",
        "  me += x\n",
        "  mae += abs(x)\n",
        "  mse += x*x\n",
        "me /= X_test.shape[0]\n",
        "mae /= X_test.shape[0]\n",
        "mse /= X_test.shape[0]\n",
        "error = (1-correctlyLabeled/X_test.shape[0])*100\n",
        "error\n",
        "error_dist.append(error)\n",
        "lab.append('chess')\n",
        "me_list.append(me)\n",
        "mse_list.append(mse)\n",
        "mae_list.append(mae)"
      ],
      "execution_count": 27,
      "outputs": [
        {
          "output_type": "stream",
          "text": [
            "predicted:  2 correct:  2\n",
            "predicted:  1 correct:  1\n",
            "predicted:  0 correct:  0\n",
            "predicted:  2 correct:  2\n",
            "predicted:  0 correct:  0\n",
            "predicted:  2 correct:  2\n",
            "predicted:  0 correct:  0\n",
            "predicted:  2 correct:  1\n",
            "predicted:  2 correct:  1\n",
            "predicted:  1 correct:  1\n",
            "predicted:  2 correct:  2\n",
            "predicted:  1 correct:  1\n",
            "predicted:  2 correct:  1\n",
            "predicted:  2 correct:  1\n",
            "predicted:  2 correct:  1\n",
            "predicted:  0 correct:  0\n",
            "predicted:  1 correct:  1\n",
            "predicted:  1 correct:  1\n",
            "predicted:  0 correct:  0\n",
            "predicted:  0 correct:  0\n",
            "predicted:  2 correct:  2\n",
            "predicted:  1 correct:  1\n",
            "predicted:  0 correct:  0\n",
            "predicted:  0 correct:  0\n",
            "predicted:  2 correct:  2\n",
            "predicted:  0 correct:  0\n",
            "predicted:  0 correct:  0\n",
            "predicted:  1 correct:  1\n",
            "predicted:  1 correct:  1\n",
            "predicted:  0 correct:  0\n"
          ],
          "name": "stdout"
        }
      ]
    },
    {
      "cell_type": "markdown",
      "metadata": {
        "id": "WYb7iu28S0qS"
      },
      "source": [
        "##5. Canberra Distance Classifier\n",
        "u = {a, b, c}<br>\n",
        "v = {x, y, z}<br>\n",
        ">dist(u, v) = Total[Abs[{a, b, c}-{x, y, z}]/(Abs[{a, b, c}]+Abs[{x, y, z}])]"
      ]
    },
    {
      "cell_type": "code",
      "metadata": {
        "id": "yJ0dgPIQS567"
      },
      "source": [
        "def predict_canberra(d, X):\n",
        "  # d: projection of testing images\n",
        "  minDist = np.finfo('float').max # initialize with max value\n",
        "  minClass = -1 # default closest match initialized\n",
        "  \n",
        "  for i in range(X.shape[0]):\n",
        "    dist = canberra(X[i, :], d)\n",
        "    if dist < minDist:\n",
        "      minDist = dist\n",
        "      minClass = i\n",
        "  return minClass, minDist"
      ],
      "execution_count": 28,
      "outputs": []
    },
    {
      "cell_type": "code",
      "metadata": {
        "id": "0C7nXKVmS8AK",
        "outputId": "a510bef1-25ad-44b9-be17-a8a9d0b26526",
        "colab": {
          "base_uri": "https://localhost:8080/"
        }
      },
      "source": [
        "correctlyLabeled = 0\n",
        "me = 0\n",
        "mae = 0\n",
        "mse = 0\n",
        "for i in range(X_test.shape[0]):\n",
        "  predicted, x = predict_canberra(X_test[i, :], centroid)\n",
        "  if(predicted == y_test[i]):\n",
        "    correctlyLabeled += 1\n",
        "  print(\"predicted: \", predicted, \"correct: \", y_test[i])\n",
        "  me += x\n",
        "  mae += abs(x)\n",
        "  mse += x*x\n",
        "me /= X_test.shape[0]\n",
        "mae /= X_test.shape[0]\n",
        "mse /= X_test.shape[0]\n",
        "error = (1-correctlyLabeled/X_test.shape[0])*100\n",
        "error\n",
        "error_dist.append(error)\n",
        "lab.append('canberra')\n",
        "me_list.append(me)\n",
        "mse_list.append(mse)\n",
        "mae_list.append(mae)"
      ],
      "execution_count": 29,
      "outputs": [
        {
          "output_type": "stream",
          "text": [
            "predicted:  2 correct:  2\n",
            "predicted:  1 correct:  1\n",
            "predicted:  0 correct:  0\n",
            "predicted:  2 correct:  2\n",
            "predicted:  0 correct:  0\n",
            "predicted:  2 correct:  2\n",
            "predicted:  0 correct:  0\n",
            "predicted:  2 correct:  1\n",
            "predicted:  2 correct:  1\n",
            "predicted:  1 correct:  1\n",
            "predicted:  2 correct:  2\n",
            "predicted:  2 correct:  1\n",
            "predicted:  1 correct:  1\n",
            "predicted:  2 correct:  1\n",
            "predicted:  2 correct:  1\n",
            "predicted:  0 correct:  0\n",
            "predicted:  2 correct:  1\n",
            "predicted:  1 correct:  1\n",
            "predicted:  0 correct:  0\n",
            "predicted:  0 correct:  0\n",
            "predicted:  2 correct:  2\n",
            "predicted:  2 correct:  1\n",
            "predicted:  0 correct:  0\n",
            "predicted:  0 correct:  0\n",
            "predicted:  2 correct:  2\n",
            "predicted:  0 correct:  0\n",
            "predicted:  0 correct:  0\n",
            "predicted:  2 correct:  1\n",
            "predicted:  0 correct:  1\n",
            "predicted:  0 correct:  0\n"
          ],
          "name": "stdout"
        }
      ]
    },
    {
      "cell_type": "markdown",
      "metadata": {
        "id": "SWuNANjCWsxk"
      },
      "source": [
        "##6. Bray Curtis Distance Classifier\n",
        "u = {a, b, c}<br>\n",
        "v = {x, y, z}<br>\n",
        ">dist(u, v) = Total[Abs[{a, b, c}-{x, y, z}]]/Total[Abs[{a, b, c}+{x, y, z}]]"
      ]
    },
    {
      "cell_type": "code",
      "metadata": {
        "id": "q9BkgdDQWvBg"
      },
      "source": [
        "def predict_bray(d, X):\n",
        "  # d: projection of testing images\n",
        "  minDist = np.finfo('float').max # initialize with max value\n",
        "  minClass = -1 # default closest match initialized\n",
        "  \n",
        "  for i in range(X.shape[0]):\n",
        "    dist = bray_curtis(X[i, :], d)\n",
        "    if dist < minDist:\n",
        "      minDist = dist\n",
        "      minClass = i\n",
        "  return minClass, minDist"
      ],
      "execution_count": 30,
      "outputs": []
    },
    {
      "cell_type": "code",
      "metadata": {
        "id": "mqXU8E4_WyKM",
        "outputId": "46db12c8-fdf1-47cf-b41c-f9b6cb125c61",
        "colab": {
          "base_uri": "https://localhost:8080/"
        }
      },
      "source": [
        "correctlyLabeled = 0\n",
        "me = 0\n",
        "mae = 0\n",
        "mse = 0\n",
        "for i in range(X_test.shape[0]):\n",
        "  predicted, x = predict_bray(X_test[i, :], centroid)\n",
        "  if(predicted == y_test[i]):\n",
        "    correctlyLabeled += 1\n",
        "  print(\"predicted: \", predicted, \"correct: \", y_test[i])\n",
        "  me += x\n",
        "  mae += abs(x)\n",
        "  mse += x*x\n",
        "me /= X_test.shape[0]\n",
        "mae /= X_test.shape[0]\n",
        "mse /= X_test.shape[0]\n",
        "error = (1-correctlyLabeled/X_test.shape[0])*100\n",
        "error\n",
        "error_dist.append(error)\n",
        "lab.append('bray')\n",
        "me_list.append(me)\n",
        "mse_list.append(mse)\n",
        "mae_list.append(mae)"
      ],
      "execution_count": 31,
      "outputs": [
        {
          "output_type": "stream",
          "text": [
            "predicted:  2 correct:  2\n",
            "predicted:  1 correct:  1\n",
            "predicted:  0 correct:  0\n",
            "predicted:  2 correct:  2\n",
            "predicted:  0 correct:  0\n",
            "predicted:  2 correct:  2\n",
            "predicted:  0 correct:  0\n",
            "predicted:  2 correct:  1\n",
            "predicted:  2 correct:  1\n",
            "predicted:  1 correct:  1\n",
            "predicted:  2 correct:  2\n",
            "predicted:  2 correct:  1\n",
            "predicted:  2 correct:  1\n",
            "predicted:  2 correct:  1\n",
            "predicted:  2 correct:  1\n",
            "predicted:  0 correct:  0\n",
            "predicted:  2 correct:  1\n",
            "predicted:  1 correct:  1\n",
            "predicted:  0 correct:  0\n",
            "predicted:  0 correct:  0\n",
            "predicted:  2 correct:  2\n",
            "predicted:  2 correct:  1\n",
            "predicted:  0 correct:  0\n",
            "predicted:  0 correct:  0\n",
            "predicted:  2 correct:  2\n",
            "predicted:  0 correct:  0\n",
            "predicted:  0 correct:  0\n",
            "predicted:  2 correct:  1\n",
            "predicted:  0 correct:  1\n",
            "predicted:  0 correct:  0\n"
          ],
          "name": "stdout"
        }
      ]
    },
    {
      "cell_type": "markdown",
      "metadata": {
        "id": "vakjQy1zXIla"
      },
      "source": [
        "##7. Cosine Distance Classifier\n",
        "u = {a, b, c}<br>\n",
        "v = {x, y, z}<br>\n",
        ">dist(u, v) = 1- {a, b, c}.{x, y, z}/(Norm[{a, b, c}]Norm[{x, y, z}])"
      ]
    },
    {
      "cell_type": "code",
      "metadata": {
        "id": "7szTOeo-XEiB"
      },
      "source": [
        "def predict_cosine(d, X):\n",
        "  # d: projection of testing images\n",
        "  minDist = np.finfo('float').max # initialize with max value\n",
        "  minClass = -1 # default closest match initialized\n",
        "  \n",
        "  for i in range(X.shape[0]):\n",
        "    dist = cosine(X[i, :], d)\n",
        "    if dist < minDist:\n",
        "      minDist = dist\n",
        "      minClass = i\n",
        "  return minClass, minDist"
      ],
      "execution_count": 32,
      "outputs": []
    },
    {
      "cell_type": "code",
      "metadata": {
        "id": "Ob3YYuoKXNSc",
        "outputId": "8456e883-bdc9-42da-8d9d-60f621862d83",
        "colab": {
          "base_uri": "https://localhost:8080/"
        }
      },
      "source": [
        "correctlyLabeled = 0\n",
        "me = 0\n",
        "mae = 0\n",
        "mse = 0\n",
        "for i in range(X_test.shape[0]):\n",
        "  predicted, x = predict_cosine(X_test[i, :], centroid)\n",
        "  if(predicted == y_test[i]):\n",
        "    correctlyLabeled += 1\n",
        "  print(\"predicted: \", predicted, \"correct: \", y_test[i])\n",
        "  me += x\n",
        "  mae += abs(x)\n",
        "  mse += x*x\n",
        "me /= X_test.shape[0]\n",
        "mae /= X_test.shape[0]\n",
        "mse /= X_test.shape[0]\n",
        "error = (1-correctlyLabeled/X_test.shape[0])*100\n",
        "error\n",
        "error_dist.append(error)\n",
        "lab.append('cosine')\n",
        "me_list.append(me)\n",
        "mse_list.append(mse)\n",
        "mae_list.append(mae)"
      ],
      "execution_count": 33,
      "outputs": [
        {
          "output_type": "stream",
          "text": [
            "predicted:  2 correct:  2\n",
            "predicted:  1 correct:  1\n",
            "predicted:  0 correct:  0\n",
            "predicted:  2 correct:  2\n",
            "predicted:  0 correct:  0\n",
            "predicted:  2 correct:  2\n",
            "predicted:  0 correct:  0\n",
            "predicted:  2 correct:  1\n",
            "predicted:  2 correct:  1\n",
            "predicted:  2 correct:  1\n",
            "predicted:  2 correct:  2\n",
            "predicted:  2 correct:  1\n",
            "predicted:  2 correct:  1\n",
            "predicted:  2 correct:  1\n",
            "predicted:  2 correct:  1\n",
            "predicted:  0 correct:  0\n",
            "predicted:  2 correct:  1\n",
            "predicted:  1 correct:  1\n",
            "predicted:  0 correct:  0\n",
            "predicted:  0 correct:  0\n",
            "predicted:  2 correct:  2\n",
            "predicted:  2 correct:  1\n",
            "predicted:  0 correct:  0\n",
            "predicted:  0 correct:  0\n",
            "predicted:  2 correct:  2\n",
            "predicted:  0 correct:  0\n",
            "predicted:  0 correct:  0\n",
            "predicted:  2 correct:  1\n",
            "predicted:  0 correct:  1\n",
            "predicted:  0 correct:  0\n"
          ],
          "name": "stdout"
        }
      ]
    },
    {
      "cell_type": "markdown",
      "metadata": {
        "id": "YHurOgeZXb0D"
      },
      "source": [
        "##8. Correlation Distance Classifier\n",
        "u = {a, b, c}<br>\n",
        "v = {x, y, z}<br>\n",
        ">dist(u, v) = 1 - (u-Mean(u))(v-Mean(v))/Norm(u-Mean(u)).Norm(v-Mean(v))"
      ]
    },
    {
      "cell_type": "code",
      "metadata": {
        "id": "fyhiL4EuXaCB"
      },
      "source": [
        "def predict_correlation(d, X):\n",
        "  # d: projection of testing images\n",
        "  minDist = np.finfo('float').max # initialize with max value\n",
        "  minClass = -1 # default closest match initialized\n",
        "  \n",
        "  for i in range(X.shape[0]):\n",
        "    dist = correlation(X[i, :], d)\n",
        "    if dist < minDist:\n",
        "      minDist = dist\n",
        "      minClass = i\n",
        "  return minClass, minDist"
      ],
      "execution_count": 34,
      "outputs": []
    },
    {
      "cell_type": "code",
      "metadata": {
        "id": "111YitmiXlC4",
        "outputId": "3b3f580e-56b6-4532-ca9f-62ee44f8a58b",
        "colab": {
          "base_uri": "https://localhost:8080/"
        }
      },
      "source": [
        "correctlyLabeled = 0\n",
        "me = 0\n",
        "mae = 0\n",
        "mse = 0\n",
        "for i in range(X_test.shape[0]):\n",
        "  predicted, x = predict_correlation(X_test[i, :], centroid)\n",
        "  if(predicted == y_test[i]):\n",
        "    correctlyLabeled += 1\n",
        "  print(\"predicted: \", predicted, \"correct: \", y_test[i])\n",
        "  me += x\n",
        "  mae += abs(x)\n",
        "  mse += x*x\n",
        "me /= X_test.shape[0]\n",
        "mae /= X_test.shape[0]\n",
        "mse /= X_test.shape[0]\n",
        "error = (1-correctlyLabeled/X_test.shape[0])*100\n",
        "error\n",
        "error_dist.append(error)\n",
        "lab.append('correlation')\n",
        "me_list.append(me)\n",
        "mse_list.append(mse)\n",
        "mae_list.append(mae)"
      ],
      "execution_count": 35,
      "outputs": [
        {
          "output_type": "stream",
          "text": [
            "predicted:  1 correct:  2\n",
            "predicted:  2 correct:  1\n",
            "predicted:  0 correct:  0\n",
            "predicted:  2 correct:  2\n",
            "predicted:  0 correct:  0\n",
            "predicted:  1 correct:  2\n",
            "predicted:  0 correct:  0\n",
            "predicted:  2 correct:  1\n",
            "predicted:  2 correct:  1\n",
            "predicted:  2 correct:  1\n",
            "predicted:  2 correct:  2\n",
            "predicted:  2 correct:  1\n",
            "predicted:  2 correct:  1\n",
            "predicted:  2 correct:  1\n",
            "predicted:  2 correct:  1\n",
            "predicted:  0 correct:  0\n",
            "predicted:  1 correct:  1\n",
            "predicted:  1 correct:  1\n",
            "predicted:  0 correct:  0\n",
            "predicted:  0 correct:  0\n",
            "predicted:  1 correct:  2\n",
            "predicted:  1 correct:  1\n",
            "predicted:  0 correct:  0\n",
            "predicted:  0 correct:  0\n",
            "predicted:  1 correct:  2\n",
            "predicted:  0 correct:  0\n",
            "predicted:  0 correct:  0\n",
            "predicted:  2 correct:  1\n",
            "predicted:  1 correct:  1\n",
            "predicted:  0 correct:  0\n"
          ],
          "name": "stdout"
        }
      ]
    },
    {
      "cell_type": "markdown",
      "metadata": {
        "id": "KE69qlf5yoCF"
      },
      "source": [
        "## Plot"
      ]
    },
    {
      "cell_type": "code",
      "metadata": {
        "id": "38Od2ZpVZitK",
        "outputId": "eedd0561-0304-4c8a-f483-7194ddd016ea",
        "colab": {
          "base_uri": "https://localhost:8080/",
          "height": 283
        }
      },
      "source": [
        "plt.plot(lab, error_dist)\n",
        "axes = plt.gca()\n",
        "axes.set_ylim([0,100])\n",
        "plt.xlabel('Distance Classifier')\n",
        "plt.ylabel('error') \n",
        "plt.show()"
      ],
      "execution_count": 38,
      "outputs": [
        {
          "output_type": "display_data",
          "data": {
            "image/png": "[encoded data removed]",
            "text/plain": [
              "<Figure size 432x288 with 1 Axes>"
            ]
          },
          "metadata": {
            "tags": [],
            "needs_background": "light"
          }
        }
      ]
    },
    {
      "cell_type": "code",
      "metadata": {
        "id": "2hpAWRvmooyh",
        "outputId": "880bcd9c-0305-41a7-c6e3-6857619295e1",
        "colab": {
          "base_uri": "https://localhost:8080/"
        }
      },
      "source": [
        "print(lab)\n",
        "print(error_dist)\n",
        "print(me_list)\n",
        "print(mae_list)\n",
        "print(mse_list)"
      ],
      "execution_count": 37,
      "outputs": [
        {
          "output_type": "stream",
          "text": [
            "['euclidean', 'mahalanobis', 'manhattan', 'chess', 'canberra', 'bray', 'cosine', 'correlation']\n",
            "[16.666666666666664, 19.999999999999996, 16.666666666666664, 16.666666666666664, 30.000000000000004, 33.333333333333336, 36.66666666666667, 43.333333333333336]\n",
            "[0.7330810938598192, array([[0.02612254]]), 1.2503312648312643, 0.561906324156324, 1.2948249446105593, 0.24200741468652825, 0.06513826334267953, 0.0523103389511034]\n",
            "[0.7330810938598192, array([[0.02612254]]), 1.2503312648312643, 0.561906324156324, 1.2948249446105593, 0.24200741468652825, 0.06513826334267953, 0.0523103389511034]\n",
            "[0.5937906555251147, array([[0.00116534]]), 1.7328594403123128, 0.3486297215145668, 2.0426753333351786, 0.07908458123773342, 0.018745324533839033, 0.00626888768791134]\n"
          ],
          "name": "stdout"
        }
      ]
    }
  ]
}