{
  "nbformat": 4,
  "nbformat_minor": 0,
  "metadata": {
    "colab": {
      "name": "Assign3_117CS0259.ipynb",
      "provenance": [],
      "toc_visible": true
    },
    "kernelspec": {
      "name": "python3",
      "display_name": "Python 3"
    }
  },
  "cells": [
    {
      "cell_type": "markdown",
      "metadata": {
        "id": "D4hK6MvRt_7c",
        "colab_type": "text"
      },
      "source": [
        "# Assignment 3: Face Recognition using PCA"
      ]
    },
    {
      "cell_type": "markdown",
      "metadata": {
        "id": "DK7PfcFPujHm",
        "colab_type": "text"
      },
      "source": [
        "##1. Dataset Upload and Extract"
      ]
    },
    {
      "cell_type": "markdown",
      "metadata": {
        "id": "wMjBPnhouq04",
        "colab_type": "text"
      },
      "source": [
        "### 1.1 Dataset Upload"
      ]
    },
    {
      "cell_type": "code",
      "metadata": {
        "id": "c6l2uSBqCHnk",
        "colab_type": "code",
        "colab": {}
      },
      "source": [
        "# import dataset\n",
        "# from google.colab import files\n",
        "# uploaded = files.upload()"
      ],
      "execution_count": 1,
      "outputs": []
    },
    {
      "cell_type": "markdown",
      "metadata": {
        "id": "UMUYeTCbuwAH",
        "colab_type": "text"
      },
      "source": [
        "### 1.2 Dataset Extract"
      ]
    },
    {
      "cell_type": "code",
      "metadata": {
        "id": "ffxVwNxtZ1SG",
        "colab_type": "code",
        "colab": {}
      },
      "source": [
        "# !unzip att_faces_ORG.zip"
      ],
      "execution_count": 2,
      "outputs": []
    },
    {
      "cell_type": "markdown",
      "metadata": {
        "id": "NiBQ_2vQu33f",
        "colab_type": "text"
      },
      "source": [
        "### 1.3 Verify the Dataset\n",
        "Verify if our datasets are correclty imported"
      ]
    },
    {
      "cell_type": "code",
      "metadata": {
        "id": "Vbeb9uDMCUxQ",
        "colab_type": "code",
        "colab": {
          "base_uri": "https://localhost:8080/",
          "height": 34
        },
        "outputId": "8f019dc8-a18a-44cf-f30f-61bff8c35fe7"
      },
      "source": [
        "# to chack the datasets are correctly uploaded and labeled.\n",
        "import os\n",
        "print(os.listdir(os.getcwd()))"
      ],
      "execution_count": 3,
      "outputs": [
        {
          "output_type": "stream",
          "text": [
            "['.config', '.ipynb_checkpoints', 'att_faces', 'att_faces_ORG.zip', 'sample_data']\n"
          ],
          "name": "stdout"
        }
      ]
    },
    {
      "cell_type": "markdown",
      "metadata": {
        "id": "ubs1jTN2vFUO",
        "colab_type": "text"
      },
      "source": [
        "## 2. Import of All Required Libraries "
      ]
    },
    {
      "cell_type": "code",
      "metadata": {
        "id": "C8olN8QKCbU9",
        "colab_type": "code",
        "colab": {}
      },
      "source": [
        "# import required libraries\n",
        "import matplotlib.pyplot as plt\n",
        "import numpy as np\n",
        "import cv2\n",
        "from sklearn.model_selection import train_test_split"
      ],
      "execution_count": 4,
      "outputs": []
    },
    {
      "cell_type": "markdown",
      "metadata": {
        "id": "OubSKnMHvMtS",
        "colab_type": "text"
      },
      "source": [
        "##3. Steps For Training Dataseet"
      ]
    },
    {
      "cell_type": "markdown",
      "metadata": {
        "id": "yNvBf72vvWLR",
        "colab_type": "text"
      },
      "source": [
        "### 3.1 Generating Face Dataset\n",
        "Each face image is represented in the form a matrix having m rows and n columns,\n",
        "where each pixel (x,y) such that xm, and yn shows pixel location of the image as\n",
        "well as the direction.\n",
        "For the simplicity we are assuming each face image as a column vector, if we have p\n",
        "images then the size of the face database will be mn*p.<br>\n",
        "Let’s say face database is denoted as $(Face Db)_{mn*p}$*italicized text*"
      ]
    },
    {
      "cell_type": "code",
      "metadata": {
        "id": "CMOrHSXTCcs1",
        "colab_type": "code",
        "colab": {
          "base_uri": "https://localhost:8080/",
          "height": 1000
        },
        "outputId": "164ddd48-ca11-472e-e242-1cfd281611e0"
      },
      "source": [
        "Face_db = np.zeros(shape=(400, 112*92)) # image input in p*mn format\n",
        "y = np.zeros(shape=(400, 1), dtype=np.int8) # name of the corresponding image\n",
        "p = 0; # increment operator to store each data\n",
        "for i in range(40):\n",
        "  images = os.listdir('./att_faces/s'+str(i+1)) # retrive every folder of my path\n",
        "  for image in images:\n",
        "    img = cv2.imread('./att_faces/s'+str(i+1)+\"/\"+image, cv2.IMREAD_GRAYSCALE) # read the input image\n",
        "    img = np.array(img, dtype=np.float64)\n",
        "    Face_db[p, :] = img.flatten() # flat the image as mentioned in document\n",
        "    y[p] = i+1 # label for the input data image\n",
        "    p += 1 \n",
        "print(Face_db)\n",
        "print(y)"
      ],
      "execution_count": 5,
      "outputs": [
        {
          "output_type": "stream",
          "text": [
            "[[ 60.  60.  62. ...  32.  34.  34.]\n",
            " [ 63.  53.  35. ...  41.  10.  24.]\n",
            " [ 42.  41.  44. ...  42.  43.  41.]\n",
            " ...\n",
            " [123. 121. 126. ...  40.  35.  42.]\n",
            " [125. 124. 124. ...  36.  35.  34.]\n",
            " [125. 119. 124. ...  36.  39.  40.]]\n",
            "[[ 1]\n",
            " [ 1]\n",
            " [ 1]\n",
            " [ 1]\n",
            " [ 1]\n",
            " [ 1]\n",
            " [ 1]\n",
            " [ 1]\n",
            " [ 1]\n",
            " [ 1]\n",
            " [ 2]\n",
            " [ 2]\n",
            " [ 2]\n",
            " [ 2]\n",
            " [ 2]\n",
            " [ 2]\n",
            " [ 2]\n",
            " [ 2]\n",
            " [ 2]\n",
            " [ 2]\n",
            " [ 3]\n",
            " [ 3]\n",
            " [ 3]\n",
            " [ 3]\n",
            " [ 3]\n",
            " [ 3]\n",
            " [ 3]\n",
            " [ 3]\n",
            " [ 3]\n",
            " [ 3]\n",
            " [ 4]\n",
            " [ 4]\n",
            " [ 4]\n",
            " [ 4]\n",
            " [ 4]\n",
            " [ 4]\n",
            " [ 4]\n",
            " [ 4]\n",
            " [ 4]\n",
            " [ 4]\n",
            " [ 5]\n",
            " [ 5]\n",
            " [ 5]\n",
            " [ 5]\n",
            " [ 5]\n",
            " [ 5]\n",
            " [ 5]\n",
            " [ 5]\n",
            " [ 5]\n",
            " [ 5]\n",
            " [ 6]\n",
            " [ 6]\n",
            " [ 6]\n",
            " [ 6]\n",
            " [ 6]\n",
            " [ 6]\n",
            " [ 6]\n",
            " [ 6]\n",
            " [ 6]\n",
            " [ 6]\n",
            " [ 7]\n",
            " [ 7]\n",
            " [ 7]\n",
            " [ 7]\n",
            " [ 7]\n",
            " [ 7]\n",
            " [ 7]\n",
            " [ 7]\n",
            " [ 7]\n",
            " [ 7]\n",
            " [ 8]\n",
            " [ 8]\n",
            " [ 8]\n",
            " [ 8]\n",
            " [ 8]\n",
            " [ 8]\n",
            " [ 8]\n",
            " [ 8]\n",
            " [ 8]\n",
            " [ 8]\n",
            " [ 9]\n",
            " [ 9]\n",
            " [ 9]\n",
            " [ 9]\n",
            " [ 9]\n",
            " [ 9]\n",
            " [ 9]\n",
            " [ 9]\n",
            " [ 9]\n",
            " [ 9]\n",
            " [10]\n",
            " [10]\n",
            " [10]\n",
            " [10]\n",
            " [10]\n",
            " [10]\n",
            " [10]\n",
            " [10]\n",
            " [10]\n",
            " [10]\n",
            " [11]\n",
            " [11]\n",
            " [11]\n",
            " [11]\n",
            " [11]\n",
            " [11]\n",
            " [11]\n",
            " [11]\n",
            " [11]\n",
            " [11]\n",
            " [12]\n",
            " [12]\n",
            " [12]\n",
            " [12]\n",
            " [12]\n",
            " [12]\n",
            " [12]\n",
            " [12]\n",
            " [12]\n",
            " [12]\n",
            " [13]\n",
            " [13]\n",
            " [13]\n",
            " [13]\n",
            " [13]\n",
            " [13]\n",
            " [13]\n",
            " [13]\n",
            " [13]\n",
            " [13]\n",
            " [14]\n",
            " [14]\n",
            " [14]\n",
            " [14]\n",
            " [14]\n",
            " [14]\n",
            " [14]\n",
            " [14]\n",
            " [14]\n",
            " [14]\n",
            " [15]\n",
            " [15]\n",
            " [15]\n",
            " [15]\n",
            " [15]\n",
            " [15]\n",
            " [15]\n",
            " [15]\n",
            " [15]\n",
            " [15]\n",
            " [16]\n",
            " [16]\n",
            " [16]\n",
            " [16]\n",
            " [16]\n",
            " [16]\n",
            " [16]\n",
            " [16]\n",
            " [16]\n",
            " [16]\n",
            " [17]\n",
            " [17]\n",
            " [17]\n",
            " [17]\n",
            " [17]\n",
            " [17]\n",
            " [17]\n",
            " [17]\n",
            " [17]\n",
            " [17]\n",
            " [18]\n",
            " [18]\n",
            " [18]\n",
            " [18]\n",
            " [18]\n",
            " [18]\n",
            " [18]\n",
            " [18]\n",
            " [18]\n",
            " [18]\n",
            " [19]\n",
            " [19]\n",
            " [19]\n",
            " [19]\n",
            " [19]\n",
            " [19]\n",
            " [19]\n",
            " [19]\n",
            " [19]\n",
            " [19]\n",
            " [20]\n",
            " [20]\n",
            " [20]\n",
            " [20]\n",
            " [20]\n",
            " [20]\n",
            " [20]\n",
            " [20]\n",
            " [20]\n",
            " [20]\n",
            " [21]\n",
            " [21]\n",
            " [21]\n",
            " [21]\n",
            " [21]\n",
            " [21]\n",
            " [21]\n",
            " [21]\n",
            " [21]\n",
            " [21]\n",
            " [22]\n",
            " [22]\n",
            " [22]\n",
            " [22]\n",
            " [22]\n",
            " [22]\n",
            " [22]\n",
            " [22]\n",
            " [22]\n",
            " [22]\n",
            " [23]\n",
            " [23]\n",
            " [23]\n",
            " [23]\n",
            " [23]\n",
            " [23]\n",
            " [23]\n",
            " [23]\n",
            " [23]\n",
            " [23]\n",
            " [24]\n",
            " [24]\n",
            " [24]\n",
            " [24]\n",
            " [24]\n",
            " [24]\n",
            " [24]\n",
            " [24]\n",
            " [24]\n",
            " [24]\n",
            " [25]\n",
            " [25]\n",
            " [25]\n",
            " [25]\n",
            " [25]\n",
            " [25]\n",
            " [25]\n",
            " [25]\n",
            " [25]\n",
            " [25]\n",
            " [26]\n",
            " [26]\n",
            " [26]\n",
            " [26]\n",
            " [26]\n",
            " [26]\n",
            " [26]\n",
            " [26]\n",
            " [26]\n",
            " [26]\n",
            " [27]\n",
            " [27]\n",
            " [27]\n",
            " [27]\n",
            " [27]\n",
            " [27]\n",
            " [27]\n",
            " [27]\n",
            " [27]\n",
            " [27]\n",
            " [28]\n",
            " [28]\n",
            " [28]\n",
            " [28]\n",
            " [28]\n",
            " [28]\n",
            " [28]\n",
            " [28]\n",
            " [28]\n",
            " [28]\n",
            " [29]\n",
            " [29]\n",
            " [29]\n",
            " [29]\n",
            " [29]\n",
            " [29]\n",
            " [29]\n",
            " [29]\n",
            " [29]\n",
            " [29]\n",
            " [30]\n",
            " [30]\n",
            " [30]\n",
            " [30]\n",
            " [30]\n",
            " [30]\n",
            " [30]\n",
            " [30]\n",
            " [30]\n",
            " [30]\n",
            " [31]\n",
            " [31]\n",
            " [31]\n",
            " [31]\n",
            " [31]\n",
            " [31]\n",
            " [31]\n",
            " [31]\n",
            " [31]\n",
            " [31]\n",
            " [32]\n",
            " [32]\n",
            " [32]\n",
            " [32]\n",
            " [32]\n",
            " [32]\n",
            " [32]\n",
            " [32]\n",
            " [32]\n",
            " [32]\n",
            " [33]\n",
            " [33]\n",
            " [33]\n",
            " [33]\n",
            " [33]\n",
            " [33]\n",
            " [33]\n",
            " [33]\n",
            " [33]\n",
            " [33]\n",
            " [34]\n",
            " [34]\n",
            " [34]\n",
            " [34]\n",
            " [34]\n",
            " [34]\n",
            " [34]\n",
            " [34]\n",
            " [34]\n",
            " [34]\n",
            " [35]\n",
            " [35]\n",
            " [35]\n",
            " [35]\n",
            " [35]\n",
            " [35]\n",
            " [35]\n",
            " [35]\n",
            " [35]\n",
            " [35]\n",
            " [36]\n",
            " [36]\n",
            " [36]\n",
            " [36]\n",
            " [36]\n",
            " [36]\n",
            " [36]\n",
            " [36]\n",
            " [36]\n",
            " [36]\n",
            " [37]\n",
            " [37]\n",
            " [37]\n",
            " [37]\n",
            " [37]\n",
            " [37]\n",
            " [37]\n",
            " [37]\n",
            " [37]\n",
            " [37]\n",
            " [38]\n",
            " [38]\n",
            " [38]\n",
            " [38]\n",
            " [38]\n",
            " [38]\n",
            " [38]\n",
            " [38]\n",
            " [38]\n",
            " [38]\n",
            " [39]\n",
            " [39]\n",
            " [39]\n",
            " [39]\n",
            " [39]\n",
            " [39]\n",
            " [39]\n",
            " [39]\n",
            " [39]\n",
            " [39]\n",
            " [40]\n",
            " [40]\n",
            " [40]\n",
            " [40]\n",
            " [40]\n",
            " [40]\n",
            " [40]\n",
            " [40]\n",
            " [40]\n",
            " [40]]\n"
          ],
          "name": "stdout"
        }
      ]
    },
    {
      "cell_type": "markdown",
      "metadata": {
        "id": "EexFXWDAyGuI",
        "colab_type": "text"
      },
      "source": [
        "###3.2 Perform Split of Data for Training and Testing Purpose\n",
        "split the 80% of data for training and remaining for testing."
      ]
    },
    {
      "cell_type": "code",
      "metadata": {
        "id": "N23KOBYHq7ky",
        "colab_type": "code",
        "colab": {
          "base_uri": "https://localhost:8080/",
          "height": 50
        },
        "outputId": "2df0d0c8-6e54-42b4-a2ed-cfcff5c519dc"
      },
      "source": [
        "X_train, X_test, y_train, y_test = train_test_split(Face_db, y, train_size=0.8, random_state=0) # spliting by 80%\n",
        "print(X_train.shape)\n",
        "y_train.shape;\n",
        "X_test.shape;\n",
        "y_test.shape"
      ],
      "execution_count": 6,
      "outputs": [
        {
          "output_type": "stream",
          "text": [
            "(320, 10304)\n"
          ],
          "name": "stdout"
        },
        {
          "output_type": "execute_result",
          "data": {
            "text/plain": [
              "(80, 1)"
            ]
          },
          "metadata": {
            "tags": []
          },
          "execution_count": 6
        }
      ]
    },
    {
      "cell_type": "code",
      "metadata": {
        "id": "7wmMnsEfsYLw",
        "colab_type": "code",
        "colab": {
          "base_uri": "https://localhost:8080/",
          "height": 34
        },
        "outputId": "e9a4ee96-01a9-43ba-ce8c-a1985921ffe8"
      },
      "source": [
        "X_train = X_train.T # to convert data to required format i.e mn*p\n",
        "X_test = X_test.T\n",
        "X_test.shape"
      ],
      "execution_count": 7,
      "outputs": [
        {
          "output_type": "execute_result",
          "data": {
            "text/plain": [
              "(10304, 80)"
            ]
          },
          "metadata": {
            "tags": []
          },
          "execution_count": 7
        }
      ]
    },
    {
      "cell_type": "markdown",
      "metadata": {
        "id": "O1brg4DAyy5c",
        "colab_type": "text"
      },
      "source": [
        "###3.3 Calculate Mean\n",
        "Calculate the mean of each observation<br>\n",
        "Here mean vector will have the dimension of $(M)_{mn*1}$"
      ]
    },
    {
      "cell_type": "code",
      "metadata": {
        "id": "RKDia8XXzC_T",
        "colab_type": "code",
        "colab": {
          "base_uri": "https://localhost:8080/",
          "height": 34
        },
        "outputId": "bda65d4c-83ff-4e4f-9b22-2bd1d0460c45"
      },
      "source": [
        "mean = np.mean(X_train, axis=1)\n",
        "mean = mean.reshape(mean.shape[0], 1) # convert pre ccalculated shape of (mn,) to (mn,1)\n",
        "print(mean.shape)"
      ],
      "execution_count": 8,
      "outputs": [
        {
          "output_type": "stream",
          "text": [
            "(10304, 1)\n"
          ],
          "name": "stdout"
        }
      ]
    },
    {
      "cell_type": "markdown",
      "metadata": {
        "id": "Z5cuLwdEz2Y-",
        "colab_type": "text"
      },
      "source": [
        "###3.4 Calculate Deviation Matrix\n",
        "Subtract mean face from each face image, let’s say this mean zero face data as dev."
      ]
    },
    {
      "cell_type": "code",
      "metadata": {
        "id": "4axT27EEz6et",
        "colab_type": "code",
        "colab": {
          "base_uri": "https://localhost:8080/",
          "height": 134
        },
        "outputId": "2fd8a35f-9928-4bc1-95e1-685edd35992f"
      },
      "source": [
        "dev = X_train-mean\n",
        "print(dev)"
      ],
      "execution_count": 9,
      "outputs": [
        {
          "output_type": "stream",
          "text": [
            "[[-64.425    -38.425     56.575    ...   8.575     41.575     32.575   ]\n",
            " [-67.39375  -34.39375   57.60625  ...  14.60625   41.60625   31.60625 ]\n",
            " [-62.653125 -38.653125  55.346875 ...  12.346875  41.346875  32.346875]\n",
            " ...\n",
            " [ 72.3      -12.7        1.3      ... -37.7        9.3        5.3     ]\n",
            " [ 81.50625  -15.49375    2.50625  ... -34.49375    6.50625    6.50625 ]\n",
            " [ 89.93125  -13.06875    3.93125  ... -23.06875    9.93125    5.93125 ]]\n"
          ],
          "name": "stdout"
        }
      ]
    },
    {
      "cell_type": "markdown",
      "metadata": {
        "id": "gjtf_trY0IdN",
        "colab_type": "text"
      },
      "source": [
        "###3.5 Calculate Co-Variance of the Mean aligned faces \n",
        "Hence here will get covariance matrix of p * p dimension, which is easy to compute and process, the\n",
        "idea behind computing the surrogate covariance suggested by turk and peterland that,\n",
        "these are only the valid direction where we will get maximum variances, and rest of the\n",
        "directions are insignificant to us. Menas these are direction where we will get the\n",
        "eigenvalues and for rest we will get eigenvalues equal to zero.<br>So, take two column matrix and do vector dot prodect to get a scalar and store that in cov matrix."
      ]
    },
    {
      "cell_type": "code",
      "metadata": {
        "id": "xf586AVP6A6C",
        "colab_type": "code",
        "colab": {
          "base_uri": "https://localhost:8080/",
          "height": 34
        },
        "outputId": "7d9f370a-5cf1-414d-ab78-9b63c8ea782b"
      },
      "source": [
        "# cov = np.zeros(shape=(320, 320))\n",
        "# for i in range(320):\n",
        "#   for j in range(320):\n",
        "#     cov[i, j] = np.dot(dev[:, i], dev[:, j])\n",
        "# print(cov)\n",
        "cov = np.dot(dev.T, dev) # calculating covariance matrix by above method\n",
        "                        # without using any explicit for loops\n",
        "                        # shape=p*p\n",
        "print(cov.shape)"
      ],
      "execution_count": 10,
      "outputs": [
        {
          "output_type": "stream",
          "text": [
            "(320, 320)\n"
          ],
          "name": "stdout"
        }
      ]
    },
    {
      "cell_type": "markdown",
      "metadata": {
        "id": "ozON_8uX1C3Q",
        "colab_type": "text"
      },
      "source": [
        "###3.6 Eigenvalue and Eigenvector Decomposition\n",
        "Determine eigenvalue and eigenvector and  select the best direction from p directions, for this sort the eigenvalues in the\n",
        "descending order."
      ]
    },
    {
      "cell_type": "code",
      "metadata": {
        "id": "TXIM4HDU36P_",
        "colab_type": "code",
        "colab": {
          "base_uri": "https://localhost:8080/",
          "height": 235
        },
        "outputId": "a757a84a-c0df-434c-fc6b-1e8e55e42300"
      },
      "source": [
        "lambd, V = np.linalg.eig(cov) # lambd is eigenValue and V is eigenVector\n",
        "idx = np.argsort(lambd)[::-1] # get the indices in descending order according to data\n",
        "lambd = lambd[idx] # sort the value\n",
        "V = V[:, idx] # sort the vector\n",
        "V"
      ],
      "execution_count": 11,
      "outputs": [
        {
          "output_type": "execute_result",
          "data": {
            "text/plain": [
              "array([[ 0.01619146, -0.14205076, -0.04834456, ..., -0.02417078,\n",
              "         0.00096708, -0.0559017 ],\n",
              "       [ 0.01466334,  0.05644305,  0.07213997, ...,  0.01059905,\n",
              "        -0.00629615, -0.0559017 ],\n",
              "       [ 0.02594551,  0.08169512, -0.07573807, ..., -0.01891108,\n",
              "         0.0264327 , -0.0559017 ],\n",
              "       ...,\n",
              "       [-0.06892213,  0.04050185,  0.00732537, ..., -0.01231234,\n",
              "        -0.01010536, -0.0559017 ],\n",
              "       [-0.06000398,  0.05717431, -0.06674366, ...,  0.02157954,\n",
              "         0.05177282, -0.0559017 ],\n",
              "       [-0.07397747,  0.06151273, -0.02102284, ...,  0.01594937,\n",
              "        -0.01071738, -0.0559017 ]])"
            ]
          },
          "metadata": {
            "tags": []
          },
          "execution_count": 11
        }
      ]
    },
    {
      "cell_type": "markdown",
      "metadata": {
        "id": "lvYk8cr11cl4",
        "colab_type": "text"
      },
      "source": [
        "###3.7 Selection of Prominent Features\n",
        "decide a k value, which represents the number of selected\n",
        "eigenvectors to extract k direction from all p direction. On the basis of k value we can\n",
        "generate the $Feature vector_{p*k}$"
      ]
    },
    {
      "cell_type": "code",
      "metadata": {
        "id": "f2iFRlARZAs8",
        "colab_type": "code",
        "colab": {}
      },
      "source": [
        "def n_components(k, V):\n",
        "  # choosing n-components, k\n",
        "  # V is eigenVector\n",
        "  # return k prominent feature i.e our feature vector\n",
        "  return V[:, :k]"
      ],
      "execution_count": 12,
      "outputs": []
    },
    {
      "cell_type": "code",
      "metadata": {
        "id": "wI621rGYIo1F",
        "colab_type": "code",
        "colab": {
          "base_uri": "https://localhost:8080/",
          "height": 235
        },
        "outputId": "86d59a7f-846d-4ac6-970f-78f0ad20695d"
      },
      "source": [
        "# testing if above method works fine\n",
        "feature_vec = n_components(20, V)\n",
        "print(feature_vec)"
      ],
      "execution_count": 13,
      "outputs": [
        {
          "output_type": "stream",
          "text": [
            "[[ 0.01619146 -0.14205076 -0.04834456 ... -0.0503302  -0.0312666\n",
            "  -0.04161144]\n",
            " [ 0.01466334  0.05644305  0.07213997 ...  0.01304149 -0.04017849\n",
            "   0.02979382]\n",
            " [ 0.02594551  0.08169512 -0.07573807 ...  0.03671764  0.04792784\n",
            "   0.09203496]\n",
            " ...\n",
            " [-0.06892213  0.04050185  0.00732537 ... -0.05274348  0.00949189\n",
            "   0.08832965]\n",
            " [-0.06000398  0.05717431 -0.06674366 ... -0.03730906 -0.04283503\n",
            "   0.06741606]\n",
            " [-0.07397747  0.06151273 -0.02102284 ... -0.07906485 -0.06857713\n",
            "  -0.02775076]]\n"
          ],
          "name": "stdout"
        }
      ]
    },
    {
      "cell_type": "markdown",
      "metadata": {
        "id": "ZarYJDZ11utH",
        "colab_type": "text"
      },
      "source": [
        "###3.8 Generating Eigenfaces:\n",
        "For generating the eigenfaces project the each mean aligned face to the generated feature vector\n",
        "**$(eigenfaces)_{k*mn}$ = $(featureVector)^{T}_{k*p}$ * $(dev)^{T}_{p*mn}$ **"
      ]
    },
    {
      "cell_type": "code",
      "metadata": {
        "id": "aqMrUFpgbUAF",
        "colab_type": "code",
        "colab": {}
      },
      "source": [
        "# projecting each mean aligned face and storing of shape k*mn\n",
        "def gen_eigenface(feature_vec, dev):\n",
        "  # feature_vec: Feature Vector generated using n-components\n",
        "  # dev: Deviation matrix\n",
        "  # Return: EigenFace\n",
        "  return np.dot(feature_vec.T, dev.T)"
      ],
      "execution_count": 14,
      "outputs": []
    },
    {
      "cell_type": "code",
      "metadata": {
        "id": "T4KzaBiSJc06",
        "colab_type": "code",
        "colab": {
          "base_uri": "https://localhost:8080/",
          "height": 34
        },
        "outputId": "a3c975cb-dda5-412a-d64f-2ca1f1554352"
      },
      "source": [
        "# testing if above method works fine\n",
        "eigen_faces = gen_eigenface(feature_vec, dev) \n",
        "eigen_faces.shape"
      ],
      "execution_count": 15,
      "outputs": [
        {
          "output_type": "execute_result",
          "data": {
            "text/plain": [
              "(20, 10304)"
            ]
          },
          "metadata": {
            "tags": []
          },
          "execution_count": 15
        }
      ]
    },
    {
      "cell_type": "markdown",
      "metadata": {
        "id": "L_ofCp3G9nAG",
        "colab_type": "text"
      },
      "source": [
        "###3.9 Generating Projection of Each Train Dataset "
      ]
    },
    {
      "cell_type": "code",
      "metadata": {
        "id": "sPIDAQSQbfXz",
        "colab_type": "code",
        "colab": {}
      },
      "source": [
        "def gen_projection(eigen_faces, dev):\n",
        "  # eigen_faces: Eigen Face \n",
        "  # dev: Deviation matrix\n",
        "  # Return: projection of dataset\n",
        "  return np.dot(eigen_faces, dev)"
      ],
      "execution_count": 16,
      "outputs": []
    },
    {
      "cell_type": "code",
      "metadata": {
        "id": "H6het-099tRq",
        "colab_type": "code",
        "colab": {
          "base_uri": "https://localhost:8080/",
          "height": 34
        },
        "outputId": "749b76ca-6591-476c-dd31-0e11fa7fcb98"
      },
      "source": [
        "projection_train = gen_projection(eigen_faces, dev) # shape k*p\n",
        "projection_train.shape"
      ],
      "execution_count": 17,
      "outputs": [
        {
          "output_type": "execute_result",
          "data": {
            "text/plain": [
              "(20, 320)"
            ]
          },
          "metadata": {
            "tags": []
          },
          "execution_count": 17
        }
      ]
    },
    {
      "cell_type": "markdown",
      "metadata": {
        "id": "btoELNGf2_oj",
        "colab_type": "text"
      },
      "source": [
        "##4. Steps for Testing"
      ]
    },
    {
      "cell_type": "markdown",
      "metadata": {
        "id": "B0P5YW6q6YyE",
        "colab_type": "text"
      },
      "source": [
        "### 4.1 Visualize the test set"
      ]
    },
    {
      "cell_type": "code",
      "metadata": {
        "id": "-LMrppW_3Eic",
        "colab_type": "code",
        "colab": {
          "base_uri": "https://localhost:8080/",
          "height": 151
        },
        "outputId": "90f6e215-c513-4c94-ff09-889c74c78caa"
      },
      "source": [
        "print(X_test)\n",
        "print(X_test.shape)"
      ],
      "execution_count": 18,
      "outputs": [
        {
          "output_type": "stream",
          "text": [
            "[[ 41.  96.  84. ...  36.  58. 104.]\n",
            " [ 42.  94.  96. ...  36.  48. 100.]\n",
            " [ 47.  98. 101. ...  38.  47. 101.]\n",
            " ...\n",
            " [141. 131.  36. ... 210.  31.  89.]\n",
            " [156. 136.  57. ... 205.  43.  79.]\n",
            " [149. 152.  55. ... 144.  41.  77.]]\n",
            "(10304, 80)\n"
          ],
          "name": "stdout"
        }
      ]
    },
    {
      "cell_type": "markdown",
      "metadata": {
        "id": "F37KVXaW6mMs",
        "colab_type": "text"
      },
      "source": [
        "### 4.2 DEviation of test set"
      ]
    },
    {
      "cell_type": "code",
      "metadata": {
        "id": "phsSvCnxHbnD",
        "colab_type": "code",
        "colab": {
          "base_uri": "https://localhost:8080/",
          "height": 34
        },
        "outputId": "de42364e-4190-4cfe-e867-2a9bc68ef1ff"
      },
      "source": [
        "dev_test = X_test - mean # shape mn*p\n",
        "print(dev_test.shape)"
      ],
      "execution_count": 19,
      "outputs": [
        {
          "output_type": "stream",
          "text": [
            "(10304, 80)\n"
          ],
          "name": "stdout"
        }
      ]
    },
    {
      "cell_type": "markdown",
      "metadata": {
        "id": "OntbtE3u6tGi",
        "colab_type": "text"
      },
      "source": [
        "###4.3 Project data of test set"
      ]
    },
    {
      "cell_type": "code",
      "metadata": {
        "id": "gRvchdvxHs4G",
        "colab_type": "code",
        "colab": {
          "base_uri": "https://localhost:8080/",
          "height": 34
        },
        "outputId": "f39167b0-3f94-4f4a-ecf7-69cc877ad6ca"
      },
      "source": [
        "projection = gen_projection(eigen_faces, dev_test) # project each data of test dataset, shape=k*mn\n",
        "print(projection.shape)"
      ],
      "execution_count": 20,
      "outputs": [
        {
          "output_type": "stream",
          "text": [
            "(20, 80)\n"
          ],
          "name": "stdout"
        }
      ]
    },
    {
      "cell_type": "markdown",
      "metadata": {
        "id": "i-zjmU877-Pq",
        "colab_type": "text"
      },
      "source": [
        "###4.4 Eucledian Distance Calculation"
      ]
    },
    {
      "cell_type": "code",
      "metadata": {
        "id": "jV3OTX9p4YPS",
        "colab_type": "code",
        "colab": {}
      },
      "source": [
        "def euclidean(a, b):\n",
        "  return np.sqrt(np.sum(np.power((a-b), 2)))"
      ],
      "execution_count": 21,
      "outputs": []
    },
    {
      "cell_type": "markdown",
      "metadata": {
        "id": "_eNT4lQv8Efp",
        "colab_type": "text"
      },
      "source": [
        "###4.5 Check if Above implementation is correct"
      ]
    },
    {
      "cell_type": "code",
      "metadata": {
        "id": "z14mhk577GHW",
        "colab_type": "code",
        "colab": {
          "base_uri": "https://localhost:8080/",
          "height": 67
        },
        "outputId": "27be4d58-f98f-41c4-ae28-c4a5ab4c17fd"
      },
      "source": [
        "a = np.array([1, 2])\n",
        "b = np.array([1, 2])\n",
        "print(a);print(b)\n",
        "euclidean(a, b)"
      ],
      "execution_count": 22,
      "outputs": [
        {
          "output_type": "stream",
          "text": [
            "[1 2]\n",
            "[1 2]\n"
          ],
          "name": "stdout"
        },
        {
          "output_type": "execute_result",
          "data": {
            "text/plain": [
              "0.0"
            ]
          },
          "metadata": {
            "tags": []
          },
          "execution_count": 22
        }
      ]
    },
    {
      "cell_type": "markdown",
      "metadata": {
        "id": "01j_DsV48acu",
        "colab_type": "text"
      },
      "source": [
        "###4.6 Method for calculating closest match"
      ]
    },
    {
      "cell_type": "code",
      "metadata": {
        "id": "GZ2CcXHy3XFA",
        "colab_type": "code",
        "colab": {}
      },
      "source": [
        "def predict(d):\n",
        "  # d: projection of testing images\n",
        "  minDist = np.finfo('float').max # initialize with max value\n",
        "  minClass = -1 # default closest match initialized\n",
        "  \n",
        "  for i in range(projection_train.shape[1]):\n",
        "    dist = euclidean(projection_train[:, i], d)\n",
        "    if dist < minDist:\n",
        "      minDist = dist\n",
        "      minClass = y_train[i]\n",
        "  return minClass"
      ],
      "execution_count": 23,
      "outputs": []
    },
    {
      "cell_type": "code",
      "metadata": {
        "id": "WmBw8F208_FK",
        "colab_type": "code",
        "colab": {
          "base_uri": "https://localhost:8080/",
          "height": 1000
        },
        "outputId": "55bd7f92-a958-43b7-f9c3-edd011c2d6d8"
      },
      "source": [
        "correctlyLabeled = 0\n",
        "for i in range(projection.shape[1]):\n",
        "  predicted = predict(projection[:, i])\n",
        "  if(predicted == y_test[i]):\n",
        "    correctlyLabeled += 1\n",
        "  print(\"predicted: \", predicted, \"correct: \", y_test[i])\n",
        "accuracy = correctlyLabeled/projection.shape[1]\n",
        "accuracy"
      ],
      "execution_count": 24,
      "outputs": [
        {
          "output_type": "stream",
          "text": [
            "predicted:  [14] correct:  [14]\n",
            "predicted:  [31] correct:  [31]\n",
            "predicted:  [35] correct:  [35]\n",
            "predicted:  [20] correct:  [20]\n",
            "predicted:  [25] correct:  [25]\n",
            "predicted:  [7] correct:  [7]\n",
            "predicted:  [16] correct:  [16]\n",
            "predicted:  [27] correct:  [27]\n",
            "predicted:  [15] correct:  [15]\n",
            "predicted:  [22] correct:  [22]\n",
            "predicted:  [35] correct:  [4]\n",
            "predicted:  [14] correct:  [14]\n",
            "predicted:  [12] correct:  [12]\n",
            "predicted:  [40] correct:  [35]\n",
            "predicted:  [2] correct:  [2]\n",
            "predicted:  [6] correct:  [6]\n",
            "predicted:  [30] correct:  [30]\n",
            "predicted:  [15] correct:  [15]\n",
            "predicted:  [21] correct:  [21]\n",
            "predicted:  [20] correct:  [20]\n",
            "predicted:  [18] correct:  [18]\n",
            "predicted:  [27] correct:  [27]\n",
            "predicted:  [13] correct:  [13]\n",
            "predicted:  [15] correct:  [35]\n",
            "predicted:  [18] correct:  [18]\n",
            "predicted:  [2] correct:  [32]\n",
            "predicted:  [8] correct:  [8]\n",
            "predicted:  [2] correct:  [2]\n",
            "predicted:  [29] correct:  [29]\n",
            "predicted:  [11] correct:  [11]\n",
            "predicted:  [18] correct:  [18]\n",
            "predicted:  [31] correct:  [31]\n",
            "predicted:  [34] correct:  [34]\n",
            "predicted:  [23] correct:  [23]\n",
            "predicted:  [7] correct:  [7]\n",
            "predicted:  [8] correct:  [8]\n",
            "predicted:  [10] correct:  [10]\n",
            "predicted:  [18] correct:  [18]\n",
            "predicted:  [18] correct:  [18]\n",
            "predicted:  [40] correct:  [40]\n",
            "predicted:  [11] correct:  [11]\n",
            "predicted:  [33] correct:  [33]\n",
            "predicted:  [1] correct:  [1]\n",
            "predicted:  [1] correct:  [1]\n",
            "predicted:  [30] correct:  [30]\n",
            "predicted:  [6] correct:  [6]\n",
            "predicted:  [38] correct:  [38]\n",
            "predicted:  [26] correct:  [26]\n",
            "predicted:  [16] correct:  [16]\n",
            "predicted:  [24] correct:  [24]\n",
            "predicted:  [25] correct:  [25]\n",
            "predicted:  [15] correct:  [15]\n",
            "predicted:  [30] correct:  [30]\n",
            "predicted:  [13] correct:  [18]\n",
            "predicted:  [29] correct:  [29]\n",
            "predicted:  [32] correct:  [32]\n",
            "predicted:  [6] correct:  [6]\n",
            "predicted:  [2] correct:  [2]\n",
            "predicted:  [3] correct:  [3]\n",
            "predicted:  [5] correct:  [5]\n",
            "predicted:  [8] correct:  [8]\n",
            "predicted:  [28] correct:  [28]\n",
            "predicted:  [1] correct:  [1]\n",
            "predicted:  [36] correct:  [36]\n",
            "predicted:  [20] correct:  [20]\n",
            "predicted:  [38] correct:  [38]\n",
            "predicted:  [15] correct:  [15]\n",
            "predicted:  [16] correct:  [1]\n",
            "predicted:  [16] correct:  [16]\n",
            "predicted:  [32] correct:  [32]\n",
            "predicted:  [1] correct:  [1]\n",
            "predicted:  [27] correct:  [27]\n",
            "predicted:  [7] correct:  [7]\n",
            "predicted:  [3] correct:  [3]\n",
            "predicted:  [11] correct:  [11]\n",
            "predicted:  [2] correct:  [2]\n",
            "predicted:  [37] correct:  [37]\n",
            "predicted:  [31] correct:  [31]\n",
            "predicted:  [37] correct:  [37]\n",
            "predicted:  [33] correct:  [33]\n"
          ],
          "name": "stdout"
        },
        {
          "output_type": "execute_result",
          "data": {
            "text/plain": [
              "0.925"
            ]
          },
          "metadata": {
            "tags": []
          },
          "execution_count": 24
        }
      ]
    },
    {
      "cell_type": "markdown",
      "metadata": {
        "id": "pLF1xQ1ebxtI",
        "colab_type": "text"
      },
      "source": [
        "##5. Check for Different K Value"
      ]
    },
    {
      "cell_type": "code",
      "metadata": {
        "id": "QVG5h4hNb3JZ",
        "colab_type": "code",
        "colab": {
          "base_uri": "https://localhost:8080/",
          "height": 34
        },
        "outputId": "de7861fa-85e6-4a28-9588-b28c8ad04cbd"
      },
      "source": [
        "accuracy = []\n",
        "K = []\n",
        "for i in range(2, 82, 20):\n",
        "  K.append(i)\n",
        "K"
      ],
      "execution_count": 25,
      "outputs": [
        {
          "output_type": "execute_result",
          "data": {
            "text/plain": [
              "[2, 22, 42, 62]"
            ]
          },
          "metadata": {
            "tags": []
          },
          "execution_count": 25
        }
      ]
    },
    {
      "cell_type": "code",
      "metadata": {
        "id": "9Nq4iynWiY9d",
        "colab_type": "code",
        "colab": {
          "base_uri": "https://localhost:8080/",
          "height": 34
        },
        "outputId": "6b99bfb5-3b75-40af-8d11-349ec5cd5a2e"
      },
      "source": [
        "for k in K:\n",
        "  feature_vec = n_components(k, V)\n",
        "  # print(feature_vec.shape)\n",
        "  eigenFace_train = gen_eigenface(feature_vec, dev)\n",
        "  # print(eigenFace_train.shape)\n",
        "  projection_train = gen_projection(eigenFace_train, dev)\n",
        "  # print(projection_train.shape)\n",
        "  projection_test = gen_projection(eigenFace_train, dev_test)\n",
        "  # print(projection_test.shape)\n",
        "  correctlMatch = 0\n",
        "  for i in range(projection_test.shape[1]):\n",
        "    predicted = predict(projection_test[:, i])\n",
        "    if(predicted == y_test[i]):\n",
        "      correctlMatch += 1\n",
        "  accuracy.append(correctlMatch/projection_test.shape[1])\n",
        "print(accuracy)"
      ],
      "execution_count": 26,
      "outputs": [
        {
          "output_type": "stream",
          "text": [
            "[0.3, 0.925, 0.925, 0.925]\n"
          ],
          "name": "stdout"
        }
      ]
    },
    {
      "cell_type": "markdown",
      "metadata": {
        "id": "J-yE-5YNlS1H",
        "colab_type": "text"
      },
      "source": [
        "## 6. Plotting Accuracy Vs K Value"
      ]
    },
    {
      "cell_type": "code",
      "metadata": {
        "id": "buhl-WyilYHa",
        "colab_type": "code",
        "colab": {
          "base_uri": "https://localhost:8080/",
          "height": 295
        },
        "outputId": "0d0bc9c4-2456-4ab0-a328-bb0373ef10f0"
      },
      "source": [
        "plt.plot(K, accuracy)\n",
        "plt.xlabel('k value')\n",
        "plt.ylabel('accuracy') \n",
        "plt.title('accuracy vs k!')\n",
        "plt.show()"
      ],
      "execution_count": 27,
      "outputs": [
        {
          "output_type": "display_data",
          "data": {
            "image/png": "[encoded data removed]",
            "text/plain": [
              "<Figure size 432x288 with 1 Axes>"
            ]
          },
          "metadata": {
            "tags": [],
            "needs_background": "light"
          }
        }
      ]
    }
  ]
}